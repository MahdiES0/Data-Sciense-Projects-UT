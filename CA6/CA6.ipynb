{
 "cells": [
  {
   "cell_type": "code",
   "execution_count": 1,
   "metadata": {},
   "outputs": [],
   "source": [
    "import pandas as pd\n",
    "import numpy as np\n",
    "from sklearn.preprocessing import StandardScaler, OneHotEncoder\n",
    "from sklearn.impute import SimpleImputer\n",
    "from sklearn.decomposition import PCA\n",
    "from sklearn.cluster import KMeans\n",
    "from sklearn.cluster import DBSCAN\n",
    "from sklearn.metrics import silhouette_score\n",
    "import matplotlib.pyplot as plt\n",
    "from sklearn.impute import KNNImputer\n",
    "from sklearn.preprocessing import LabelEncoder\n",
    "from sklearn.experimental import enable_iterative_imputer\n",
    "from sklearn.impute import IterativeImputer\n",
    "from sklearn.preprocessing import OrdinalEncoder"
   ]
  },
  {
   "cell_type": "code",
   "execution_count": 2,
   "metadata": {},
   "outputs": [
    {
     "name": "stdout",
     "output_type": "stream",
     "text": [
      "<class 'pandas.core.frame.DataFrame'>\n",
      "RangeIndex: 101766 entries, 0 to 101765\n",
      "Data columns (total 50 columns):\n",
      " #   Column                    Non-Null Count   Dtype \n",
      "---  ------                    --------------   ----- \n",
      " 0   encounter_id              101766 non-null  int64 \n",
      " 1   patient_nbr               101766 non-null  int64 \n",
      " 2   race                      101766 non-null  object\n",
      " 3   gender                    101766 non-null  object\n",
      " 4   age                       101766 non-null  object\n",
      " 5   weight                    101766 non-null  object\n",
      " 6   admission_type_id         101766 non-null  int64 \n",
      " 7   discharge_disposition_id  101766 non-null  int64 \n",
      " 8   admission_source_id       101766 non-null  int64 \n",
      " 9   time_in_hospital          101766 non-null  int64 \n",
      " 10  payer_code                101766 non-null  object\n",
      " 11  medical_specialty         101766 non-null  object\n",
      " 12  num_lab_procedures        101766 non-null  int64 \n",
      " 13  num_procedures            101766 non-null  int64 \n",
      " 14  num_medications           101766 non-null  int64 \n",
      " 15  number_outpatient         101766 non-null  int64 \n",
      " 16  number_emergency          101766 non-null  int64 \n",
      " 17  number_inpatient          101766 non-null  int64 \n",
      " 18  diag_1                    101766 non-null  object\n",
      " 19  diag_2                    101766 non-null  object\n",
      " 20  diag_3                    101766 non-null  object\n",
      " 21  number_diagnoses          101766 non-null  int64 \n",
      " 22  max_glu_serum             5346 non-null    object\n",
      " 23  A1Cresult                 17018 non-null   object\n",
      " 24  metformin                 101766 non-null  object\n",
      " 25  repaglinide               101766 non-null  object\n",
      " 26  nateglinide               101766 non-null  object\n",
      " 27  chlorpropamide            101766 non-null  object\n",
      " 28  glimepiride               101766 non-null  object\n",
      " 29  acetohexamide             101766 non-null  object\n",
      " 30  glipizide                 101766 non-null  object\n",
      " 31  glyburide                 101766 non-null  object\n",
      " 32  tolbutamide               101766 non-null  object\n",
      " 33  pioglitazone              101766 non-null  object\n",
      " 34  rosiglitazone             101766 non-null  object\n",
      " 35  acarbose                  101766 non-null  object\n",
      " 36  miglitol                  101766 non-null  object\n",
      " 37  troglitazone              101766 non-null  object\n",
      " 38  tolazamide                101766 non-null  object\n",
      " 39  examide                   101766 non-null  object\n",
      " 40  citoglipton               101766 non-null  object\n",
      " 41  insulin                   101766 non-null  object\n",
      " 42  glyburide-metformin       101766 non-null  object\n",
      " 43  glipizide-metformin       101766 non-null  object\n",
      " 44  glimepiride-pioglitazone  101766 non-null  object\n",
      " 45  metformin-rosiglitazone   101766 non-null  object\n",
      " 46  metformin-pioglitazone    101766 non-null  object\n",
      " 47  change                    101766 non-null  object\n",
      " 48  diabetesMed               101766 non-null  object\n",
      " 49  readmitted                101766 non-null  object\n",
      "dtypes: int64(13), object(37)\n",
      "memory usage: 38.8+ MB\n"
     ]
    },
    {
     "data": {
      "text/html": [
       "<div>\n",
       "<style scoped>\n",
       "    .dataframe tbody tr th:only-of-type {\n",
       "        vertical-align: middle;\n",
       "    }\n",
       "\n",
       "    .dataframe tbody tr th {\n",
       "        vertical-align: top;\n",
       "    }\n",
       "\n",
       "    .dataframe thead th {\n",
       "        text-align: right;\n",
       "    }\n",
       "</style>\n",
       "<table border=\"1\" class=\"dataframe\">\n",
       "  <thead>\n",
       "    <tr style=\"text-align: right;\">\n",
       "      <th></th>\n",
       "      <th>encounter_id</th>\n",
       "      <th>patient_nbr</th>\n",
       "      <th>race</th>\n",
       "      <th>gender</th>\n",
       "      <th>age</th>\n",
       "      <th>weight</th>\n",
       "      <th>admission_type_id</th>\n",
       "      <th>discharge_disposition_id</th>\n",
       "      <th>admission_source_id</th>\n",
       "      <th>time_in_hospital</th>\n",
       "      <th>...</th>\n",
       "      <th>citoglipton</th>\n",
       "      <th>insulin</th>\n",
       "      <th>glyburide-metformin</th>\n",
       "      <th>glipizide-metformin</th>\n",
       "      <th>glimepiride-pioglitazone</th>\n",
       "      <th>metformin-rosiglitazone</th>\n",
       "      <th>metformin-pioglitazone</th>\n",
       "      <th>change</th>\n",
       "      <th>diabetesMed</th>\n",
       "      <th>readmitted</th>\n",
       "    </tr>\n",
       "  </thead>\n",
       "  <tbody>\n",
       "    <tr>\n",
       "      <th>0</th>\n",
       "      <td>2278392</td>\n",
       "      <td>8222157</td>\n",
       "      <td>Caucasian</td>\n",
       "      <td>Female</td>\n",
       "      <td>[0-10)</td>\n",
       "      <td>?</td>\n",
       "      <td>6</td>\n",
       "      <td>25</td>\n",
       "      <td>1</td>\n",
       "      <td>1</td>\n",
       "      <td>...</td>\n",
       "      <td>No</td>\n",
       "      <td>No</td>\n",
       "      <td>No</td>\n",
       "      <td>No</td>\n",
       "      <td>No</td>\n",
       "      <td>No</td>\n",
       "      <td>No</td>\n",
       "      <td>No</td>\n",
       "      <td>No</td>\n",
       "      <td>NO</td>\n",
       "    </tr>\n",
       "    <tr>\n",
       "      <th>1</th>\n",
       "      <td>149190</td>\n",
       "      <td>55629189</td>\n",
       "      <td>Caucasian</td>\n",
       "      <td>Female</td>\n",
       "      <td>[10-20)</td>\n",
       "      <td>?</td>\n",
       "      <td>1</td>\n",
       "      <td>1</td>\n",
       "      <td>7</td>\n",
       "      <td>3</td>\n",
       "      <td>...</td>\n",
       "      <td>No</td>\n",
       "      <td>Up</td>\n",
       "      <td>No</td>\n",
       "      <td>No</td>\n",
       "      <td>No</td>\n",
       "      <td>No</td>\n",
       "      <td>No</td>\n",
       "      <td>Ch</td>\n",
       "      <td>Yes</td>\n",
       "      <td>&gt;30</td>\n",
       "    </tr>\n",
       "    <tr>\n",
       "      <th>2</th>\n",
       "      <td>64410</td>\n",
       "      <td>86047875</td>\n",
       "      <td>AfricanAmerican</td>\n",
       "      <td>Female</td>\n",
       "      <td>[20-30)</td>\n",
       "      <td>?</td>\n",
       "      <td>1</td>\n",
       "      <td>1</td>\n",
       "      <td>7</td>\n",
       "      <td>2</td>\n",
       "      <td>...</td>\n",
       "      <td>No</td>\n",
       "      <td>No</td>\n",
       "      <td>No</td>\n",
       "      <td>No</td>\n",
       "      <td>No</td>\n",
       "      <td>No</td>\n",
       "      <td>No</td>\n",
       "      <td>No</td>\n",
       "      <td>Yes</td>\n",
       "      <td>NO</td>\n",
       "    </tr>\n",
       "    <tr>\n",
       "      <th>3</th>\n",
       "      <td>500364</td>\n",
       "      <td>82442376</td>\n",
       "      <td>Caucasian</td>\n",
       "      <td>Male</td>\n",
       "      <td>[30-40)</td>\n",
       "      <td>?</td>\n",
       "      <td>1</td>\n",
       "      <td>1</td>\n",
       "      <td>7</td>\n",
       "      <td>2</td>\n",
       "      <td>...</td>\n",
       "      <td>No</td>\n",
       "      <td>Up</td>\n",
       "      <td>No</td>\n",
       "      <td>No</td>\n",
       "      <td>No</td>\n",
       "      <td>No</td>\n",
       "      <td>No</td>\n",
       "      <td>Ch</td>\n",
       "      <td>Yes</td>\n",
       "      <td>NO</td>\n",
       "    </tr>\n",
       "    <tr>\n",
       "      <th>4</th>\n",
       "      <td>16680</td>\n",
       "      <td>42519267</td>\n",
       "      <td>Caucasian</td>\n",
       "      <td>Male</td>\n",
       "      <td>[40-50)</td>\n",
       "      <td>?</td>\n",
       "      <td>1</td>\n",
       "      <td>1</td>\n",
       "      <td>7</td>\n",
       "      <td>1</td>\n",
       "      <td>...</td>\n",
       "      <td>No</td>\n",
       "      <td>Steady</td>\n",
       "      <td>No</td>\n",
       "      <td>No</td>\n",
       "      <td>No</td>\n",
       "      <td>No</td>\n",
       "      <td>No</td>\n",
       "      <td>Ch</td>\n",
       "      <td>Yes</td>\n",
       "      <td>NO</td>\n",
       "    </tr>\n",
       "  </tbody>\n",
       "</table>\n",
       "<p>5 rows × 50 columns</p>\n",
       "</div>"
      ],
      "text/plain": [
       "   encounter_id  patient_nbr             race  gender      age weight  \\\n",
       "0       2278392      8222157        Caucasian  Female   [0-10)      ?   \n",
       "1        149190     55629189        Caucasian  Female  [10-20)      ?   \n",
       "2         64410     86047875  AfricanAmerican  Female  [20-30)      ?   \n",
       "3        500364     82442376        Caucasian    Male  [30-40)      ?   \n",
       "4         16680     42519267        Caucasian    Male  [40-50)      ?   \n",
       "\n",
       "   admission_type_id  discharge_disposition_id  admission_source_id  \\\n",
       "0                  6                        25                    1   \n",
       "1                  1                         1                    7   \n",
       "2                  1                         1                    7   \n",
       "3                  1                         1                    7   \n",
       "4                  1                         1                    7   \n",
       "\n",
       "   time_in_hospital  ... citoglipton insulin  glyburide-metformin  \\\n",
       "0                 1  ...          No      No                   No   \n",
       "1                 3  ...          No      Up                   No   \n",
       "2                 2  ...          No      No                   No   \n",
       "3                 2  ...          No      Up                   No   \n",
       "4                 1  ...          No  Steady                   No   \n",
       "\n",
       "   glipizide-metformin  glimepiride-pioglitazone  metformin-rosiglitazone  \\\n",
       "0                   No                        No                       No   \n",
       "1                   No                        No                       No   \n",
       "2                   No                        No                       No   \n",
       "3                   No                        No                       No   \n",
       "4                   No                        No                       No   \n",
       "\n",
       "   metformin-pioglitazone  change diabetesMed readmitted  \n",
       "0                      No      No          No         NO  \n",
       "1                      No      Ch         Yes        >30  \n",
       "2                      No      No         Yes         NO  \n",
       "3                      No      Ch         Yes         NO  \n",
       "4                      No      Ch         Yes         NO  \n",
       "\n",
       "[5 rows x 50 columns]"
      ]
     },
     "execution_count": 2,
     "metadata": {},
     "output_type": "execute_result"
    }
   ],
   "source": [
    "data = pd.read_csv('diabetic_data.csv')\n",
    "\n",
    "data.describe()\n",
    "data.info()\n",
    "data.head()"
   ]
  },
  {
   "cell_type": "code",
   "execution_count": 3,
   "metadata": {},
   "outputs": [],
   "source": [
    "def print_unique_elements(df, columns):\n",
    "    for column in columns:\n",
    "        try:\n",
    "            print(f\"\\033[94m{column}\\033[0m:\")\n",
    "            unique_counts = df[column].value_counts()\n",
    "            i = 0\n",
    "            for value, count in unique_counts.items():\n",
    "                i = i + 1\n",
    "                print(f\"        \\033[91m{value}\\033[0m {count}\")\n",
    "        except KeyError:\n",
    "            print(f\"    Column '{column}' not found in the DataFrame.\")"
   ]
  },
  {
   "cell_type": "code",
   "execution_count": 4,
   "metadata": {},
   "outputs": [
    {
     "name": "stdout",
     "output_type": "stream",
     "text": [
      "Index(['encounter_id', 'patient_nbr', 'race', 'gender', 'age', 'weight',\n",
      "       'admission_type_id', 'discharge_disposition_id', 'admission_source_id',\n",
      "       'time_in_hospital', 'payer_code', 'medical_specialty',\n",
      "       'num_lab_procedures', 'num_procedures', 'num_medications',\n",
      "       'number_outpatient', 'number_emergency', 'number_inpatient', 'diag_1',\n",
      "       'diag_2', 'diag_3', 'number_diagnoses', 'max_glu_serum', 'A1Cresult',\n",
      "       'metformin', 'repaglinide', 'nateglinide', 'chlorpropamide',\n",
      "       'glimepiride', 'acetohexamide', 'glipizide', 'glyburide', 'tolbutamide',\n",
      "       'pioglitazone', 'rosiglitazone', 'acarbose', 'miglitol', 'troglitazone',\n",
      "       'tolazamide', 'examide', 'citoglipton', 'insulin',\n",
      "       'glyburide-metformin', 'glipizide-metformin',\n",
      "       'glimepiride-pioglitazone', 'metformin-rosiglitazone',\n",
      "       'metformin-pioglitazone', 'change', 'diabetesMed', 'readmitted'],\n",
      "      dtype='object')\n"
     ]
    }
   ],
   "source": [
    "print (data.columns)"
   ]
  },
  {
   "cell_type": "code",
   "execution_count": 13,
   "metadata": {},
   "outputs": [],
   "source": [
    "data['admission_type_id'].replace([5,6,8], np.nan, inplace=True)\n",
    "data['discharge_disposition_id'].replace([18,25,26], np.nan, inplace=True)\n",
    "data['admission_source_id'].replace([9,15,17,20, 21], np.nan, inplace=True)"
   ]
  },
  {
   "cell_type": "code",
   "execution_count": 14,
   "metadata": {},
   "outputs": [
    {
     "name": "stdout",
     "output_type": "stream",
     "text": [
      "The count of ? in the column 'race' is: 2273 equals to 2.23% missing values.\n",
      "The count of Unknown/Invalid in the column 'gender' is: 3 equals to 0.00% missing values.\n",
      "The count of ? in the column 'weight' is: 98569 equals to 96.86% missing values.\n",
      "The count of ? in the column 'payer_code' is: 40256 equals to 39.56% missing values.\n",
      "The count of ? in the column 'medical_specialty' is: 49949 equals to 49.08% missing values.\n",
      "The count of ? in the column 'diag_1' is: 21 equals to 0.02% missing values.\n",
      "The count of ? in the column 'diag_2' is: 358 equals to 0.35% missing values.\n",
      "The count of ? in the column 'diag_3' is: 1423 equals to 1.40% missing values.\n",
      "admission_type_id: Count = 10396, Percentage = 10.22%\n",
      "discharge_disposition_id: Count = 4680, Percentage = 4.60%\n",
      "admission_source_id: Count = 7067, Percentage = 6.94%\n",
      "max_glu_serum: Count = 96420, Percentage = 94.75%\n",
      "A1Cresult: Count = 84748, Percentage = 83.28%\n"
     ]
    }
   ],
   "source": [
    "\n",
    "def print_missing_counts(df, null_values):\n",
    "    for col in df.select_dtypes(include=['object']).columns:\n",
    "        \n",
    "        for val in null_values :\n",
    "            count = df[col].value_counts().get(val, 0)\n",
    "            if count > 0:\n",
    "                print(f\"The count of {val} in the column '{col}' is: {count} equals to {((count/df.shape[0])*100):.2f}% missing values.\")\n",
    "\n",
    "    nas = df.isna().sum()\n",
    "    nas = nas[nas > 0]\n",
    "    nas_percentage = nas / len(df) * 100\n",
    "    for column in nas.index:\n",
    "        print(f\"{column}: Count = {nas[column]}, Percentage = {nas_percentage[column]:.2f}%\")\n",
    "\n",
    "print_missing_counts(data, ['?', 'Unknown/Invalid'])"
   ]
  },
  {
   "cell_type": "code",
   "execution_count": 15,
   "metadata": {},
   "outputs": [
    {
     "name": "stdout",
     "output_type": "stream",
     "text": [
      "\u001b[94mtolbutamide\u001b[0m:\n",
      "        \u001b[91mNo\u001b[0m 101743\n",
      "        \u001b[91mSteady\u001b[0m 23\n"
     ]
    }
   ],
   "source": [
    "print_unique_elements(data, ['tolbutamide'])"
   ]
  },
  {
   "cell_type": "code",
   "execution_count": 85,
   "metadata": {},
   "outputs": [
    {
     "data": {
      "text/plain": [
       "array(['Female', 'Male'], dtype=object)"
      ]
     },
     "execution_count": 85,
     "metadata": {},
     "output_type": "execute_result"
    }
   ],
   "source": [
    "no_missing = data[data['gender'] != 'Unknown/Invalid']\n",
    "no_missing['gender'].unique()"
   ]
  },
  {
   "cell_type": "markdown",
   "metadata": {},
   "source": [
    "this fields have significant number of missing values and dosen't have high importance in data so we can ignore them ."
   ]
  },
  {
   "cell_type": "code",
   "execution_count": 86,
   "metadata": {},
   "outputs": [],
   "source": [
    "no_missing = no_missing.drop(columns=['max_glu_serum', 'A1Cresult', 'payer_code', 'weight',  'medical_specialty'])"
   ]
  },
  {
   "cell_type": "markdown",
   "metadata": {},
   "source": [
    "but medical_specialty has high importance in data so we imputed it despite significant number of missing values ."
   ]
  },
  {
   "cell_type": "code",
   "execution_count": 87,
   "metadata": {},
   "outputs": [
    {
     "name": "stdout",
     "output_type": "stream",
     "text": [
      "column encounter_id dropped cause it has more than 90.0% unique values!\n",
      "column nateglinide dropped cause it has a value by more than 99.0% proportion!\n",
      "column chlorpropamide dropped cause it has a value by more than 99.0% proportion!\n",
      "column acetohexamide dropped cause it has a value by more than 99.0% proportion!\n",
      "column tolbutamide dropped cause it has a value by more than 99.0% proportion!\n",
      "column acarbose dropped cause it has a value by more than 99.0% proportion!\n",
      "column miglitol dropped cause it has a value by more than 99.0% proportion!\n",
      "column troglitazone dropped cause it has a value by more than 99.0% proportion!\n",
      "column tolazamide dropped cause it has a value by more than 99.0% proportion!\n",
      "column examide dropped cause it has a value by more than 99.0% proportion!\n",
      "column citoglipton dropped cause it has a value by more than 99.0% proportion!\n",
      "column glyburide-metformin dropped cause it has a value by more than 99.0% proportion!\n",
      "column glipizide-metformin dropped cause it has a value by more than 99.0% proportion!\n",
      "column glimepiride-pioglitazone dropped cause it has a value by more than 99.0% proportion!\n",
      "column metformin-rosiglitazone dropped cause it has a value by more than 99.0% proportion!\n",
      "column metformin-pioglitazone dropped cause it has a value by more than 99.0% proportion!\n",
      "<class 'pandas.core.frame.DataFrame'>\n",
      "Index: 101763 entries, 0 to 101765\n",
      "Data columns (total 29 columns):\n",
      " #   Column                    Non-Null Count   Dtype  \n",
      "---  ------                    --------------   -----  \n",
      " 0   patient_nbr               101763 non-null  int64  \n",
      " 1   race                      101763 non-null  object \n",
      " 2   gender                    101763 non-null  object \n",
      " 3   age                       101763 non-null  object \n",
      " 4   admission_type_id         91367 non-null   float64\n",
      " 5   discharge_disposition_id  97083 non-null   float64\n",
      " 6   admission_source_id       94696 non-null   float64\n",
      " 7   time_in_hospital          101763 non-null  int64  \n",
      " 8   num_lab_procedures        101763 non-null  int64  \n",
      " 9   num_procedures            101763 non-null  int64  \n",
      " 10  num_medications           101763 non-null  int64  \n",
      " 11  number_outpatient         101763 non-null  int64  \n",
      " 12  number_emergency          101763 non-null  int64  \n",
      " 13  number_inpatient          101763 non-null  int64  \n",
      " 14  diag_1                    101763 non-null  object \n",
      " 15  diag_2                    101763 non-null  object \n",
      " 16  diag_3                    101763 non-null  object \n",
      " 17  number_diagnoses          101763 non-null  int64  \n",
      " 18  metformin                 101763 non-null  object \n",
      " 19  repaglinide               101763 non-null  object \n",
      " 20  glimepiride               101763 non-null  object \n",
      " 21  glipizide                 101763 non-null  object \n",
      " 22  glyburide                 101763 non-null  object \n",
      " 23  pioglitazone              101763 non-null  object \n",
      " 24  rosiglitazone             101763 non-null  object \n",
      " 25  insulin                   101763 non-null  object \n",
      " 26  change                    101763 non-null  object \n",
      " 27  diabetesMed               101763 non-null  object \n",
      " 28  readmitted                101763 non-null  object \n",
      "dtypes: float64(3), int64(9), object(17)\n",
      "memory usage: 23.3+ MB\n"
     ]
    }
   ],
   "source": [
    "def drop_columns(df, distinct_percentage, value_proportion_percentage):\n",
    "    for col in df.columns:\n",
    "        if df[col].nunique() / len(df) > distinct_percentage:\n",
    "            print(f'column {col} dropped cause it has more than {distinct_percentage * 100}% unique values!')\n",
    "            df = df.drop(col, axis=1)\n",
    "\n",
    "    for col in df.columns:\n",
    "        if any((df[col].value_counts() / len(df)) > value_proportion_percentage):\n",
    "            print(f'column {col} dropped cause it has a value by more than {value_proportion_percentage * 100}% proportion!')\n",
    "            df = df.drop(col, axis=1)\n",
    "\n",
    "    return df\n",
    "\n",
    "no_missing = drop_columns(no_missing, 0.90, 0.99)\n",
    "no_missing.info()"
   ]
  },
  {
   "cell_type": "code",
   "execution_count": 88,
   "metadata": {},
   "outputs": [],
   "source": [
    "no_missing = no_missing.replace('?', np.nan)"
   ]
  },
  {
   "cell_type": "code",
   "execution_count": 89,
   "metadata": {},
   "outputs": [
    {
     "name": "stdout",
     "output_type": "stream",
     "text": [
      "race: Count = 2271, Percentage = 2.23%\n",
      "admission_type_id: Count = 10396, Percentage = 10.22%\n",
      "discharge_disposition_id: Count = 4680, Percentage = 4.60%\n",
      "admission_source_id: Count = 7067, Percentage = 6.94%\n",
      "diag_1: Count = 21, Percentage = 0.02%\n",
      "diag_2: Count = 358, Percentage = 0.35%\n",
      "diag_3: Count = 1423, Percentage = 1.40%\n"
     ]
    }
   ],
   "source": [
    "print_missing_counts(no_missing, ['?', 'Unknown/Invalid'])"
   ]
  },
  {
   "cell_type": "code",
   "execution_count": 90,
   "metadata": {},
   "outputs": [
    {
     "name": "stdout",
     "output_type": "stream",
     "text": [
      "race: Count = 2271, Percentage = 2.23%\n",
      "admission_type_id: Count = 10396, Percentage = 10.22%\n",
      "discharge_disposition_id: Count = 4680, Percentage = 4.60%\n",
      "admission_source_id: Count = 7067, Percentage = 6.94%\n",
      "diag_1: Count = 21, Percentage = 0.02%\n",
      "diag_2: Count = 358, Percentage = 0.35%\n",
      "diag_3: Count = 1423, Percentage = 1.40%\n"
     ]
    }
   ],
   "source": [
    "print_missing_counts(no_missing, ['?'])"
   ]
  },
  {
   "cell_type": "code",
   "execution_count": 91,
   "metadata": {},
   "outputs": [],
   "source": [
    "import gc\n",
    "\n",
    "def label_encode(df):\n",
    "    label_encoders = {}\n",
    "\n",
    "    object_columns = df.select_dtypes(include=['object']).columns\n",
    "\n",
    "    for column in object_columns:\n",
    "        le = LabelEncoder()\n",
    "        \n",
    "        non_null_mask = df[column].notnull()\n",
    "        non_null_values = df[column][non_null_mask]\n",
    "        \n",
    "        encoded_values = le.fit_transform(non_null_values)\n",
    "        \n",
    "        full_encoded = pd.Series(index=df[column].index, data=np.nan, dtype=float)\n",
    "        \n",
    "        full_encoded[non_null_mask] = encoded_values\n",
    "        \n",
    "        df[column] = full_encoded\n",
    "        \n",
    "        del full_encoded\n",
    "        \n",
    "        gc.collect()\n",
    "        \n",
    "        print(f\"{column} labels: \", dict(zip(le.classes_, le.transform(le.classes_))))\n",
    "        label_encoders[column] = le\n",
    "\n",
    "    return df, label_encoders\n"
   ]
  },
  {
   "cell_type": "code",
   "execution_count": 92,
   "metadata": {},
   "outputs": [
    {
     "name": "stdout",
     "output_type": "stream",
     "text": [
      "race labels:  {'AfricanAmerican': 0, 'Asian': 1, 'Caucasian': 2, 'Hispanic': 3, 'Other': 4}\n",
      "gender labels:  {'Female': 0, 'Male': 1}\n",
      "age labels:  {'[0-10)': 0, '[10-20)': 1, '[20-30)': 2, '[30-40)': 3, '[40-50)': 4, '[50-60)': 5, '[60-70)': 6, '[70-80)': 7, '[80-90)': 8, '[90-100)': 9}\n",
      "diag_1 labels:  {'10': 0, '11': 1, '110': 2, '112': 3, '114': 4, '115': 5, '117': 6, '131': 7, '133': 8, '135': 9, '136': 10, '141': 11, '142': 12, '143': 13, '145': 14, '146': 15, '147': 16, '148': 17, '149': 18, '150': 19, '151': 20, '152': 21, '153': 22, '154': 23, '155': 24, '156': 25, '157': 26, '158': 27, '160': 28, '161': 29, '162': 30, '163': 31, '164': 32, '170': 33, '171': 34, '172': 35, '173': 36, '174': 37, '175': 38, '179': 39, '180': 40, '182': 41, '183': 42, '184': 43, '185': 44, '187': 45, '188': 46, '189': 47, '191': 48, '192': 49, '193': 50, '194': 51, '195': 52, '196': 53, '197': 54, '198': 55, '199': 56, '200': 57, '201': 58, '202': 59, '203': 60, '204': 61, '205': 62, '207': 63, '208': 64, '210': 65, '211': 66, '212': 67, '214': 68, '215': 69, '216': 70, '217': 71, '218': 72, '219': 73, '220': 74, '223': 75, '225': 76, '226': 77, '227': 78, '228': 79, '229': 80, '23': 81, '230': 82, '233': 83, '235': 84, '236': 85, '237': 86, '238': 87, '239': 88, '240': 89, '241': 90, '242': 91, '244': 92, '245': 93, '246': 94, '250': 95, '250.01': 96, '250.02': 97, '250.03': 98, '250.1': 99, '250.11': 100, '250.12': 101, '250.13': 102, '250.2': 103, '250.21': 104, '250.22': 105, '250.23': 106, '250.3': 107, '250.31': 108, '250.32': 109, '250.33': 110, '250.4': 111, '250.41': 112, '250.42': 113, '250.43': 114, '250.5': 115, '250.51': 116, '250.52': 117, '250.53': 118, '250.6': 119, '250.7': 120, '250.8': 121, '250.81': 122, '250.82': 123, '250.83': 124, '250.9': 125, '250.91': 126, '250.92': 127, '250.93': 128, '251': 129, '252': 130, '253': 131, '255': 132, '261': 133, '262': 134, '263': 135, '266': 136, '27': 137, '271': 138, '272': 139, '273': 140, '274': 141, '275': 142, '276': 143, '277': 144, '278': 145, '279': 146, '280': 147, '281': 148, '282': 149, '283': 150, '284': 151, '285': 152, '286': 153, '287': 154, '288': 155, '289': 156, '290': 157, '291': 158, '292': 159, '293': 160, '294': 161, '295': 162, '296': 163, '297': 164, '298': 165, '299': 166, '3': 167, '300': 168, '301': 169, '303': 170, '304': 171, '305': 172, '306': 173, '307': 174, '308': 175, '309': 176, '31': 177, '310': 178, '311': 179, '312': 180, '314': 181, '318': 182, '320': 183, '322': 184, '323': 185, '324': 186, '325': 187, '327': 188, '331': 189, '332': 190, '333': 191, '334': 192, '335': 193, '336': 194, '337': 195, '338': 196, '34': 197, '340': 198, '341': 199, '342': 200, '344': 201, '345': 202, '346': 203, '347': 204, '348': 205, '349': 206, '35': 207, '350': 208, '351': 209, '352': 210, '353': 211, '354': 212, '355': 213, '356': 214, '357': 215, '358': 216, '359': 217, '36': 218, '360': 219, '361': 220, '362': 221, '363': 222, '365': 223, '366': 224, '368': 225, '369': 226, '370': 227, '372': 228, '373': 229, '374': 230, '375': 231, '376': 232, '377': 233, '378': 234, '379': 235, '38': 236, '380': 237, '381': 238, '382': 239, '383': 240, '384': 241, '385': 242, '386': 243, '388': 244, '389': 245, '39': 246, '391': 247, '394': 248, '395': 249, '396': 250, '397': 251, '398': 252, '401': 253, '402': 254, '403': 255, '404': 256, '405': 257, '41': 258, '410': 259, '411': 260, '412': 261, '413': 262, '414': 263, '415': 264, '416': 265, '417': 266, '42': 267, '420': 268, '421': 269, '422': 270, '423': 271, '424': 272, '425': 273, '426': 274, '427': 275, '428': 276, '429': 277, '430': 278, '431': 279, '432': 280, '433': 281, '434': 282, '435': 283, '436': 284, '437': 285, '438': 286, '440': 287, '441': 288, '442': 289, '443': 290, '444': 291, '445': 292, '446': 293, '447': 294, '448': 295, '451': 296, '452': 297, '453': 298, '454': 299, '455': 300, '456': 301, '457': 302, '458': 303, '459': 304, '461': 305, '462': 306, '463': 307, '464': 308, '465': 309, '466': 310, '47': 311, '470': 312, '471': 313, '473': 314, '474': 315, '475': 316, '477': 317, '478': 318, '48': 319, '480': 320, '481': 321, '482': 322, '483': 323, '485': 324, '486': 325, '487': 326, '49': 327, '490': 328, '491': 329, '492': 330, '493': 331, '494': 332, '495': 333, '496': 334, '5': 335, '500': 336, '501': 337, '506': 338, '507': 339, '508': 340, '510': 341, '511': 342, '512': 343, '513': 344, '514': 345, '515': 346, '516': 347, '518': 348, '519': 349, '52': 350, '521': 351, '522': 352, '523': 353, '524': 354, '526': 355, '527': 356, '528': 357, '529': 358, '53': 359, '530': 360, '531': 361, '532': 362, '533': 363, '534': 364, '535': 365, '536': 366, '537': 367, '54': 368, '540': 369, '541': 370, '542': 371, '543': 372, '550': 373, '551': 374, '552': 375, '553': 376, '555': 377, '556': 378, '557': 379, '558': 380, '560': 381, '562': 382, '564': 383, '565': 384, '566': 385, '567': 386, '568': 387, '569': 388, '57': 389, '570': 390, '571': 391, '572': 392, '573': 393, '574': 394, '575': 395, '576': 396, '577': 397, '578': 398, '579': 399, '58': 400, '580': 401, '581': 402, '582': 403, '583': 404, '584': 405, '585': 406, '586': 407, '588': 408, '590': 409, '591': 410, '592': 411, '593': 412, '594': 413, '595': 414, '596': 415, '598': 416, '599': 417, '600': 418, '601': 419, '602': 420, '603': 421, '604': 422, '605': 423, '607': 424, '608': 425, '61': 426, '610': 427, '611': 428, '614': 429, '615': 430, '616': 431, '617': 432, '618': 433, '619': 434, '620': 435, '621': 436, '622': 437, '623': 438, '625': 439, '626': 440, '627': 441, '632': 442, '633': 443, '634': 444, '637': 445, '640': 446, '641': 447, '642': 448, '643': 449, '644': 450, '645': 451, '646': 452, '647': 453, '648': 454, '649': 455, '652': 456, '653': 457, '654': 458, '655': 459, '656': 460, '657': 461, '658': 462, '659': 463, '66': 464, '660': 465, '661': 466, '663': 467, '664': 468, '665': 469, '669': 470, '671': 471, '674': 472, '680': 473, '681': 474, '682': 475, '683': 476, '684': 477, '685': 478, '686': 479, '690': 480, '691': 481, '692': 482, '693': 483, '694': 484, '695': 485, '696': 486, '698': 487, '7': 488, '70': 489, '700': 490, '703': 491, '704': 492, '705': 493, '706': 494, '707': 495, '708': 496, '709': 497, '710': 498, '711': 499, '714': 500, '715': 501, '716': 502, '717': 503, '718': 504, '719': 505, '720': 506, '721': 507, '722': 508, '723': 509, '724': 510, '725': 511, '726': 512, '727': 513, '728': 514, '729': 515, '730': 516, '731': 517, '732': 518, '733': 519, '734': 520, '735': 521, '736': 522, '737': 523, '738': 524, '745': 525, '746': 526, '747': 527, '75': 528, '751': 529, '753': 530, '756': 531, '759': 532, '78': 533, '780': 534, '781': 535, '782': 536, '783': 537, '784': 538, '785': 539, '786': 540, '787': 541, '788': 542, '789': 543, '79': 544, '790': 545, '791': 546, '792': 547, '793': 548, '794': 549, '795': 550, '796': 551, '797': 552, '799': 553, '8': 554, '800': 555, '801': 556, '802': 557, '803': 558, '804': 559, '805': 560, '806': 561, '807': 562, '808': 563, '810': 564, '812': 565, '813': 566, '814': 567, '815': 568, '816': 569, '817': 570, '82': 571, '820': 572, '821': 573, '822': 574, '823': 575, '824': 576, '825': 577, '826': 578, '827': 579, '831': 580, '832': 581, '833': 582, '834': 583, '835': 584, '836': 585, '837': 586, '838': 587, '839': 588, '84': 589, '840': 590, '842': 591, '843': 592, '844': 593, '845': 594, '846': 595, '847': 596, '848': 597, '850': 598, '851': 599, '852': 600, '853': 601, '854': 602, '860': 603, '861': 604, '862': 605, '863': 606, '864': 607, '865': 608, '866': 609, '867': 610, '868': 611, '870': 612, '871': 613, '873': 614, '875': 615, '878': 616, '879': 617, '88': 618, '880': 619, '881': 620, '882': 621, '883': 622, '885': 623, '886': 624, '890': 625, '891': 626, '892': 627, '893': 628, '895': 629, '897': 630, '9': 631, '903': 632, '904': 633, '906': 634, '911': 635, '913': 636, '914': 637, '915': 638, '916': 639, '917': 640, '919': 641, '920': 642, '921': 643, '922': 644, '923': 645, '924': 646, '928': 647, '933': 648, '934': 649, '935': 650, '936': 651, '939': 652, '94': 653, '941': 654, '942': 655, '944': 656, '945': 657, '952': 658, '955': 659, '957': 660, '958': 661, '959': 662, '962': 663, '963': 664, '964': 665, '965': 666, '966': 667, '967': 668, '968': 669, '969': 670, '97': 671, '970': 672, '971': 673, '972': 674, '973': 675, '974': 676, '975': 677, '976': 678, '977': 679, '98': 680, '980': 681, '982': 682, '983': 683, '986': 684, '987': 685, '988': 686, '989': 687, '990': 688, '991': 689, '992': 690, '994': 691, '995': 692, '996': 693, '997': 694, '998': 695, '999': 696, 'E909': 697, 'V07': 698, 'V25': 699, 'V26': 700, 'V43': 701, 'V45': 702, 'V51': 703, 'V53': 704, 'V54': 705, 'V55': 706, 'V56': 707, 'V57': 708, 'V58': 709, 'V60': 710, 'V63': 711, 'V66': 712, 'V67': 713, 'V70': 714, 'V71': 715}\n",
      "diag_2 labels:  {'11': 0, '110': 1, '111': 2, '112': 3, '114': 4, '115': 5, '117': 6, '123': 7, '130': 8, '131': 9, '135': 10, '136': 11, '137': 12, '138': 13, '140': 14, '141': 15, '145': 16, '150': 17, '151': 18, '152': 19, '153': 20, '154': 21, '155': 22, '156': 23, '157': 24, '162': 25, '163': 26, '164': 27, '171': 28, '172': 29, '173': 30, '174': 31, '179': 32, '180': 33, '182': 34, '183': 35, '185': 36, '186': 37, '188': 38, '189': 39, '191': 40, '192': 41, '193': 42, '195': 43, '196': 44, '197': 45, '198': 46, '199': 47, '200': 48, '201': 49, '202': 50, '203': 51, '204': 52, '205': 53, '208': 54, '211': 55, '212': 56, '214': 57, '215': 58, '217': 59, '218': 60, '220': 61, '223': 62, '225': 63, '226': 64, '227': 65, '228': 66, '232': 67, '233': 68, '235': 69, '238': 70, '239': 71, '240': 72, '241': 73, '242': 74, '244': 75, '245': 76, '246': 77, '250': 78, '250.01': 79, '250.02': 80, '250.03': 81, '250.1': 82, '250.11': 83, '250.12': 84, '250.13': 85, '250.2': 86, '250.21': 87, '250.22': 88, '250.23': 89, '250.3': 90, '250.31': 91, '250.32': 92, '250.33': 93, '250.4': 94, '250.41': 95, '250.42': 96, '250.43': 97, '250.5': 98, '250.51': 99, '250.52': 100, '250.53': 101, '250.6': 102, '250.7': 103, '250.8': 104, '250.81': 105, '250.82': 106, '250.83': 107, '250.9': 108, '250.91': 109, '250.92': 110, '250.93': 111, '251': 112, '252': 113, '253': 114, '255': 115, '256': 116, '258': 117, '259': 118, '260': 119, '261': 120, '262': 121, '263': 122, '266': 123, '268': 124, '269': 125, '27': 126, '270': 127, '271': 128, '272': 129, '273': 130, '274': 131, '275': 132, '276': 133, '277': 134, '278': 135, '279': 136, '280': 137, '281': 138, '282': 139, '283': 140, '284': 141, '285': 142, '286': 143, '287': 144, '288': 145, '289': 146, '290': 147, '291': 148, '292': 149, '293': 150, '294': 151, '295': 152, '296': 153, '297': 154, '298': 155, '299': 156, '300': 157, '301': 158, '302': 159, '303': 160, '304': 161, '305': 162, '306': 163, '307': 164, '308': 165, '309': 166, '31': 167, '310': 168, '311': 169, '312': 170, '314': 171, '316': 172, '317': 173, '318': 174, '319': 175, '320': 176, '322': 177, '323': 178, '324': 179, '325': 180, '327': 181, '331': 182, '332': 183, '333': 184, '335': 185, '336': 186, '337': 187, '338': 188, '34': 189, '340': 190, '341': 191, '342': 192, '343': 193, '344': 194, '345': 195, '346': 196, '347': 197, '348': 198, '349': 199, '35': 200, '350': 201, '351': 202, '352': 203, '353': 204, '354': 205, '355': 206, '356': 207, '357': 208, '358': 209, '359': 210, '360': 211, '362': 212, '364': 213, '365': 214, '366': 215, '368': 216, '369': 217, '372': 218, '373': 219, '374': 220, '376': 221, '377': 222, '378': 223, '379': 224, '38': 225, '380': 226, '381': 227, '382': 228, '383': 229, '386': 230, '388': 231, '389': 232, '394': 233, '395': 234, '396': 235, '397': 236, '398': 237, '40': 238, '401': 239, '402': 240, '403': 241, '404': 242, '405': 243, '41': 244, '410': 245, '411': 246, '412': 247, '413': 248, '414': 249, '415': 250, '416': 251, '42': 252, '420': 253, '421': 254, '422': 255, '423': 256, '424': 257, '425': 258, '426': 259, '427': 260, '428': 261, '429': 262, '430': 263, '431': 264, '432': 265, '433': 266, '434': 267, '435': 268, '436': 269, '437': 270, '438': 271, '440': 272, '441': 273, '442': 274, '443': 275, '444': 276, '446': 277, '447': 278, '448': 279, '451': 280, '452': 281, '453': 282, '454': 283, '455': 284, '456': 285, '457': 286, '458': 287, '459': 288, '46': 289, '460': 290, '461': 291, '462': 292, '463': 293, '464': 294, '465': 295, '466': 296, '470': 297, '472': 298, '473': 299, '474': 300, '475': 301, '477': 302, '478': 303, '480': 304, '481': 305, '482': 306, '483': 307, '484': 308, '485': 309, '486': 310, '487': 311, '490': 312, '491': 313, '492': 314, '493': 315, '494': 316, '495': 317, '496': 318, '5': 319, '500': 320, '501': 321, '506': 322, '507': 323, '508': 324, '510': 325, '511': 326, '512': 327, '513': 328, '514': 329, '515': 330, '516': 331, '517': 332, '518': 333, '519': 334, '52': 335, '520': 336, '521': 337, '522': 338, '523': 339, '524': 340, '527': 341, '528': 342, '529': 343, '53': 344, '530': 345, '531': 346, '532': 347, '533': 348, '534': 349, '535': 350, '536': 351, '537': 352, '54': 353, '540': 354, '542': 355, '543': 356, '550': 357, '552': 358, '553': 359, '555': 360, '556': 361, '557': 362, '558': 363, '560': 364, '562': 365, '564': 366, '565': 367, '566': 368, '567': 369, '568': 370, '569': 371, '570': 372, '571': 373, '572': 374, '573': 375, '574': 376, '575': 377, '576': 378, '577': 379, '578': 380, '579': 381, '580': 382, '581': 383, '583': 384, '584': 385, '585': 386, '586': 387, '588': 388, '590': 389, '591': 390, '592': 391, '593': 392, '594': 393, '595': 394, '596': 395, '598': 396, '599': 397, '600': 398, '601': 399, '602': 400, '603': 401, '604': 402, '605': 403, '607': 404, '608': 405, '610': 406, '611': 407, '614': 408, '615': 409, '616': 410, '617': 411, '618': 412, '619': 413, '620': 414, '621': 415, '622': 416, '623': 417, '625': 418, '626': 419, '627': 420, '634': 421, '641': 422, '642': 423, '644': 424, '645': 425, '646': 426, '647': 427, '648': 428, '649': 429, '652': 430, '654': 431, '656': 432, '658': 433, '659': 434, '66': 435, '661': 436, '663': 437, '664': 438, '665': 439, '670': 440, '674': 441, '680': 442, '681': 443, '682': 444, '683': 445, '684': 446, '685': 447, '686': 448, '691': 449, '692': 450, '693': 451, '694': 452, '695': 453, '696': 454, '698': 455, '7': 456, '70': 457, '701': 458, '702': 459, '703': 460, '704': 461, '705': 462, '706': 463, '707': 464, '709': 465, '710': 466, '711': 467, '712': 468, '713': 469, '714': 470, '715': 471, '716': 472, '717': 473, '718': 474, '719': 475, '721': 476, '722': 477, '723': 478, '724': 479, '725': 480, '726': 481, '727': 482, '728': 483, '729': 484, '730': 485, '731': 486, '733': 487, '734': 488, '736': 489, '737': 490, '738': 491, '741': 492, '742': 493, '745': 494, '746': 495, '747': 496, '748': 497, '75': 498, '750': 499, '751': 500, '752': 501, '753': 502, '754': 503, '755': 504, '756': 505, '758': 506, '759': 507, '78': 508, '780': 509, '781': 510, '782': 511, '783': 512, '784': 513, '785': 514, '786': 515, '787': 516, '788': 517, '789': 518, '79': 519, '790': 520, '791': 521, '792': 522, '793': 523, '794': 524, '795': 525, '796': 526, '797': 527, '799': 528, '8': 529, '800': 530, '801': 531, '802': 532, '805': 533, '806': 534, '807': 535, '808': 536, '810': 537, '811': 538, '812': 539, '813': 540, '814': 541, '815': 542, '816': 543, '820': 544, '821': 545, '822': 546, '823': 547, '824': 548, '825': 549, '826': 550, '831': 551, '832': 552, '833': 553, '836': 554, '837': 555, '840': 556, '842': 557, '843': 558, '844': 559, '845': 560, '846': 561, '847': 562, '850': 563, '851': 564, '852': 565, '853': 566, '860': 567, '861': 568, '862': 569, '863': 570, '864': 571, '865': 572, '866': 573, '867': 574, '868': 575, '869': 576, '870': 577, '871': 578, '872': 579, '873': 580, '879': 581, '88': 582, '880': 583, '881': 584, '882': 585, '883': 586, '884': 587, '891': 588, '892': 589, '893': 590, '894': 591, '9': 592, '905': 593, '906': 594, '907': 595, '908': 596, '909': 597, '910': 598, '911': 599, '912': 600, '913': 601, '915': 602, '916': 603, '917': 604, '918': 605, '919': 606, '920': 607, '921': 608, '922': 609, '923': 610, '924': 611, '927': 612, '933': 613, '934': 614, '94': 615, '942': 616, '944': 617, '945': 618, '947': 619, '948': 620, '952': 621, '953': 622, '955': 623, '958': 624, '959': 625, '96': 626, '962': 627, '963': 628, '965': 629, '967': 630, '968': 631, '969': 632, '972': 633, '974': 634, '975': 635, '977': 636, '980': 637, '987': 638, '989': 639, '99': 640, '990': 641, '991': 642, '992': 643, '994': 644, '995': 645, '996': 646, '997': 647, '998': 648, '999': 649, 'E812': 650, 'E813': 651, 'E814': 652, 'E816': 653, 'E817': 654, 'E818': 655, 'E819': 656, 'E821': 657, 'E826': 658, 'E829': 659, 'E849': 660, 'E850': 661, 'E853': 662, 'E854': 663, 'E858': 664, 'E868': 665, 'E870': 666, 'E878': 667, 'E879': 668, 'E880': 669, 'E881': 670, 'E882': 671, 'E883': 672, 'E884': 673, 'E885': 674, 'E887': 675, 'E888': 676, 'E890': 677, 'E900': 678, 'E905': 679, 'E906': 680, 'E915': 681, 'E916': 682, 'E917': 683, 'E918': 684, 'E919': 685, 'E924': 686, 'E927': 687, 'E928': 688, 'E929': 689, 'E930': 690, 'E931': 691, 'E932': 692, 'E933': 693, 'E934': 694, 'E935': 695, 'E936': 696, 'E937': 697, 'E938': 698, 'E939': 699, 'E941': 700, 'E942': 701, 'E944': 702, 'E945': 703, 'E947': 704, 'E950': 705, 'E965': 706, 'E968': 707, 'E980': 708, 'V02': 709, 'V03': 710, 'V08': 711, 'V09': 712, 'V10': 713, 'V11': 714, 'V12': 715, 'V13': 716, 'V14': 717, 'V15': 718, 'V16': 719, 'V17': 720, 'V18': 721, 'V23': 722, 'V25': 723, 'V42': 724, 'V43': 725, 'V44': 726, 'V45': 727, 'V46': 728, 'V49': 729, 'V50': 730, 'V53': 731, 'V54': 732, 'V55': 733, 'V57': 734, 'V58': 735, 'V60': 736, 'V61': 737, 'V62': 738, 'V63': 739, 'V64': 740, 'V65': 741, 'V66': 742, 'V69': 743, 'V70': 744, 'V72': 745, 'V85': 746, 'V86': 747}\n",
      "diag_3 labels:  {'11': 0, '110': 1, '111': 2, '112': 3, '115': 4, '117': 5, '122': 6, '123': 7, '131': 8, '132': 9, '135': 10, '136': 11, '138': 12, '139': 13, '14': 14, '141': 15, '146': 16, '148': 17, '150': 18, '151': 19, '152': 20, '153': 21, '154': 22, '155': 23, '156': 24, '157': 25, '158': 26, '161': 27, '162': 28, '163': 29, '164': 30, '17': 31, '170': 32, '171': 33, '172': 34, '173': 35, '174': 36, '175': 37, '179': 38, '180': 39, '182': 40, '183': 41, '185': 42, '186': 43, '188': 44, '189': 45, '191': 46, '192': 47, '193': 48, '195': 49, '196': 50, '197': 51, '198': 52, '199': 53, '200': 54, '201': 55, '202': 56, '203': 57, '204': 58, '205': 59, '208': 60, '211': 61, '214': 62, '215': 63, '216': 64, '217': 65, '218': 66, '220': 67, '223': 68, '225': 69, '226': 70, '227': 71, '228': 72, '230': 73, '233': 74, '235': 75, '236': 76, '238': 77, '239': 78, '240': 79, '241': 80, '242': 81, '243': 82, '244': 83, '245': 84, '246': 85, '250': 86, '250.01': 87, '250.02': 88, '250.03': 89, '250.1': 90, '250.11': 91, '250.12': 92, '250.13': 93, '250.2': 94, '250.21': 95, '250.22': 96, '250.23': 97, '250.3': 98, '250.31': 99, '250.4': 100, '250.41': 101, '250.42': 102, '250.43': 103, '250.5': 104, '250.51': 105, '250.52': 106, '250.53': 107, '250.6': 108, '250.7': 109, '250.8': 110, '250.81': 111, '250.82': 112, '250.83': 113, '250.9': 114, '250.91': 115, '250.92': 116, '250.93': 117, '251': 118, '252': 119, '253': 120, '255': 121, '256': 122, '258': 123, '259': 124, '260': 125, '261': 126, '262': 127, '263': 128, '265': 129, '266': 130, '268': 131, '27': 132, '270': 133, '271': 134, '272': 135, '273': 136, '274': 137, '275': 138, '276': 139, '277': 140, '278': 141, '279': 142, '280': 143, '281': 144, '282': 145, '283': 146, '284': 147, '285': 148, '286': 149, '287': 150, '288': 151, '289': 152, '290': 153, '291': 154, '292': 155, '293': 156, '294': 157, '295': 158, '296': 159, '297': 160, '298': 161, '299': 162, '3': 163, '300': 164, '301': 165, '303': 166, '304': 167, '305': 168, '306': 169, '307': 170, '308': 171, '309': 172, '310': 173, '311': 174, '312': 175, '313': 176, '314': 177, '315': 178, '317': 179, '318': 180, '319': 181, '323': 182, '327': 183, '331': 184, '332': 185, '333': 186, '334': 187, '335': 188, '336': 189, '337': 190, '338': 191, '34': 192, '340': 193, '341': 194, '342': 195, '343': 196, '344': 197, '345': 198, '346': 199, '347': 200, '348': 201, '349': 202, '35': 203, '350': 204, '351': 205, '353': 206, '354': 207, '355': 208, '356': 209, '357': 210, '358': 211, '359': 212, '360': 213, '361': 214, '362': 215, '365': 216, '365.44': 217, '366': 218, '368': 219, '369': 220, '370': 221, '372': 222, '373': 223, '374': 224, '376': 225, '377': 226, '378': 227, '379': 228, '38': 229, '380': 230, '381': 231, '382': 232, '383': 233, '384': 234, '385': 235, '386': 236, '387': 237, '388': 238, '389': 239, '391': 240, '394': 241, '395': 242, '396': 243, '397': 244, '398': 245, '401': 246, '402': 247, '403': 248, '404': 249, '405': 250, '41': 251, '410': 252, '411': 253, '412': 254, '413': 255, '414': 256, '415': 257, '416': 258, '417': 259, '42': 260, '420': 261, '421': 262, '423': 263, '424': 264, '425': 265, '426': 266, '427': 267, '428': 268, '429': 269, '430': 270, '431': 271, '432': 272, '433': 273, '434': 274, '435': 275, '436': 276, '437': 277, '438': 278, '440': 279, '441': 280, '442': 281, '443': 282, '444': 283, '445': 284, '446': 285, '447': 286, '448': 287, '451': 288, '452': 289, '453': 290, '454': 291, '455': 292, '456': 293, '457': 294, '458': 295, '459': 296, '460': 297, '461': 298, '462': 299, '463': 300, '464': 301, '465': 302, '466': 303, '47': 304, '470': 305, '472': 306, '473': 307, '475': 308, '477': 309, '478': 310, '480': 311, '481': 312, '482': 313, '483': 314, '484': 315, '485': 316, '486': 317, '487': 318, '49': 319, '490': 320, '491': 321, '492': 322, '493': 323, '494': 324, '495': 325, '496': 326, '5': 327, '500': 328, '501': 329, '506': 330, '507': 331, '508': 332, '510': 333, '511': 334, '512': 335, '514': 336, '515': 337, '516': 338, '517': 339, '518': 340, '519': 341, '521': 342, '522': 343, '523': 344, '524': 345, '525': 346, '527': 347, '528': 348, '529': 349, '53': 350, '530': 351, '531': 352, '532': 353, '533': 354, '534': 355, '535': 356, '536': 357, '537': 358, '538': 359, '54': 360, '540': 361, '542': 362, '543': 363, '550': 364, '552': 365, '553': 366, '555': 367, '556': 368, '557': 369, '558': 370, '560': 371, '562': 372, '564': 373, '565': 374, '566': 375, '567': 376, '568': 377, '569': 378, '57': 379, '570': 380, '571': 381, '572': 382, '573': 383, '574': 384, '575': 385, '576': 386, '577': 387, '578': 388, '579': 389, '580': 390, '581': 391, '582': 392, '583': 393, '584': 394, '585': 395, '586': 396, '588': 397, '590': 398, '591': 399, '592': 400, '593': 401, '594': 402, '595': 403, '596': 404, '597': 405, '598': 406, '599': 407, '600': 408, '601': 409, '602': 410, '603': 411, '604': 412, '605': 413, '607': 414, '608': 415, '610': 416, '611': 417, '614': 418, '616': 419, '617': 420, '618': 421, '619': 422, '620': 423, '621': 424, '622': 425, '623': 426, '624': 427, '625': 428, '626': 429, '627': 430, '641': 431, '642': 432, '643': 433, '644': 434, '646': 435, '647': 436, '648': 437, '649': 438, '652': 439, '653': 440, '654': 441, '655': 442, '656': 443, '657': 444, '658': 445, '659': 446, '66': 447, '660': 448, '661': 449, '663': 450, '664': 451, '665': 452, '669': 453, '670': 454, '671': 455, '674': 456, '680': 457, '681': 458, '682': 459, '684': 460, '685': 461, '686': 462, '690': 463, '692': 464, '693': 465, '694': 466, '695': 467, '696': 468, '697': 469, '698': 470, '7': 471, '70': 472, '701': 473, '702': 474, '703': 475, '704': 476, '705': 477, '706': 478, '707': 479, '708': 480, '709': 481, '710': 482, '711': 483, '712': 484, '713': 485, '714': 486, '715': 487, '716': 488, '717': 489, '718': 490, '719': 491, '720': 492, '721': 493, '722': 494, '723': 495, '724': 496, '725': 497, '726': 498, '727': 499, '728': 500, '729': 501, '730': 502, '731': 503, '732': 504, '733': 505, '734': 506, '735': 507, '736': 508, '737': 509, '738': 510, '741': 511, '742': 512, '744': 513, '745': 514, '746': 515, '747': 516, '75': 517, '750': 518, '751': 519, '752': 520, '753': 521, '754': 522, '755': 523, '756': 524, '757': 525, '758': 526, '759': 527, '78': 528, '780': 529, '781': 530, '782': 531, '783': 532, '784': 533, '785': 534, '786': 535, '787': 536, '788': 537, '789': 538, '79': 539, '790': 540, '791': 541, '792': 542, '793': 543, '794': 544, '795': 545, '796': 546, '797': 547, '799': 548, '8': 549, '800': 550, '801': 551, '802': 552, '805': 553, '807': 554, '808': 555, '810': 556, '811': 557, '812': 558, '813': 559, '814': 560, '815': 561, '816': 562, '820': 563, '821': 564, '822': 565, '823': 566, '824': 567, '825': 568, '826': 569, '831': 570, '834': 571, '836': 572, '837': 573, '838': 574, '840': 575, '841': 576, '842': 577, '844': 578, '845': 579, '847': 580, '848': 581, '850': 582, '851': 583, '852': 584, '853': 585, '854': 586, '860': 587, '861': 588, '862': 589, '863': 590, '864': 591, '865': 592, '866': 593, '867': 594, '868': 595, '870': 596, '871': 597, '872': 598, '873': 599, '875': 600, '876': 601, '877': 602, '879': 603, '88': 604, '880': 605, '881': 606, '882': 607, '883': 608, '884': 609, '890': 610, '891': 611, '892': 612, '893': 613, '9': 614, '905': 615, '906': 616, '907': 617, '908': 618, '909': 619, '910': 620, '911': 621, '912': 622, '913': 623, '915': 624, '916': 625, '917': 626, '918': 627, '919': 628, '920': 629, '921': 630, '922': 631, '923': 632, '924': 633, '928': 634, '930': 635, '933': 636, '934': 637, '935': 638, '94': 639, '942': 640, '943': 641, '944': 642, '945': 643, '948': 644, '951': 645, '952': 646, '953': 647, '955': 648, '956': 649, '958': 650, '959': 651, '962': 652, '965': 653, '966': 654, '967': 655, '969': 656, '970': 657, '971': 658, '972': 659, '980': 660, '987': 661, '989': 662, '991': 663, '992': 664, '995': 665, '996': 666, '997': 667, '998': 668, '999': 669, 'E812': 670, 'E813': 671, 'E815': 672, 'E816': 673, 'E817': 674, 'E818': 675, 'E819': 676, 'E822': 677, 'E825': 678, 'E826': 679, 'E828': 680, 'E849': 681, 'E850': 682, 'E852': 683, 'E853': 684, 'E854': 685, 'E855': 686, 'E858': 687, 'E861': 688, 'E864': 689, 'E865': 690, 'E870': 691, 'E876': 692, 'E878': 693, 'E879': 694, 'E880': 695, 'E881': 696, 'E882': 697, 'E883': 698, 'E884': 699, 'E885': 700, 'E886': 701, 'E887': 702, 'E888': 703, 'E892': 704, 'E894': 705, 'E900': 706, 'E901': 707, 'E904': 708, 'E905': 709, 'E906': 710, 'E912': 711, 'E915': 712, 'E916': 713, 'E917': 714, 'E919': 715, 'E920': 716, 'E922': 717, 'E924': 718, 'E927': 719, 'E928': 720, 'E929': 721, 'E930': 722, 'E931': 723, 'E932': 724, 'E933': 725, 'E934': 726, 'E935': 727, 'E936': 728, 'E937': 729, 'E938': 730, 'E939': 731, 'E941': 732, 'E942': 733, 'E943': 734, 'E944': 735, 'E945': 736, 'E946': 737, 'E947': 738, 'E949': 739, 'E950': 740, 'E955': 741, 'E956': 742, 'E965': 743, 'E966': 744, 'E980': 745, 'E987': 746, 'V01': 747, 'V02': 748, 'V03': 749, 'V06': 750, 'V07': 751, 'V08': 752, 'V09': 753, 'V10': 754, 'V11': 755, 'V12': 756, 'V13': 757, 'V14': 758, 'V15': 759, 'V16': 760, 'V17': 761, 'V18': 762, 'V22': 763, 'V23': 764, 'V25': 765, 'V27': 766, 'V42': 767, 'V43': 768, 'V44': 769, 'V45': 770, 'V46': 771, 'V49': 772, 'V53': 773, 'V54': 774, 'V55': 775, 'V57': 776, 'V58': 777, 'V60': 778, 'V61': 779, 'V62': 780, 'V63': 781, 'V64': 782, 'V65': 783, 'V66': 784, 'V70': 785, 'V72': 786, 'V85': 787, 'V86': 788}\n",
      "metformin labels:  {'Down': 0, 'No': 1, 'Steady': 2, 'Up': 3}\n",
      "repaglinide labels:  {'Down': 0, 'No': 1, 'Steady': 2, 'Up': 3}\n",
      "glimepiride labels:  {'Down': 0, 'No': 1, 'Steady': 2, 'Up': 3}\n",
      "glipizide labels:  {'Down': 0, 'No': 1, 'Steady': 2, 'Up': 3}\n",
      "glyburide labels:  {'Down': 0, 'No': 1, 'Steady': 2, 'Up': 3}\n",
      "pioglitazone labels:  {'Down': 0, 'No': 1, 'Steady': 2, 'Up': 3}\n",
      "rosiglitazone labels:  {'Down': 0, 'No': 1, 'Steady': 2, 'Up': 3}\n",
      "insulin labels:  {'Down': 0, 'No': 1, 'Steady': 2, 'Up': 3}\n",
      "change labels:  {'Ch': 0, 'No': 1}\n",
      "diabetesMed labels:  {'No': 0, 'Yes': 1}\n",
      "readmitted labels:  {'<30': 0, '>30': 1, 'NO': 2}\n"
     ]
    }
   ],
   "source": [
    "no_missing , label_encoders = label_encode(no_missing)"
   ]
  },
  {
   "cell_type": "code",
   "execution_count": 93,
   "metadata": {},
   "outputs": [],
   "source": [
    "cop = no_missing.copy()"
   ]
  },
  {
   "cell_type": "code",
   "execution_count": 94,
   "metadata": {},
   "outputs": [
    {
     "name": "stdout",
     "output_type": "stream",
     "text": [
      "Imputing race\n",
      "Imputing admission_type_id\n",
      "Imputing discharge_disposition_id\n",
      "Imputing admission_source_id\n",
      "diag_1: Count = 21, Percentage = 0.02%\n",
      "diag_2: Count = 358, Percentage = 0.35%\n",
      "diag_3: Count = 1423, Percentage = 1.40%\n"
     ]
    }
   ],
   "source": [
    "import pandas as pd\n",
    "import numpy as np\n",
    "from sklearn.ensemble import RandomForestClassifier\n",
    "from sklearn.preprocessing import LabelEncoder\n",
    "\n",
    "def impute_missing_values(df, columns_with_missing):\n",
    "    for column in columns_with_missing:\n",
    "        print (f'Imputing {column}')\n",
    "        gc.collect()\n",
    "        target_column = column\n",
    "        not_null_df = df[df[target_column].notnull()]\n",
    "        null_df = df[df[target_column].isnull()]\n",
    "\n",
    "        X_train = not_null_df.drop(target_column, axis=1)\n",
    "        y_train = not_null_df[target_column]\n",
    "        X_test = null_df.drop(target_column, axis=1)\n",
    "        \n",
    "        if not X_test.empty:\n",
    "            model = RandomForestClassifier()\n",
    "            model.fit(X_train, y_train)\n",
    "\n",
    "            predictions = model.predict(X_test)\n",
    "            df.loc[df[target_column].isnull(), target_column] = predictions\n",
    "    return df\n",
    "\n",
    "no_missing = impute_missing_values(no_missing, ['race', 'admission_type_id', 'discharge_disposition_id', 'admission_source_id'])\n",
    "print_missing_counts(no_missing, ['?'])\n"
   ]
  },
  {
   "cell_type": "code",
   "execution_count": 96,
   "metadata": {},
   "outputs": [],
   "source": [
    "from sklearn.impute import KNNImputer\n",
    "\n",
    "def impute_categorical_missing_values_knn(df, n_neighbors=5):\n",
    "    imputer = KNNImputer(n_neighbors=n_neighbors)\n",
    "\n",
    "    df_imputed = imputer.fit_transform(df)\n",
    "\n",
    "    df_imputed = pd.DataFrame(df_imputed, columns=df.columns)\n",
    "\n",
    "    return df_imputed\n",
    "\n",
    "no_missing = impute_categorical_missing_values_knn(no_missing , 1)\n",
    "print_missing_counts(no_missing, ['?'])\n"
   ]
  },
  {
   "cell_type": "code",
   "execution_count": 98,
   "metadata": {},
   "outputs": [],
   "source": [
    "no_missing.drop_duplicates(subset=None, keep='first', inplace=True)"
   ]
  },
  {
   "cell_type": "code",
   "execution_count": 99,
   "metadata": {},
   "outputs": [
    {
     "name": "stdout",
     "output_type": "stream",
     "text": [
      "<class 'pandas.core.frame.DataFrame'>\n",
      "RangeIndex: 101763 entries, 0 to 101762\n",
      "Data columns (total 29 columns):\n",
      " #   Column                    Non-Null Count   Dtype  \n",
      "---  ------                    --------------   -----  \n",
      " 0   patient_nbr               101763 non-null  float64\n",
      " 1   race                      101763 non-null  float64\n",
      " 2   gender                    101763 non-null  float64\n",
      " 3   age                       101763 non-null  float64\n",
      " 4   admission_type_id         101763 non-null  float64\n",
      " 5   discharge_disposition_id  101763 non-null  float64\n",
      " 6   admission_source_id       101763 non-null  float64\n",
      " 7   time_in_hospital          101763 non-null  float64\n",
      " 8   num_lab_procedures        101763 non-null  float64\n",
      " 9   num_procedures            101763 non-null  float64\n",
      " 10  num_medications           101763 non-null  float64\n",
      " 11  number_outpatient         101763 non-null  float64\n",
      " 12  number_emergency          101763 non-null  float64\n",
      " 13  number_inpatient          101763 non-null  float64\n",
      " 14  diag_1                    101763 non-null  float64\n",
      " 15  diag_2                    101763 non-null  float64\n",
      " 16  diag_3                    101763 non-null  float64\n",
      " 17  number_diagnoses          101763 non-null  float64\n",
      " 18  metformin                 101763 non-null  float64\n",
      " 19  repaglinide               101763 non-null  float64\n",
      " 20  glimepiride               101763 non-null  float64\n",
      " 21  glipizide                 101763 non-null  float64\n",
      " 22  glyburide                 101763 non-null  float64\n",
      " 23  pioglitazone              101763 non-null  float64\n",
      " 24  rosiglitazone             101763 non-null  float64\n",
      " 25  insulin                   101763 non-null  float64\n",
      " 26  change                    101763 non-null  float64\n",
      " 27  diabetesMed               101763 non-null  float64\n",
      " 28  readmitted                101763 non-null  float64\n",
      "dtypes: float64(29)\n",
      "memory usage: 22.5 MB\n"
     ]
    }
   ],
   "source": [
    "no_missing.info()"
   ]
  },
  {
   "cell_type": "markdown",
   "metadata": {},
   "source": [
    "this is an alternative way to impute the missing values for categorical features"
   ]
  },
  {
   "cell_type": "markdown",
   "metadata": {},
   "source": [
    "no_missing.loc[:, 'race'] = no_missing['race'].replace('?', np.nan)\n",
    "\n",
    "df_encoded = pd.get_dummies(no_missing)\n",
    "\n",
    "imputer = KNNImputer(n_neighbors=3)\n",
    "df_imputed = imputer.fit_transform(df_encoded)\n",
    "\n",
    "df_imputed = pd.DataFrame(df_imputed, columns = df_encoded.columns)\n",
    "\n",
    "no_missing.loc[:, 'race'] = df_imputed[['race_Caucasian', 'race_AfricanAmerican', 'race_Hispanic', 'race_Other', 'race_Asian']].idxmax(axis=1).str.replace('race_', '')\n",
    "mode_value = no_missing['race'].mode()[0]\n",
    "no_missing.loc[:, 'race'] = no_missing['race'].fillna(mode_value)\n",
    "print_unique_elements(no_missing , ['race'])"
   ]
  },
  {
   "cell_type": "markdown",
   "metadata": {},
   "source": [
    "now we try to detect outliers"
   ]
  },
  {
   "cell_type": "code",
   "execution_count": 124,
   "metadata": {},
   "outputs": [
    {
     "name": "stdout",
     "output_type": "stream",
     "text": [
      "in outlier detection n_estimators is 50 and the contamination is 0.05\n"
     ]
    }
   ],
   "source": [
    "from sklearn.ensemble import IsolationForest\n",
    "import pandas as pd\n",
    "import numpy as np\n",
    "\n",
    "def detect_outliers(df, n_estimators, contamination, random_state):\n",
    "    print (f'in outlier detection n_estimators is {n_estimators} and the contamination is {contamination}')\n",
    "    df_copy = df.copy()\n",
    "\n",
    "    iso = IsolationForest(n_estimators=n_estimators, contamination=contamination ,random_state=random_state)\n",
    "\n",
    "    outlier_label = iso.fit_predict(df_copy)\n",
    "\n",
    "    df_copy['outlier'] = outlier_label\n",
    "\n",
    "    df_outliers = df_copy[df_copy['outlier'] == -1]\n",
    "\n",
    "    df_copy = df_copy[df_copy['outlier'] == 1]\n",
    "    df_copy.drop('outlier', axis=1, inplace=True)\n",
    "\n",
    "    return df_copy, df_outliers\n",
    "\n",
    "df_no_outliers, df_outliers = detect_outliers(no_missing, 50, 0.05,42)\n"
   ]
  },
  {
   "cell_type": "markdown",
   "metadata": {},
   "source": [
    "lets normalize the data."
   ]
  },
  {
   "cell_type": "code",
   "execution_count": 101,
   "metadata": {},
   "outputs": [],
   "source": [
    "from sklearn.preprocessing import StandardScaler\n",
    "\n",
    "def normalize_features(df):\n",
    "    df_copy = df.copy()\n",
    "\n",
    "    scaler = StandardScaler()\n",
    "\n",
    "    df_normalized = pd.DataFrame(scaler.fit_transform(df_copy), columns=df_copy.columns)\n",
    "\n",
    "    return df_normalized\n",
    "\n",
    "df_normalized = normalize_features(df_no_outliers)\n"
   ]
  },
  {
   "cell_type": "markdown",
   "metadata": {},
   "source": [
    "now lets go for dimentionality reduction step !"
   ]
  },
  {
   "cell_type": "code",
   "execution_count": 140,
   "metadata": {},
   "outputs": [
    {
     "name": "stdout",
     "output_type": "stream",
     "text": [
      "in pca the variance ratio is 5\n",
      "Total explained variance: 0.314868627517442\n"
     ]
    }
   ],
   "source": [
    "from sklearn.decomposition import PCA\n",
    "\n",
    "def apply_pca(df, variance_ratio, random_state):\n",
    "    print(f'in pca the variance ratio is {variance_ratio}')\n",
    "    df_copy = df.copy()\n",
    "\n",
    "    pca = PCA(n_components=variance_ratio, random_state=random_state)\n",
    "\n",
    "    df_pca = pd.DataFrame(pca.fit_transform(df_copy))\n",
    "    \n",
    "    if (variance_ratio < 1):\n",
    "        print (f'pca dimontions after pca : {df_pca.shape[1]}')\n",
    "    else: \n",
    "        print(f'Total explained variance: {sum(pca.explained_variance_ratio_)}')\n",
    "    \n",
    "    return df_pca\n",
    "\n",
    "variance_ratio = 0.95  \n",
    "df_pca = apply_pca(df_normalized, 5, 42)\n"
   ]
  },
  {
   "cell_type": "code",
   "execution_count": 118,
   "metadata": {},
   "outputs": [
    {
     "name": "stdout",
     "output_type": "stream",
     "text": [
      "The dimensionality of the data after PCA is: 5\n"
     ]
    }
   ],
   "source": [
    "num_dimensions = df_pca.shape[1]\n",
    "print(f\"The dimensionality of the data after PCA is: {num_dimensions}\")"
   ]
  },
  {
   "cell_type": "markdown",
   "metadata": {},
   "source": [
    "now let's implement the K-means clustering function."
   ]
  },
  {
   "cell_type": "code",
   "execution_count": 158,
   "metadata": {},
   "outputs": [
    {
     "name": "stdout",
     "output_type": "stream",
     "text": [
      "in k-means the n_clusters is 10\n"
     ]
    }
   ],
   "source": [
    "from sklearn.cluster import KMeans\n",
    "\n",
    "def fit_kmeans(df, n_clusters, random_state):\n",
    "    print (f'in k-means the n_clusters is {n_clusters}')\n",
    "    df_copy = df.copy()\n",
    "\n",
    "    kmeans = KMeans(n_clusters=n_clusters, n_init='auto', init='k-means++', random_state=random_state)\n",
    "\n",
    "    kmeans.fit(df_copy)\n",
    "\n",
    "    df_copy['cluster'] = kmeans.labels_\n",
    "\n",
    "    return df_copy, kmeans\n",
    "\n",
    "n_clusters = 10\n",
    "K_means_df , K_means_modle = fit_kmeans(df_pca , n_clusters, 42)"
   ]
  },
  {
   "cell_type": "markdown",
   "metadata": {},
   "source": [
    "and also let's implement the DBScan clustering function"
   ]
  },
  {
   "cell_type": "code",
   "execution_count": 157,
   "metadata": {},
   "outputs": [],
   "source": [
    "from sklearn.cluster import DBSCAN\n",
    "\n",
    "def fit_dbscan(df, eps, min_samples):\n",
    "    df_copy = df.copy()\n",
    "\n",
    "    dbscan = DBSCAN(eps=eps, min_samples=min_samples)\n",
    "\n",
    "    dbscan.fit(df_copy)\n",
    "\n",
    "    df_copy['cluster'] = dbscan.labels_\n",
    "\n",
    "    return df_copy, dbscan\n",
    "\n",
    "eps = 0.1\n",
    "min_samples = 10\n",
    "dbscan_df , dbscan_modle = fit_dbscan(df_pca , eps, min_samples)\n"
   ]
  },
  {
   "cell_type": "markdown",
   "metadata": {},
   "source": [
    "now lets fine best hyper parameters"
   ]
  },
  {
   "cell_type": "code",
   "execution_count": 119,
   "metadata": {},
   "outputs": [],
   "source": [
    "from tqdm import tqdm\n",
    "from sklearn.pipeline import Pipeline\n",
    "from sklearn.model_selection import GridSearchCV\n",
    "from sklearn.metrics import silhouette_score\n",
    "from sklearn.base import BaseEstimator, TransformerMixin\n",
    "from sklearn.preprocessing import StandardScaler\n",
    "from sklearn.decomposition import PCA\n",
    "from sklearn.cluster import KMeans, DBSCAN\n",
    "from sklearn.ensemble import IsolationForest\n",
    "\n",
    "class kmeans_pipe_hyper_parameter_tuner:\n",
    "    \n",
    "    def __init__(self, n_estimators, contamination, variance_ratio, n_clusters, df, random_state):\n",
    "        self.n_estimators = n_estimators\n",
    "        self.contamination = contamination\n",
    "        self.variance_ratio = variance_ratio\n",
    "        self.n_clusters = n_clusters\n",
    "        self.df = df\n",
    "        self.random_state=random_state\n",
    "        \n",
    "    def fit(self):\n",
    "        df_no_outliers, df_outliers = detect_outliers(self.df, self.n_estimators, self.contamination, self.random_state)\n",
    "        df_normalized = normalize_features(df_no_outliers)\n",
    "        df_pca = apply_pca(df_normalized, self.variance_ratio, self.random_state)\n",
    "        K_means_df , K_means_modle = fit_kmeans(df_pca , n_clusters, self.random_state)\n",
    "        self.model = K_means_modle\n",
    "        self.PCA_df = df_pca\n",
    "        \n",
    "    \n"
   ]
  },
  {
   "cell_type": "code",
   "execution_count": 122,
   "metadata": {},
   "outputs": [
    {
     "name": "stderr",
     "output_type": "stream",
     "text": [
      "Hyperparameter Tuning:   0%|                            | 0/108 [00:09<?, ?it/s]\n",
      "Hyperparameter Tuning:   1%|▏                | 1/108 [02:19<4:08:58, 139.62s/it]"
     ]
    },
    {
     "name": "stdout",
     "output_type": "stream",
     "text": [
      "for params {'contamination': 0.01, 'n_clusters': 3, 'n_estimators': 10, 'variance_ratio': 0.9} got the score of : 0.03759970116863179\n"
     ]
    },
    {
     "name": "stderr",
     "output_type": "stream",
     "text": [
      "Hyperparameter Tuning:   2%|▎                | 2/108 [04:39<4:06:48, 139.70s/it]"
     ]
    },
    {
     "name": "stdout",
     "output_type": "stream",
     "text": [
      "for params {'contamination': 0.01, 'n_clusters': 3, 'n_estimators': 10, 'variance_ratio': 0.95} got the score of : 0.03759970116863179\n"
     ]
    },
    {
     "name": "stderr",
     "output_type": "stream",
     "text": [
      "Hyperparameter Tuning:   3%|▍                | 3/108 [07:02<4:07:06, 141.21s/it]"
     ]
    },
    {
     "name": "stdout",
     "output_type": "stream",
     "text": [
      "for params {'contamination': 0.01, 'n_clusters': 3, 'n_estimators': 25, 'variance_ratio': 0.9} got the score of : 0.026418468769621666\n"
     ]
    },
    {
     "name": "stderr",
     "output_type": "stream",
     "text": [
      "Hyperparameter Tuning:   4%|▋                | 4/108 [09:21<4:03:21, 140.39s/it]"
     ]
    },
    {
     "name": "stdout",
     "output_type": "stream",
     "text": [
      "for params {'contamination': 0.01, 'n_clusters': 3, 'n_estimators': 25, 'variance_ratio': 0.95} got the score of : 0.026418468769621666\n"
     ]
    },
    {
     "name": "stderr",
     "output_type": "stream",
     "text": [
      "Hyperparameter Tuning:   5%|▊                | 5/108 [11:42<4:01:16, 140.54s/it]"
     ]
    },
    {
     "name": "stdout",
     "output_type": "stream",
     "text": [
      "for params {'contamination': 0.01, 'n_clusters': 3, 'n_estimators': 50, 'variance_ratio': 0.9} got the score of : 0.02497604306045994\n"
     ]
    },
    {
     "name": "stderr",
     "output_type": "stream",
     "text": [
      "Hyperparameter Tuning:   6%|▉                | 6/108 [14:02<3:58:42, 140.42s/it]"
     ]
    },
    {
     "name": "stdout",
     "output_type": "stream",
     "text": [
      "for params {'contamination': 0.01, 'n_clusters': 3, 'n_estimators': 50, 'variance_ratio': 0.95} got the score of : 0.02497604306045994\n"
     ]
    },
    {
     "name": "stderr",
     "output_type": "stream",
     "text": [
      "Hyperparameter Tuning:   6%|█                | 7/108 [16:20<3:55:17, 139.78s/it]"
     ]
    },
    {
     "name": "stdout",
     "output_type": "stream",
     "text": [
      "for params {'contamination': 0.01, 'n_clusters': 5, 'n_estimators': 10, 'variance_ratio': 0.9} got the score of : 0.03759970116863179\n"
     ]
    },
    {
     "name": "stderr",
     "output_type": "stream",
     "text": [
      "Hyperparameter Tuning:   7%|█▎               | 8/108 [18:39<3:52:20, 139.41s/it]"
     ]
    },
    {
     "name": "stdout",
     "output_type": "stream",
     "text": [
      "for params {'contamination': 0.01, 'n_clusters': 5, 'n_estimators': 10, 'variance_ratio': 0.95} got the score of : 0.03759970116863179\n"
     ]
    },
    {
     "name": "stderr",
     "output_type": "stream",
     "text": [
      "Hyperparameter Tuning:   8%|█▍               | 9/108 [20:58<3:49:52, 139.32s/it]"
     ]
    },
    {
     "name": "stdout",
     "output_type": "stream",
     "text": [
      "for params {'contamination': 0.01, 'n_clusters': 5, 'n_estimators': 25, 'variance_ratio': 0.9} got the score of : 0.026418468769621666\n"
     ]
    },
    {
     "name": "stderr",
     "output_type": "stream",
     "text": [
      "Hyperparameter Tuning:   9%|█▍              | 10/108 [23:17<3:47:27, 139.26s/it]"
     ]
    },
    {
     "name": "stdout",
     "output_type": "stream",
     "text": [
      "for params {'contamination': 0.01, 'n_clusters': 5, 'n_estimators': 25, 'variance_ratio': 0.95} got the score of : 0.026418468769621666\n"
     ]
    },
    {
     "name": "stderr",
     "output_type": "stream",
     "text": [
      "Hyperparameter Tuning:  10%|█▋              | 11/108 [25:38<3:45:45, 139.65s/it]"
     ]
    },
    {
     "name": "stdout",
     "output_type": "stream",
     "text": [
      "for params {'contamination': 0.01, 'n_clusters': 5, 'n_estimators': 50, 'variance_ratio': 0.9} got the score of : 0.02497604306045994\n"
     ]
    },
    {
     "name": "stderr",
     "output_type": "stream",
     "text": [
      "Hyperparameter Tuning:  11%|█▊              | 12/108 [27:58<3:43:41, 139.81s/it]"
     ]
    },
    {
     "name": "stdout",
     "output_type": "stream",
     "text": [
      "for params {'contamination': 0.01, 'n_clusters': 5, 'n_estimators': 50, 'variance_ratio': 0.95} got the score of : 0.02497604306045994\n"
     ]
    },
    {
     "name": "stderr",
     "output_type": "stream",
     "text": [
      "Hyperparameter Tuning:  12%|█▉              | 13/108 [30:16<3:40:36, 139.33s/it]"
     ]
    },
    {
     "name": "stdout",
     "output_type": "stream",
     "text": [
      "for params {'contamination': 0.01, 'n_clusters': 6, 'n_estimators': 10, 'variance_ratio': 0.9} got the score of : 0.03759970116863179\n"
     ]
    },
    {
     "name": "stderr",
     "output_type": "stream",
     "text": [
      "Hyperparameter Tuning:  13%|██              | 14/108 [32:35<3:37:51, 139.06s/it]"
     ]
    },
    {
     "name": "stdout",
     "output_type": "stream",
     "text": [
      "for params {'contamination': 0.01, 'n_clusters': 6, 'n_estimators': 10, 'variance_ratio': 0.95} got the score of : 0.03759970116863179\n"
     ]
    },
    {
     "name": "stderr",
     "output_type": "stream",
     "text": [
      "Hyperparameter Tuning:  14%|██▏             | 15/108 [34:54<3:35:42, 139.16s/it]"
     ]
    },
    {
     "name": "stdout",
     "output_type": "stream",
     "text": [
      "for params {'contamination': 0.01, 'n_clusters': 6, 'n_estimators': 25, 'variance_ratio': 0.9} got the score of : 0.026418468769621666\n"
     ]
    },
    {
     "name": "stderr",
     "output_type": "stream",
     "text": [
      "Hyperparameter Tuning:  15%|██▎             | 16/108 [37:14<3:33:35, 139.30s/it]"
     ]
    },
    {
     "name": "stdout",
     "output_type": "stream",
     "text": [
      "for params {'contamination': 0.01, 'n_clusters': 6, 'n_estimators': 25, 'variance_ratio': 0.95} got the score of : 0.026418468769621666\n"
     ]
    },
    {
     "name": "stderr",
     "output_type": "stream",
     "text": [
      "Hyperparameter Tuning:  16%|██▌             | 17/108 [39:34<3:31:41, 139.57s/it]"
     ]
    },
    {
     "name": "stdout",
     "output_type": "stream",
     "text": [
      "for params {'contamination': 0.01, 'n_clusters': 6, 'n_estimators': 50, 'variance_ratio': 0.9} got the score of : 0.02497604306045994\n"
     ]
    },
    {
     "name": "stderr",
     "output_type": "stream",
     "text": [
      "Hyperparameter Tuning:  17%|██▋             | 18/108 [41:55<3:29:59, 139.99s/it]"
     ]
    },
    {
     "name": "stdout",
     "output_type": "stream",
     "text": [
      "for params {'contamination': 0.01, 'n_clusters': 6, 'n_estimators': 50, 'variance_ratio': 0.95} got the score of : 0.02497604306045994\n"
     ]
    },
    {
     "name": "stderr",
     "output_type": "stream",
     "text": [
      "Hyperparameter Tuning:  18%|██▊             | 19/108 [44:14<3:27:03, 139.59s/it]"
     ]
    },
    {
     "name": "stdout",
     "output_type": "stream",
     "text": [
      "for params {'contamination': 0.01, 'n_clusters': 8, 'n_estimators': 10, 'variance_ratio': 0.9} got the score of : 0.03759970116863179\n"
     ]
    },
    {
     "name": "stderr",
     "output_type": "stream",
     "text": [
      "Hyperparameter Tuning:  19%|██▉             | 20/108 [46:32<3:24:18, 139.30s/it]"
     ]
    },
    {
     "name": "stdout",
     "output_type": "stream",
     "text": [
      "for params {'contamination': 0.01, 'n_clusters': 8, 'n_estimators': 10, 'variance_ratio': 0.95} got the score of : 0.03759970116863179\n"
     ]
    },
    {
     "name": "stderr",
     "output_type": "stream",
     "text": [
      "Hyperparameter Tuning:  19%|███             | 21/108 [48:55<3:23:27, 140.31s/it]"
     ]
    },
    {
     "name": "stdout",
     "output_type": "stream",
     "text": [
      "for params {'contamination': 0.01, 'n_clusters': 8, 'n_estimators': 25, 'variance_ratio': 0.9} got the score of : 0.026418468769621666\n"
     ]
    },
    {
     "name": "stderr",
     "output_type": "stream",
     "text": [
      "Hyperparameter Tuning:  20%|███▎            | 22/108 [51:14<3:20:38, 139.98s/it]"
     ]
    },
    {
     "name": "stdout",
     "output_type": "stream",
     "text": [
      "for params {'contamination': 0.01, 'n_clusters': 8, 'n_estimators': 25, 'variance_ratio': 0.95} got the score of : 0.026418468769621666\n"
     ]
    },
    {
     "name": "stderr",
     "output_type": "stream",
     "text": [
      "Hyperparameter Tuning:  21%|███▍            | 23/108 [53:34<3:18:27, 140.09s/it]"
     ]
    },
    {
     "name": "stdout",
     "output_type": "stream",
     "text": [
      "for params {'contamination': 0.01, 'n_clusters': 8, 'n_estimators': 50, 'variance_ratio': 0.9} got the score of : 0.02497604306045994\n"
     ]
    },
    {
     "name": "stderr",
     "output_type": "stream",
     "text": [
      "Hyperparameter Tuning:  22%|███▌            | 24/108 [55:55<3:16:21, 140.26s/it]"
     ]
    },
    {
     "name": "stdout",
     "output_type": "stream",
     "text": [
      "for params {'contamination': 0.01, 'n_clusters': 8, 'n_estimators': 50, 'variance_ratio': 0.95} got the score of : 0.02497604306045994\n"
     ]
    },
    {
     "name": "stderr",
     "output_type": "stream",
     "text": [
      "Hyperparameter Tuning:  23%|███▋            | 25/108 [58:14<3:13:22, 139.79s/it]"
     ]
    },
    {
     "name": "stdout",
     "output_type": "stream",
     "text": [
      "for params {'contamination': 0.01, 'n_clusters': 9, 'n_estimators': 10, 'variance_ratio': 0.9} got the score of : 0.03759970116863179\n"
     ]
    },
    {
     "name": "stderr",
     "output_type": "stream",
     "text": [
      "Hyperparameter Tuning:  24%|███▎          | 26/108 [1:00:32<3:10:31, 139.41s/it]"
     ]
    },
    {
     "name": "stdout",
     "output_type": "stream",
     "text": [
      "for params {'contamination': 0.01, 'n_clusters': 9, 'n_estimators': 10, 'variance_ratio': 0.95} got the score of : 0.03759970116863179\n"
     ]
    },
    {
     "name": "stderr",
     "output_type": "stream",
     "text": [
      "Hyperparameter Tuning:  25%|███▌          | 27/108 [1:02:51<3:08:05, 139.33s/it]"
     ]
    },
    {
     "name": "stdout",
     "output_type": "stream",
     "text": [
      "for params {'contamination': 0.01, 'n_clusters': 9, 'n_estimators': 25, 'variance_ratio': 0.9} got the score of : 0.026418468769621666\n"
     ]
    },
    {
     "name": "stderr",
     "output_type": "stream",
     "text": [
      "Hyperparameter Tuning:  26%|███▋          | 28/108 [1:05:11<3:05:52, 139.40s/it]"
     ]
    },
    {
     "name": "stdout",
     "output_type": "stream",
     "text": [
      "for params {'contamination': 0.01, 'n_clusters': 9, 'n_estimators': 25, 'variance_ratio': 0.95} got the score of : 0.026418468769621666\n"
     ]
    },
    {
     "name": "stderr",
     "output_type": "stream",
     "text": [
      "Hyperparameter Tuning:  27%|███▊          | 29/108 [1:07:33<3:04:35, 140.20s/it]"
     ]
    },
    {
     "name": "stdout",
     "output_type": "stream",
     "text": [
      "for params {'contamination': 0.01, 'n_clusters': 9, 'n_estimators': 50, 'variance_ratio': 0.9} got the score of : 0.02497604306045994\n"
     ]
    },
    {
     "name": "stderr",
     "output_type": "stream",
     "text": [
      "Hyperparameter Tuning:  28%|███▉          | 30/108 [1:09:53<3:02:17, 140.22s/it]"
     ]
    },
    {
     "name": "stdout",
     "output_type": "stream",
     "text": [
      "for params {'contamination': 0.01, 'n_clusters': 9, 'n_estimators': 50, 'variance_ratio': 0.95} got the score of : 0.02497604306045994\n"
     ]
    },
    {
     "name": "stderr",
     "output_type": "stream",
     "text": [
      "Hyperparameter Tuning:  29%|████          | 31/108 [1:12:12<2:59:24, 139.80s/it]"
     ]
    },
    {
     "name": "stdout",
     "output_type": "stream",
     "text": [
      "for params {'contamination': 0.01, 'n_clusters': 10, 'n_estimators': 10, 'variance_ratio': 0.9} got the score of : 0.03759970116863179\n"
     ]
    },
    {
     "name": "stderr",
     "output_type": "stream",
     "text": [
      "Hyperparameter Tuning:  30%|████▏         | 32/108 [1:14:31<2:56:36, 139.42s/it]"
     ]
    },
    {
     "name": "stdout",
     "output_type": "stream",
     "text": [
      "for params {'contamination': 0.01, 'n_clusters': 10, 'n_estimators': 10, 'variance_ratio': 0.95} got the score of : 0.03759970116863179\n"
     ]
    },
    {
     "name": "stderr",
     "output_type": "stream",
     "text": [
      "Hyperparameter Tuning:  31%|████▎         | 33/108 [1:16:50<2:54:12, 139.36s/it]"
     ]
    },
    {
     "name": "stdout",
     "output_type": "stream",
     "text": [
      "for params {'contamination': 0.01, 'n_clusters': 10, 'n_estimators': 25, 'variance_ratio': 0.9} got the score of : 0.026418468769621666\n"
     ]
    },
    {
     "name": "stderr",
     "output_type": "stream",
     "text": [
      "Hyperparameter Tuning:  31%|████▍         | 34/108 [1:19:09<2:51:56, 139.41s/it]"
     ]
    },
    {
     "name": "stdout",
     "output_type": "stream",
     "text": [
      "for params {'contamination': 0.01, 'n_clusters': 10, 'n_estimators': 25, 'variance_ratio': 0.95} got the score of : 0.026418468769621666\n"
     ]
    },
    {
     "name": "stderr",
     "output_type": "stream",
     "text": [
      "Hyperparameter Tuning:  32%|████▌         | 35/108 [1:21:30<2:49:57, 139.69s/it]"
     ]
    },
    {
     "name": "stdout",
     "output_type": "stream",
     "text": [
      "for params {'contamination': 0.01, 'n_clusters': 10, 'n_estimators': 50, 'variance_ratio': 0.9} got the score of : 0.02497604306045994\n"
     ]
    },
    {
     "name": "stderr",
     "output_type": "stream",
     "text": [
      "Hyperparameter Tuning:  33%|████▋         | 36/108 [1:23:51<2:48:03, 140.05s/it]"
     ]
    },
    {
     "name": "stdout",
     "output_type": "stream",
     "text": [
      "for params {'contamination': 0.01, 'n_clusters': 10, 'n_estimators': 50, 'variance_ratio': 0.95} got the score of : 0.02497604306045994\n"
     ]
    },
    {
     "name": "stderr",
     "output_type": "stream",
     "text": [
      "Hyperparameter Tuning:  34%|████▊         | 37/108 [1:26:00<2:41:53, 136.81s/it]"
     ]
    },
    {
     "name": "stdout",
     "output_type": "stream",
     "text": [
      "for params {'contamination': 0.05, 'n_clusters': 3, 'n_estimators': 10, 'variance_ratio': 0.9} got the score of : 0.02413556449601564\n"
     ]
    },
    {
     "name": "stderr",
     "output_type": "stream",
     "text": [
      "Hyperparameter Tuning:  35%|████▉         | 38/108 [1:28:09<2:36:55, 134.51s/it]"
     ]
    },
    {
     "name": "stdout",
     "output_type": "stream",
     "text": [
      "for params {'contamination': 0.05, 'n_clusters': 3, 'n_estimators': 10, 'variance_ratio': 0.95} got the score of : 0.02413556449601564\n"
     ]
    },
    {
     "name": "stderr",
     "output_type": "stream",
     "text": [
      "Hyperparameter Tuning:  36%|█████         | 39/108 [1:30:18<2:32:44, 132.82s/it]"
     ]
    },
    {
     "name": "stdout",
     "output_type": "stream",
     "text": [
      "for params {'contamination': 0.05, 'n_clusters': 3, 'n_estimators': 25, 'variance_ratio': 0.9} got the score of : 0.044316143284190826\n"
     ]
    },
    {
     "name": "stderr",
     "output_type": "stream",
     "text": [
      "Hyperparameter Tuning:  37%|█████▏        | 40/108 [1:32:27<2:29:13, 131.66s/it]"
     ]
    },
    {
     "name": "stdout",
     "output_type": "stream",
     "text": [
      "for params {'contamination': 0.05, 'n_clusters': 3, 'n_estimators': 25, 'variance_ratio': 0.95} got the score of : 0.044316143284190826\n"
     ]
    },
    {
     "name": "stderr",
     "output_type": "stream",
     "text": [
      "Hyperparameter Tuning:  38%|█████▎        | 41/108 [1:34:36<2:26:15, 130.98s/it]"
     ]
    },
    {
     "name": "stdout",
     "output_type": "stream",
     "text": [
      "for params {'contamination': 0.05, 'n_clusters': 3, 'n_estimators': 50, 'variance_ratio': 0.9} got the score of : 0.0428097932666039\n"
     ]
    },
    {
     "name": "stderr",
     "output_type": "stream",
     "text": [
      "Hyperparameter Tuning:  39%|█████▍        | 42/108 [1:36:46<2:23:40, 130.61s/it]"
     ]
    },
    {
     "name": "stdout",
     "output_type": "stream",
     "text": [
      "for params {'contamination': 0.05, 'n_clusters': 3, 'n_estimators': 50, 'variance_ratio': 0.95} got the score of : 0.0428097932666039\n"
     ]
    },
    {
     "name": "stderr",
     "output_type": "stream",
     "text": [
      "Hyperparameter Tuning:  40%|█████▌        | 43/108 [1:38:55<2:21:01, 130.18s/it]"
     ]
    },
    {
     "name": "stdout",
     "output_type": "stream",
     "text": [
      "for params {'contamination': 0.05, 'n_clusters': 5, 'n_estimators': 10, 'variance_ratio': 0.9} got the score of : 0.02413556449601564\n"
     ]
    },
    {
     "name": "stderr",
     "output_type": "stream",
     "text": [
      "Hyperparameter Tuning:  41%|█████▋        | 44/108 [1:41:04<2:18:28, 129.82s/it]"
     ]
    },
    {
     "name": "stdout",
     "output_type": "stream",
     "text": [
      "for params {'contamination': 0.05, 'n_clusters': 5, 'n_estimators': 10, 'variance_ratio': 0.95} got the score of : 0.02413556449601564\n"
     ]
    },
    {
     "name": "stderr",
     "output_type": "stream",
     "text": [
      "Hyperparameter Tuning:  42%|█████▊        | 45/108 [1:43:13<2:16:02, 129.57s/it]"
     ]
    },
    {
     "name": "stdout",
     "output_type": "stream",
     "text": [
      "for params {'contamination': 0.05, 'n_clusters': 5, 'n_estimators': 25, 'variance_ratio': 0.9} got the score of : 0.044316143284190826\n"
     ]
    },
    {
     "name": "stderr",
     "output_type": "stream",
     "text": [
      "Hyperparameter Tuning:  43%|█████▉        | 46/108 [1:45:22<2:13:40, 129.37s/it]"
     ]
    },
    {
     "name": "stdout",
     "output_type": "stream",
     "text": [
      "for params {'contamination': 0.05, 'n_clusters': 5, 'n_estimators': 25, 'variance_ratio': 0.95} got the score of : 0.044316143284190826\n"
     ]
    },
    {
     "name": "stderr",
     "output_type": "stream",
     "text": [
      "Hyperparameter Tuning:  44%|██████        | 47/108 [1:47:31<2:11:31, 129.37s/it]"
     ]
    },
    {
     "name": "stdout",
     "output_type": "stream",
     "text": [
      "for params {'contamination': 0.05, 'n_clusters': 5, 'n_estimators': 50, 'variance_ratio': 0.9} got the score of : 0.0428097932666039\n"
     ]
    },
    {
     "name": "stderr",
     "output_type": "stream",
     "text": [
      "Hyperparameter Tuning:  44%|██████▏       | 48/108 [1:49:41<2:09:25, 129.42s/it]"
     ]
    },
    {
     "name": "stdout",
     "output_type": "stream",
     "text": [
      "for params {'contamination': 0.05, 'n_clusters': 5, 'n_estimators': 50, 'variance_ratio': 0.95} got the score of : 0.0428097932666039\n"
     ]
    },
    {
     "name": "stderr",
     "output_type": "stream",
     "text": [
      "Hyperparameter Tuning:  45%|██████▎       | 49/108 [1:51:50<2:07:08, 129.30s/it]"
     ]
    },
    {
     "name": "stdout",
     "output_type": "stream",
     "text": [
      "for params {'contamination': 0.05, 'n_clusters': 6, 'n_estimators': 10, 'variance_ratio': 0.9} got the score of : 0.02413556449601564\n"
     ]
    },
    {
     "name": "stderr",
     "output_type": "stream",
     "text": [
      "Hyperparameter Tuning:  46%|██████▍       | 50/108 [1:53:59<2:04:51, 129.17s/it]"
     ]
    },
    {
     "name": "stdout",
     "output_type": "stream",
     "text": [
      "for params {'contamination': 0.05, 'n_clusters': 6, 'n_estimators': 10, 'variance_ratio': 0.95} got the score of : 0.02413556449601564\n"
     ]
    },
    {
     "name": "stderr",
     "output_type": "stream",
     "text": [
      "Hyperparameter Tuning:  47%|██████▌       | 51/108 [1:56:08<2:02:43, 129.19s/it]"
     ]
    },
    {
     "name": "stdout",
     "output_type": "stream",
     "text": [
      "for params {'contamination': 0.05, 'n_clusters': 6, 'n_estimators': 25, 'variance_ratio': 0.9} got the score of : 0.044316143284190826\n"
     ]
    },
    {
     "name": "stderr",
     "output_type": "stream",
     "text": [
      "Hyperparameter Tuning:  48%|██████▋       | 52/108 [1:58:17<2:00:31, 129.13s/it]"
     ]
    },
    {
     "name": "stdout",
     "output_type": "stream",
     "text": [
      "for params {'contamination': 0.05, 'n_clusters': 6, 'n_estimators': 25, 'variance_ratio': 0.95} got the score of : 0.044316143284190826\n"
     ]
    },
    {
     "name": "stderr",
     "output_type": "stream",
     "text": [
      "Hyperparameter Tuning:  49%|██████▊       | 53/108 [2:00:26<1:58:23, 129.16s/it]"
     ]
    },
    {
     "name": "stdout",
     "output_type": "stream",
     "text": [
      "for params {'contamination': 0.05, 'n_clusters': 6, 'n_estimators': 50, 'variance_ratio': 0.9} got the score of : 0.0428097932666039\n"
     ]
    },
    {
     "name": "stderr",
     "output_type": "stream",
     "text": [
      "Hyperparameter Tuning:  50%|███████       | 54/108 [2:02:36<1:56:16, 129.19s/it]"
     ]
    },
    {
     "name": "stdout",
     "output_type": "stream",
     "text": [
      "for params {'contamination': 0.05, 'n_clusters': 6, 'n_estimators': 50, 'variance_ratio': 0.95} got the score of : 0.0428097932666039\n"
     ]
    },
    {
     "name": "stderr",
     "output_type": "stream",
     "text": [
      "Hyperparameter Tuning:  51%|███████▏      | 55/108 [2:04:45<1:54:09, 129.23s/it]"
     ]
    },
    {
     "name": "stdout",
     "output_type": "stream",
     "text": [
      "for params {'contamination': 0.05, 'n_clusters': 8, 'n_estimators': 10, 'variance_ratio': 0.9} got the score of : 0.02413556449601564\n"
     ]
    },
    {
     "name": "stderr",
     "output_type": "stream",
     "text": [
      "Hyperparameter Tuning:  52%|███████▎      | 56/108 [2:06:55<1:52:18, 129.59s/it]"
     ]
    },
    {
     "name": "stdout",
     "output_type": "stream",
     "text": [
      "for params {'contamination': 0.05, 'n_clusters': 8, 'n_estimators': 10, 'variance_ratio': 0.95} got the score of : 0.02413556449601564\n"
     ]
    },
    {
     "name": "stderr",
     "output_type": "stream",
     "text": [
      "Hyperparameter Tuning:  53%|███████▍      | 57/108 [2:09:04<1:49:57, 129.37s/it]"
     ]
    },
    {
     "name": "stdout",
     "output_type": "stream",
     "text": [
      "for params {'contamination': 0.05, 'n_clusters': 8, 'n_estimators': 25, 'variance_ratio': 0.9} got the score of : 0.044316143284190826\n"
     ]
    },
    {
     "name": "stderr",
     "output_type": "stream",
     "text": [
      "Hyperparameter Tuning:  54%|███████▌      | 58/108 [2:11:14<1:47:47, 129.36s/it]"
     ]
    },
    {
     "name": "stdout",
     "output_type": "stream",
     "text": [
      "for params {'contamination': 0.05, 'n_clusters': 8, 'n_estimators': 25, 'variance_ratio': 0.95} got the score of : 0.044316143284190826\n"
     ]
    },
    {
     "name": "stderr",
     "output_type": "stream",
     "text": [
      "Hyperparameter Tuning:  55%|███████▋      | 59/108 [2:13:23<1:45:38, 129.36s/it]"
     ]
    },
    {
     "name": "stdout",
     "output_type": "stream",
     "text": [
      "for params {'contamination': 0.05, 'n_clusters': 8, 'n_estimators': 50, 'variance_ratio': 0.9} got the score of : 0.0428097932666039\n"
     ]
    },
    {
     "name": "stderr",
     "output_type": "stream",
     "text": [
      "Hyperparameter Tuning:  56%|███████▊      | 60/108 [2:15:32<1:43:28, 129.35s/it]"
     ]
    },
    {
     "name": "stdout",
     "output_type": "stream",
     "text": [
      "for params {'contamination': 0.05, 'n_clusters': 8, 'n_estimators': 50, 'variance_ratio': 0.95} got the score of : 0.0428097932666039\n"
     ]
    },
    {
     "name": "stderr",
     "output_type": "stream",
     "text": [
      "Hyperparameter Tuning:  56%|███████▉      | 61/108 [2:17:41<1:41:12, 129.19s/it]"
     ]
    },
    {
     "name": "stdout",
     "output_type": "stream",
     "text": [
      "for params {'contamination': 0.05, 'n_clusters': 9, 'n_estimators': 10, 'variance_ratio': 0.9} got the score of : 0.02413556449601564\n"
     ]
    },
    {
     "name": "stderr",
     "output_type": "stream",
     "text": [
      "Hyperparameter Tuning:  57%|████████      | 62/108 [2:19:50<1:38:58, 129.11s/it]"
     ]
    },
    {
     "name": "stdout",
     "output_type": "stream",
     "text": [
      "for params {'contamination': 0.05, 'n_clusters': 9, 'n_estimators': 10, 'variance_ratio': 0.95} got the score of : 0.02413556449601564\n"
     ]
    },
    {
     "name": "stderr",
     "output_type": "stream",
     "text": [
      "Hyperparameter Tuning:  58%|████████▏     | 63/108 [2:21:59<1:36:47, 129.06s/it]"
     ]
    },
    {
     "name": "stdout",
     "output_type": "stream",
     "text": [
      "for params {'contamination': 0.05, 'n_clusters': 9, 'n_estimators': 25, 'variance_ratio': 0.9} got the score of : 0.044316143284190826\n"
     ]
    },
    {
     "name": "stderr",
     "output_type": "stream",
     "text": [
      "Hyperparameter Tuning:  59%|████████▎     | 64/108 [2:24:08<1:34:42, 129.15s/it]"
     ]
    },
    {
     "name": "stdout",
     "output_type": "stream",
     "text": [
      "for params {'contamination': 0.05, 'n_clusters': 9, 'n_estimators': 25, 'variance_ratio': 0.95} got the score of : 0.044316143284190826\n"
     ]
    },
    {
     "name": "stderr",
     "output_type": "stream",
     "text": [
      "Hyperparameter Tuning:  60%|████████▍     | 65/108 [2:26:28<1:34:52, 132.38s/it]"
     ]
    },
    {
     "name": "stdout",
     "output_type": "stream",
     "text": [
      "for params {'contamination': 0.05, 'n_clusters': 9, 'n_estimators': 50, 'variance_ratio': 0.9} got the score of : 0.0428097932666039\n"
     ]
    },
    {
     "name": "stderr",
     "output_type": "stream",
     "text": [
      "Hyperparameter Tuning:  61%|████████▌     | 66/108 [2:28:47<1:34:02, 134.35s/it]"
     ]
    },
    {
     "name": "stdout",
     "output_type": "stream",
     "text": [
      "for params {'contamination': 0.05, 'n_clusters': 9, 'n_estimators': 50, 'variance_ratio': 0.95} got the score of : 0.0428097932666039\n"
     ]
    },
    {
     "name": "stderr",
     "output_type": "stream",
     "text": [
      "Hyperparameter Tuning:  62%|████████▋     | 67/108 [2:31:12<1:33:54, 137.43s/it]"
     ]
    },
    {
     "name": "stdout",
     "output_type": "stream",
     "text": [
      "for params {'contamination': 0.05, 'n_clusters': 10, 'n_estimators': 10, 'variance_ratio': 0.9} got the score of : 0.02413556449601564\n"
     ]
    },
    {
     "name": "stderr",
     "output_type": "stream",
     "text": [
      "Hyperparameter Tuning:  63%|████████▊     | 68/108 [2:33:37<1:33:06, 139.66s/it]"
     ]
    },
    {
     "name": "stdout",
     "output_type": "stream",
     "text": [
      "for params {'contamination': 0.05, 'n_clusters': 10, 'n_estimators': 10, 'variance_ratio': 0.95} got the score of : 0.02413556449601564\n"
     ]
    },
    {
     "name": "stderr",
     "output_type": "stream",
     "text": [
      "Hyperparameter Tuning:  64%|████████▉     | 69/108 [2:35:57<1:30:54, 139.85s/it]"
     ]
    },
    {
     "name": "stdout",
     "output_type": "stream",
     "text": [
      "for params {'contamination': 0.05, 'n_clusters': 10, 'n_estimators': 25, 'variance_ratio': 0.9} got the score of : 0.044316143284190826\n"
     ]
    },
    {
     "name": "stderr",
     "output_type": "stream",
     "text": [
      "Hyperparameter Tuning:  65%|█████████     | 70/108 [2:38:13<1:27:46, 138.60s/it]"
     ]
    },
    {
     "name": "stdout",
     "output_type": "stream",
     "text": [
      "for params {'contamination': 0.05, 'n_clusters': 10, 'n_estimators': 25, 'variance_ratio': 0.95} got the score of : 0.044316143284190826\n"
     ]
    },
    {
     "name": "stderr",
     "output_type": "stream",
     "text": [
      "Hyperparameter Tuning:  66%|█████████▏    | 71/108 [2:40:28<1:24:55, 137.72s/it]"
     ]
    },
    {
     "name": "stdout",
     "output_type": "stream",
     "text": [
      "for params {'contamination': 0.05, 'n_clusters': 10, 'n_estimators': 50, 'variance_ratio': 0.9} got the score of : 0.0428097932666039\n"
     ]
    },
    {
     "name": "stderr",
     "output_type": "stream",
     "text": [
      "Hyperparameter Tuning:  67%|█████████▎    | 72/108 [2:42:44<1:22:20, 137.24s/it]"
     ]
    },
    {
     "name": "stdout",
     "output_type": "stream",
     "text": [
      "for params {'contamination': 0.05, 'n_clusters': 10, 'n_estimators': 50, 'variance_ratio': 0.95} got the score of : 0.0428097932666039\n"
     ]
    },
    {
     "name": "stderr",
     "output_type": "stream",
     "text": [
      "Hyperparameter Tuning:  68%|█████████▍    | 73/108 [2:44:44<1:16:56, 131.89s/it]"
     ]
    },
    {
     "name": "stdout",
     "output_type": "stream",
     "text": [
      "for params {'contamination': 0.1, 'n_clusters': 3, 'n_estimators': 10, 'variance_ratio': 0.9} got the score of : 0.03848485324111219\n"
     ]
    },
    {
     "name": "stderr",
     "output_type": "stream",
     "text": [
      "Hyperparameter Tuning:  69%|█████████▌    | 74/108 [2:46:49<1:13:39, 129.99s/it]"
     ]
    },
    {
     "name": "stdout",
     "output_type": "stream",
     "text": [
      "for params {'contamination': 0.1, 'n_clusters': 3, 'n_estimators': 10, 'variance_ratio': 0.95} got the score of : 0.03848485324111219\n"
     ]
    },
    {
     "name": "stderr",
     "output_type": "stream",
     "text": [
      "Hyperparameter Tuning:  69%|█████████▋    | 75/108 [2:49:00<1:11:33, 130.12s/it]"
     ]
    },
    {
     "name": "stdout",
     "output_type": "stream",
     "text": [
      "for params {'contamination': 0.1, 'n_clusters': 3, 'n_estimators': 25, 'variance_ratio': 0.9} got the score of : 0.04277768598735495\n"
     ]
    },
    {
     "name": "stderr",
     "output_type": "stream",
     "text": [
      "Hyperparameter Tuning:  70%|█████████▊    | 76/108 [2:51:05<1:08:36, 128.65s/it]"
     ]
    },
    {
     "name": "stdout",
     "output_type": "stream",
     "text": [
      "for params {'contamination': 0.1, 'n_clusters': 3, 'n_estimators': 25, 'variance_ratio': 0.95} got the score of : 0.04277768598735495\n"
     ]
    },
    {
     "name": "stderr",
     "output_type": "stream",
     "text": [
      "Hyperparameter Tuning:  71%|█████████▉    | 77/108 [2:53:12<1:06:16, 128.26s/it]"
     ]
    },
    {
     "name": "stdout",
     "output_type": "stream",
     "text": [
      "for params {'contamination': 0.1, 'n_clusters': 3, 'n_estimators': 50, 'variance_ratio': 0.9} got the score of : 0.057534251634545786\n"
     ]
    },
    {
     "name": "stderr",
     "output_type": "stream",
     "text": [
      "Hyperparameter Tuning:  72%|██████████    | 78/108 [2:55:28<1:05:18, 130.63s/it]"
     ]
    },
    {
     "name": "stdout",
     "output_type": "stream",
     "text": [
      "for params {'contamination': 0.1, 'n_clusters': 3, 'n_estimators': 50, 'variance_ratio': 0.95} got the score of : 0.057534251634545786\n"
     ]
    },
    {
     "name": "stderr",
     "output_type": "stream",
     "text": [
      "Hyperparameter Tuning:  73%|██████████▏   | 79/108 [2:57:37<1:02:54, 130.14s/it]"
     ]
    },
    {
     "name": "stdout",
     "output_type": "stream",
     "text": [
      "for params {'contamination': 0.1, 'n_clusters': 5, 'n_estimators': 10, 'variance_ratio': 0.9} got the score of : 0.03848485324111219\n"
     ]
    },
    {
     "name": "stderr",
     "output_type": "stream",
     "text": [
      "Hyperparameter Tuning:  74%|███████████▊    | 80/108 [2:59:39<59:29, 127.50s/it]"
     ]
    },
    {
     "name": "stdout",
     "output_type": "stream",
     "text": [
      "for params {'contamination': 0.1, 'n_clusters': 5, 'n_estimators': 10, 'variance_ratio': 0.95} got the score of : 0.03848485324111219\n"
     ]
    },
    {
     "name": "stderr",
     "output_type": "stream",
     "text": [
      "Hyperparameter Tuning:  75%|████████████    | 81/108 [3:01:36<55:58, 124.39s/it]"
     ]
    },
    {
     "name": "stdout",
     "output_type": "stream",
     "text": [
      "for params {'contamination': 0.1, 'n_clusters': 5, 'n_estimators': 25, 'variance_ratio': 0.9} got the score of : 0.04277768598735495\n"
     ]
    },
    {
     "name": "stderr",
     "output_type": "stream",
     "text": [
      "Hyperparameter Tuning:  76%|████████████▏   | 82/108 [3:03:29<52:27, 121.06s/it]"
     ]
    },
    {
     "name": "stdout",
     "output_type": "stream",
     "text": [
      "for params {'contamination': 0.1, 'n_clusters': 5, 'n_estimators': 25, 'variance_ratio': 0.95} got the score of : 0.04277768598735495\n"
     ]
    },
    {
     "name": "stderr",
     "output_type": "stream",
     "text": [
      "Hyperparameter Tuning:  77%|████████████▎   | 83/108 [3:05:22<49:21, 118.47s/it]"
     ]
    },
    {
     "name": "stdout",
     "output_type": "stream",
     "text": [
      "for params {'contamination': 0.1, 'n_clusters': 5, 'n_estimators': 50, 'variance_ratio': 0.9} got the score of : 0.057534251634545786\n"
     ]
    },
    {
     "name": "stderr",
     "output_type": "stream",
     "text": [
      "Hyperparameter Tuning:  78%|████████████▍   | 84/108 [3:07:16<46:50, 117.11s/it]"
     ]
    },
    {
     "name": "stdout",
     "output_type": "stream",
     "text": [
      "for params {'contamination': 0.1, 'n_clusters': 5, 'n_estimators': 50, 'variance_ratio': 0.95} got the score of : 0.057534251634545786\n"
     ]
    },
    {
     "name": "stderr",
     "output_type": "stream",
     "text": [
      "Hyperparameter Tuning:  79%|████████████▌   | 85/108 [3:09:06<44:08, 115.17s/it]"
     ]
    },
    {
     "name": "stdout",
     "output_type": "stream",
     "text": [
      "for params {'contamination': 0.1, 'n_clusters': 6, 'n_estimators': 10, 'variance_ratio': 0.9} got the score of : 0.03848485324111219\n"
     ]
    },
    {
     "name": "stderr",
     "output_type": "stream",
     "text": [
      "Hyperparameter Tuning:  80%|████████████▋   | 86/108 [3:10:57<41:46, 113.94s/it]"
     ]
    },
    {
     "name": "stdout",
     "output_type": "stream",
     "text": [
      "for params {'contamination': 0.1, 'n_clusters': 6, 'n_estimators': 10, 'variance_ratio': 0.95} got the score of : 0.03848485324111219\n"
     ]
    },
    {
     "name": "stderr",
     "output_type": "stream",
     "text": [
      "Hyperparameter Tuning:  81%|████████████▉   | 87/108 [3:12:49<39:41, 113.40s/it]"
     ]
    },
    {
     "name": "stdout",
     "output_type": "stream",
     "text": [
      "for params {'contamination': 0.1, 'n_clusters': 6, 'n_estimators': 25, 'variance_ratio': 0.9} got the score of : 0.04277768598735495\n"
     ]
    },
    {
     "name": "stderr",
     "output_type": "stream",
     "text": [
      "Hyperparameter Tuning:  81%|█████████████   | 88/108 [3:14:41<37:34, 112.71s/it]"
     ]
    },
    {
     "name": "stdout",
     "output_type": "stream",
     "text": [
      "for params {'contamination': 0.1, 'n_clusters': 6, 'n_estimators': 25, 'variance_ratio': 0.95} got the score of : 0.04277768598735495\n"
     ]
    },
    {
     "name": "stderr",
     "output_type": "stream",
     "text": [
      "Hyperparameter Tuning:  82%|█████████████▏  | 89/108 [3:16:33<35:40, 112.64s/it]"
     ]
    },
    {
     "name": "stdout",
     "output_type": "stream",
     "text": [
      "for params {'contamination': 0.1, 'n_clusters': 6, 'n_estimators': 50, 'variance_ratio': 0.9} got the score of : 0.057534251634545786\n"
     ]
    },
    {
     "name": "stderr",
     "output_type": "stream",
     "text": [
      "Hyperparameter Tuning:  83%|█████████████▎  | 90/108 [3:18:26<33:47, 112.65s/it]"
     ]
    },
    {
     "name": "stdout",
     "output_type": "stream",
     "text": [
      "for params {'contamination': 0.1, 'n_clusters': 6, 'n_estimators': 50, 'variance_ratio': 0.95} got the score of : 0.057534251634545786\n"
     ]
    },
    {
     "name": "stderr",
     "output_type": "stream",
     "text": [
      "Hyperparameter Tuning:  84%|█████████████▍  | 91/108 [3:20:16<31:45, 112.08s/it]"
     ]
    },
    {
     "name": "stdout",
     "output_type": "stream",
     "text": [
      "for params {'contamination': 0.1, 'n_clusters': 8, 'n_estimators': 10, 'variance_ratio': 0.9} got the score of : 0.03848485324111219\n"
     ]
    },
    {
     "name": "stderr",
     "output_type": "stream",
     "text": [
      "Hyperparameter Tuning:  85%|█████████████▋  | 92/108 [3:22:07<29:47, 111.69s/it]"
     ]
    },
    {
     "name": "stdout",
     "output_type": "stream",
     "text": [
      "for params {'contamination': 0.1, 'n_clusters': 8, 'n_estimators': 10, 'variance_ratio': 0.95} got the score of : 0.03848485324111219\n"
     ]
    },
    {
     "name": "stderr",
     "output_type": "stream",
     "text": [
      "Hyperparameter Tuning:  86%|█████████████▊  | 93/108 [3:23:59<27:55, 111.72s/it]"
     ]
    },
    {
     "name": "stdout",
     "output_type": "stream",
     "text": [
      "for params {'contamination': 0.1, 'n_clusters': 8, 'n_estimators': 25, 'variance_ratio': 0.9} got the score of : 0.04277768598735495\n"
     ]
    },
    {
     "name": "stderr",
     "output_type": "stream",
     "text": [
      "Hyperparameter Tuning:  87%|█████████████▉  | 94/108 [3:25:50<26:02, 111.58s/it]"
     ]
    },
    {
     "name": "stdout",
     "output_type": "stream",
     "text": [
      "for params {'contamination': 0.1, 'n_clusters': 8, 'n_estimators': 25, 'variance_ratio': 0.95} got the score of : 0.04277768598735495\n"
     ]
    },
    {
     "name": "stderr",
     "output_type": "stream",
     "text": [
      "Hyperparameter Tuning:  88%|██████████████  | 95/108 [3:27:43<24:15, 111.97s/it]"
     ]
    },
    {
     "name": "stdout",
     "output_type": "stream",
     "text": [
      "for params {'contamination': 0.1, 'n_clusters': 8, 'n_estimators': 50, 'variance_ratio': 0.9} got the score of : 0.057534251634545786\n"
     ]
    },
    {
     "name": "stderr",
     "output_type": "stream",
     "text": [
      "Hyperparameter Tuning:  89%|██████████████▏ | 96/108 [3:29:35<22:24, 112.03s/it]"
     ]
    },
    {
     "name": "stdout",
     "output_type": "stream",
     "text": [
      "for params {'contamination': 0.1, 'n_clusters': 8, 'n_estimators': 50, 'variance_ratio': 0.95} got the score of : 0.057534251634545786\n"
     ]
    },
    {
     "name": "stderr",
     "output_type": "stream",
     "text": [
      "Hyperparameter Tuning:  90%|██████████████▎ | 97/108 [3:31:26<20:28, 111.65s/it]"
     ]
    },
    {
     "name": "stdout",
     "output_type": "stream",
     "text": [
      "for params {'contamination': 0.1, 'n_clusters': 9, 'n_estimators': 10, 'variance_ratio': 0.9} got the score of : 0.03848485324111219\n"
     ]
    },
    {
     "name": "stderr",
     "output_type": "stream",
     "text": [
      "Hyperparameter Tuning:  91%|██████████████▌ | 98/108 [3:33:17<18:33, 111.36s/it]"
     ]
    },
    {
     "name": "stdout",
     "output_type": "stream",
     "text": [
      "for params {'contamination': 0.1, 'n_clusters': 9, 'n_estimators': 10, 'variance_ratio': 0.95} got the score of : 0.03848485324111219\n"
     ]
    },
    {
     "name": "stderr",
     "output_type": "stream",
     "text": [
      "Hyperparameter Tuning:  92%|██████████████▋ | 99/108 [3:35:09<16:43, 111.51s/it]"
     ]
    },
    {
     "name": "stdout",
     "output_type": "stream",
     "text": [
      "for params {'contamination': 0.1, 'n_clusters': 9, 'n_estimators': 25, 'variance_ratio': 0.9} got the score of : 0.04277768598735495\n"
     ]
    },
    {
     "name": "stderr",
     "output_type": "stream",
     "text": [
      "Hyperparameter Tuning:  93%|█████████████▉ | 100/108 [3:37:00<14:52, 111.52s/it]"
     ]
    },
    {
     "name": "stdout",
     "output_type": "stream",
     "text": [
      "for params {'contamination': 0.1, 'n_clusters': 9, 'n_estimators': 25, 'variance_ratio': 0.95} got the score of : 0.04277768598735495\n"
     ]
    },
    {
     "name": "stderr",
     "output_type": "stream",
     "text": [
      "Hyperparameter Tuning:  94%|██████████████ | 101/108 [3:38:53<13:02, 111.83s/it]"
     ]
    },
    {
     "name": "stdout",
     "output_type": "stream",
     "text": [
      "for params {'contamination': 0.1, 'n_clusters': 9, 'n_estimators': 50, 'variance_ratio': 0.9} got the score of : 0.057534251634545786\n"
     ]
    },
    {
     "name": "stderr",
     "output_type": "stream",
     "text": [
      "Hyperparameter Tuning:  94%|██████████████▏| 102/108 [3:40:45<11:12, 112.02s/it]"
     ]
    },
    {
     "name": "stdout",
     "output_type": "stream",
     "text": [
      "for params {'contamination': 0.1, 'n_clusters': 9, 'n_estimators': 50, 'variance_ratio': 0.95} got the score of : 0.057534251634545786\n"
     ]
    },
    {
     "name": "stderr",
     "output_type": "stream",
     "text": [
      "Hyperparameter Tuning:  95%|██████████████▎| 103/108 [3:42:36<09:18, 111.71s/it]"
     ]
    },
    {
     "name": "stdout",
     "output_type": "stream",
     "text": [
      "for params {'contamination': 0.1, 'n_clusters': 10, 'n_estimators': 10, 'variance_ratio': 0.9} got the score of : 0.03848485324111219\n"
     ]
    },
    {
     "name": "stderr",
     "output_type": "stream",
     "text": [
      "Hyperparameter Tuning:  96%|██████████████▍| 104/108 [3:44:27<07:25, 111.45s/it]"
     ]
    },
    {
     "name": "stdout",
     "output_type": "stream",
     "text": [
      "for params {'contamination': 0.1, 'n_clusters': 10, 'n_estimators': 10, 'variance_ratio': 0.95} got the score of : 0.03848485324111219\n"
     ]
    },
    {
     "name": "stderr",
     "output_type": "stream",
     "text": [
      "Hyperparameter Tuning:  97%|██████████████▌| 105/108 [3:46:19<05:34, 111.53s/it]"
     ]
    },
    {
     "name": "stdout",
     "output_type": "stream",
     "text": [
      "for params {'contamination': 0.1, 'n_clusters': 10, 'n_estimators': 25, 'variance_ratio': 0.9} got the score of : 0.04277768598735495\n"
     ]
    },
    {
     "name": "stderr",
     "output_type": "stream",
     "text": [
      "Hyperparameter Tuning:  98%|██████████████▋| 106/108 [3:48:11<03:43, 111.67s/it]"
     ]
    },
    {
     "name": "stdout",
     "output_type": "stream",
     "text": [
      "for params {'contamination': 0.1, 'n_clusters': 10, 'n_estimators': 25, 'variance_ratio': 0.95} got the score of : 0.04277768598735495\n"
     ]
    },
    {
     "name": "stderr",
     "output_type": "stream",
     "text": [
      "Hyperparameter Tuning:  99%|██████████████▊| 107/108 [3:50:03<01:51, 111.91s/it]"
     ]
    },
    {
     "name": "stdout",
     "output_type": "stream",
     "text": [
      "for params {'contamination': 0.1, 'n_clusters': 10, 'n_estimators': 50, 'variance_ratio': 0.9} got the score of : 0.057534251634545786\n"
     ]
    },
    {
     "name": "stderr",
     "output_type": "stream",
     "text": [
      "Hyperparameter Tuning: 100%|███████████████| 108/108 [3:51:56<00:00, 128.86s/it]"
     ]
    },
    {
     "name": "stdout",
     "output_type": "stream",
     "text": [
      "for params {'contamination': 0.1, 'n_clusters': 10, 'n_estimators': 50, 'variance_ratio': 0.95} got the score of : 0.057534251634545786\n",
      "Best score: 0.057534251634545786\n",
      "Best parameters: {'contamination': 0.1, 'n_clusters': 3, 'n_estimators': 50, 'variance_ratio': 0.9}\n"
     ]
    },
    {
     "name": "stderr",
     "output_type": "stream",
     "text": [
      "\n"
     ]
    }
   ],
   "source": [
    "from sklearn.model_selection import ParameterGrid\n",
    "from sklearn.metrics import silhouette_score\n",
    "from tqdm import tqdm\n",
    "\n",
    "param_grid = {\n",
    "    'n_estimators': [10, 25, 50],\n",
    "    'contamination': [0.01, 0.05, 0.1],\n",
    "    'variance_ratio': [0.9, 0.95],\n",
    "    'n_clusters': [3, 5, 6, 8, 9, 10]\n",
    "}\n",
    "\n",
    "grid = ParameterGrid(param_grid)\n",
    "\n",
    "best_score = -1\n",
    "best_params = None\n",
    "\n",
    "pbar = tqdm(total=len(grid), desc='Hyperparameter Tuning', ncols=80)\n",
    "\n",
    "for params in grid:\n",
    "    tuner = kmeans_pipe_hyper_parameter_tuner(**params, df=no_missing, random_state=42)\n",
    "    tuner.fit()\n",
    "    score = silhouette_score(tuner.PCA_df, tuner.model.labels_)\n",
    "    \n",
    "    print (f'for params {params} got the score of : {score}')\n",
    "    \n",
    "    if score > best_score:\n",
    "        best_score = score\n",
    "        best_params = params\n",
    "\n",
    "    pbar.update()\n",
    "\n",
    "pbar.close()\n",
    "\n",
    "print(f\"Best score: {best_score}\")\n",
    "print(f\"Best parameters: {best_params}\")"
   ]
  },
  {
   "cell_type": "code",
   "execution_count": 123,
   "metadata": {},
   "outputs": [],
   "source": [
    "tuner = kmeans_pipe_hyper_parameter_tuner(50, 0.1,0.9,3 , df=no_missing, random_state=42)\n",
    "tuner.fit()\n",
    "best_k_means_model = tuner.model"
   ]
  },
  {
   "cell_type": "markdown",
   "metadata": {},
   "source": [
    "now lets tune dbscan hyper parameters"
   ]
  },
  {
   "cell_type": "code",
   "execution_count": 133,
   "metadata": {},
   "outputs": [],
   "source": [
    "class dbscan_pipe_hyper_parameter_tuner:\n",
    "    \n",
    "    def __init__(self, n_estimators, contamination, variance_ratio, eps, mean_samples, df, random_state):\n",
    "        self.n_estimators = n_estimators\n",
    "        self.contamination = contamination\n",
    "        self.variance_ratio = variance_ratio\n",
    "        self.eps = eps\n",
    "        self.mean_samples = mean_samples\n",
    "        self.df = df\n",
    "        self.random_state=random_state\n",
    "        \n",
    "    def fit(self):\n",
    "        df_no_outliers, df_outliers = detect_outliers(self.df, self.n_estimators, self.contamination, self.random_state)\n",
    "        df_normalized = normalize_features(df_no_outliers)\n",
    "        df_pca = apply_pca(df_normalized, self.variance_ratio, self.random_state)\n",
    "        dbscan_df , dbscan_model = fit_dbscan(df_pca , self.eps, self.mean_samples)\n",
    "        self.model = dbscan_model\n",
    "        self.PCA_df = df_pca"
   ]
  },
  {
   "cell_type": "code",
   "execution_count": null,
   "metadata": {},
   "outputs": [],
   "source": [
    "param_grid = {\n",
    "    'n_estimators': [25, 50],\n",
    "    'contamination': [0.05, 0.1],\n",
    "    'variance_ratio': [0.9, 0.95],\n",
    "    'eps': [0.2, 0.3, 0.4],\n",
    "    'mean_samples' : [10, 15, 20]\n",
    "}\n",
    "\n",
    "grid = ParameterGrid(param_grid)\n",
    "\n",
    "best_score = -1\n",
    "best_params = None\n",
    "\n",
    "pbar = tqdm(total=len(grid), desc='Hyperparameter Tuning', ncols=80)\n",
    "\n",
    "for params in grid:\n",
    "    tuner = dbscan_pipe_hyper_parameter_tuner(**params, df=no_missing, random_state=42)\n",
    "    tuner.fit()\n",
    "    score = silhouette_score(tuner.PCA_df, tuner.model.labels_)\n",
    "    \n",
    "    print (f'for params {params} got the score of : {score}')\n",
    "    \n",
    "    if score > best_score:\n",
    "        best_score = score\n",
    "        best_params = params\n",
    "\n",
    "    pbar.update()\n",
    "\n",
    "pbar.close()\n",
    "\n",
    "print(f\"Best score: {best_score}\")\n",
    "print(f\"Best parameters: {best_params}\")"
   ]
  },
  {
   "cell_type": "code",
   "execution_count": 172,
   "metadata": {},
   "outputs": [
    {
     "name": "stderr",
     "output_type": "stream",
     "text": [
      "Hyperparameter Tuning:  38%|███████▌            | 18/48 [02:14<03:43,  7.46s/it]\n"
     ]
    },
    {
     "name": "stdout",
     "output_type": "stream",
     "text": [
      "in outlier detection n_estimators is 50 and the contamination is 0.1\n",
      "in pca the variance ratio is 3\n",
      "Total explained variance: 0.9999999999850945\n",
      "in k-means the n_clusters is 3\n"
     ]
    },
    {
     "name": "stderr",
     "output_type": "stream",
     "text": []
    },
    {
     "name": "stdout",
     "output_type": "stream",
     "text": [
      "for params {'contamination': 0.1, 'n_clusters': 3, 'n_estimators': 50, 'variance_ratio': 3} got the score of : 0.273004092007024\n",
      "in outlier detection n_estimators is 50 and the contamination is 0.1\n",
      "in pca the variance ratio is 5\n",
      "Total explained variance: 0.9999999999999462\n",
      "in k-means the n_clusters is 3\n"
     ]
    },
    {
     "name": "stderr",
     "output_type": "stream",
     "text": []
    },
    {
     "name": "stdout",
     "output_type": "stream",
     "text": [
      "for params {'contamination': 0.1, 'n_clusters': 3, 'n_estimators': 50, 'variance_ratio': 5} got the score of : 0.16071018048520405\n",
      "in outlier detection n_estimators is 100 and the contamination is 0.1\n",
      "in pca the variance ratio is 3\n",
      "Total explained variance: 0.9999999999852016\n",
      "in k-means the n_clusters is 3\n"
     ]
    },
    {
     "name": "stderr",
     "output_type": "stream",
     "text": []
    },
    {
     "name": "stdout",
     "output_type": "stream",
     "text": [
      "for params {'contamination': 0.1, 'n_clusters': 3, 'n_estimators': 100, 'variance_ratio': 3} got the score of : 0.2589098171806015\n",
      "in outlier detection n_estimators is 100 and the contamination is 0.1\n",
      "in pca the variance ratio is 5\n",
      "Total explained variance: 0.9999999999999438\n",
      "in k-means the n_clusters is 3\n"
     ]
    },
    {
     "name": "stderr",
     "output_type": "stream",
     "text": []
    },
    {
     "name": "stdout",
     "output_type": "stream",
     "text": [
      "for params {'contamination': 0.1, 'n_clusters': 3, 'n_estimators': 100, 'variance_ratio': 5} got the score of : 0.17124345212367556\n",
      "in outlier detection n_estimators is 50 and the contamination is 0.1\n",
      "in pca the variance ratio is 3\n",
      "Total explained variance: 0.9999999999850945\n",
      "in k-means the n_clusters is 4\n"
     ]
    },
    {
     "name": "stderr",
     "output_type": "stream",
     "text": []
    },
    {
     "name": "stdout",
     "output_type": "stream",
     "text": [
      "for params {'contamination': 0.1, 'n_clusters': 4, 'n_estimators': 50, 'variance_ratio': 3} got the score of : 0.3016934227195018\n",
      "in outlier detection n_estimators is 50 and the contamination is 0.1\n",
      "in pca the variance ratio is 5\n",
      "Total explained variance: 0.9999999999999462\n",
      "in k-means the n_clusters is 4\n"
     ]
    },
    {
     "name": "stderr",
     "output_type": "stream",
     "text": []
    },
    {
     "name": "stdout",
     "output_type": "stream",
     "text": [
      "for params {'contamination': 0.1, 'n_clusters': 4, 'n_estimators': 50, 'variance_ratio': 5} got the score of : 0.1689294695039616\n",
      "in outlier detection n_estimators is 100 and the contamination is 0.1\n",
      "in pca the variance ratio is 3\n",
      "Total explained variance: 0.9999999999852016\n",
      "in k-means the n_clusters is 4\n"
     ]
    },
    {
     "name": "stderr",
     "output_type": "stream",
     "text": []
    },
    {
     "name": "stdout",
     "output_type": "stream",
     "text": [
      "for params {'contamination': 0.1, 'n_clusters': 4, 'n_estimators': 100, 'variance_ratio': 3} got the score of : 0.3042435942000006\n",
      "in outlier detection n_estimators is 100 and the contamination is 0.1\n",
      "in pca the variance ratio is 5\n",
      "Total explained variance: 0.9999999999999438\n",
      "in k-means the n_clusters is 4\n"
     ]
    },
    {
     "name": "stderr",
     "output_type": "stream",
     "text": []
    },
    {
     "name": "stdout",
     "output_type": "stream",
     "text": [
      "for params {'contamination': 0.1, 'n_clusters': 4, 'n_estimators': 100, 'variance_ratio': 5} got the score of : 0.16849893823962978\n",
      "in outlier detection n_estimators is 50 and the contamination is 0.1\n",
      "in pca the variance ratio is 3\n",
      "Total explained variance: 0.9999999999850945\n",
      "in k-means the n_clusters is 5\n"
     ]
    },
    {
     "name": "stderr",
     "output_type": "stream",
     "text": []
    },
    {
     "name": "stdout",
     "output_type": "stream",
     "text": [
      "for params {'contamination': 0.1, 'n_clusters': 5, 'n_estimators': 50, 'variance_ratio': 3} got the score of : 0.3017918716514542\n",
      "in outlier detection n_estimators is 50 and the contamination is 0.1\n",
      "in pca the variance ratio is 5\n",
      "Total explained variance: 0.9999999999999462\n",
      "in k-means the n_clusters is 5\n"
     ]
    },
    {
     "name": "stderr",
     "output_type": "stream",
     "text": []
    },
    {
     "name": "stdout",
     "output_type": "stream",
     "text": [
      "for params {'contamination': 0.1, 'n_clusters': 5, 'n_estimators': 50, 'variance_ratio': 5} got the score of : 0.1700567425825276\n",
      "in outlier detection n_estimators is 100 and the contamination is 0.1\n",
      "in pca the variance ratio is 3\n",
      "Total explained variance: 0.9999999999852016\n",
      "in k-means the n_clusters is 5\n"
     ]
    },
    {
     "name": "stderr",
     "output_type": "stream",
     "text": []
    },
    {
     "name": "stdout",
     "output_type": "stream",
     "text": [
      "for params {'contamination': 0.1, 'n_clusters': 5, 'n_estimators': 100, 'variance_ratio': 3} got the score of : 0.27946691671647556\n",
      "in outlier detection n_estimators is 100 and the contamination is 0.1\n",
      "in pca the variance ratio is 5\n",
      "Total explained variance: 0.9999999999999438\n",
      "in k-means the n_clusters is 5\n"
     ]
    },
    {
     "name": "stderr",
     "output_type": "stream",
     "text": []
    },
    {
     "name": "stdout",
     "output_type": "stream",
     "text": [
      "for params {'contamination': 0.1, 'n_clusters': 5, 'n_estimators': 100, 'variance_ratio': 5} got the score of : 0.1727978721545422\n",
      "in outlier detection n_estimators is 50 and the contamination is 0.1\n",
      "in pca the variance ratio is 3\n",
      "Total explained variance: 0.9999999999850945\n",
      "in k-means the n_clusters is 6\n"
     ]
    },
    {
     "name": "stderr",
     "output_type": "stream",
     "text": []
    },
    {
     "name": "stdout",
     "output_type": "stream",
     "text": [
      "for params {'contamination': 0.1, 'n_clusters': 6, 'n_estimators': 50, 'variance_ratio': 3} got the score of : 0.2723681557401814\n",
      "in outlier detection n_estimators is 50 and the contamination is 0.1\n",
      "in pca the variance ratio is 5\n",
      "Total explained variance: 0.9999999999999462\n",
      "in k-means the n_clusters is 6\n"
     ]
    },
    {
     "name": "stderr",
     "output_type": "stream",
     "text": []
    },
    {
     "name": "stdout",
     "output_type": "stream",
     "text": [
      "for params {'contamination': 0.1, 'n_clusters': 6, 'n_estimators': 50, 'variance_ratio': 5} got the score of : 0.17656635532971743\n",
      "in outlier detection n_estimators is 100 and the contamination is 0.1\n",
      "in pca the variance ratio is 3\n",
      "Total explained variance: 0.9999999999852016\n",
      "in k-means the n_clusters is 6\n"
     ]
    },
    {
     "name": "stderr",
     "output_type": "stream",
     "text": []
    },
    {
     "name": "stdout",
     "output_type": "stream",
     "text": [
      "for params {'contamination': 0.1, 'n_clusters': 6, 'n_estimators': 100, 'variance_ratio': 3} got the score of : 0.2855173693091499\n",
      "in outlier detection n_estimators is 100 and the contamination is 0.1\n",
      "in pca the variance ratio is 5\n",
      "Total explained variance: 0.9999999999999438\n",
      "in k-means the n_clusters is 6\n"
     ]
    },
    {
     "name": "stderr",
     "output_type": "stream",
     "text": []
    },
    {
     "name": "stdout",
     "output_type": "stream",
     "text": [
      "for params {'contamination': 0.1, 'n_clusters': 6, 'n_estimators': 100, 'variance_ratio': 5} got the score of : 0.1749376634502625\n",
      "in outlier detection n_estimators is 50 and the contamination is 0.15\n",
      "in pca the variance ratio is 3\n",
      "Total explained variance: 0.9999999999853221\n",
      "in k-means the n_clusters is 3\n"
     ]
    },
    {
     "name": "stderr",
     "output_type": "stream",
     "text": []
    },
    {
     "name": "stdout",
     "output_type": "stream",
     "text": [
      "for params {'contamination': 0.15, 'n_clusters': 3, 'n_estimators': 50, 'variance_ratio': 3} got the score of : 0.2736586177983071\n",
      "in outlier detection n_estimators is 50 and the contamination is 0.15\n",
      "in pca the variance ratio is 5\n",
      "Total explained variance: 0.9999999999999452\n",
      "in k-means the n_clusters is 3\n"
     ]
    },
    {
     "name": "stderr",
     "output_type": "stream",
     "text": []
    },
    {
     "name": "stdout",
     "output_type": "stream",
     "text": [
      "for params {'contamination': 0.15, 'n_clusters': 3, 'n_estimators': 50, 'variance_ratio': 5} got the score of : 0.14259322566343147\n",
      "in outlier detection n_estimators is 100 and the contamination is 0.15\n",
      "in pca the variance ratio is 3\n",
      "Total explained variance: 0.9999999999854868\n",
      "in k-means the n_clusters is 3\n"
     ]
    },
    {
     "name": "stderr",
     "output_type": "stream",
     "text": []
    },
    {
     "name": "stdout",
     "output_type": "stream",
     "text": [
      "for params {'contamination': 0.15, 'n_clusters': 3, 'n_estimators': 100, 'variance_ratio': 3} got the score of : 0.29075773250693954\n",
      "in outlier detection n_estimators is 100 and the contamination is 0.15\n"
     ]
    },
    {
     "ename": "KeyboardInterrupt",
     "evalue": "",
     "output_type": "error",
     "traceback": [
      "\u001b[1;31m---------------------------------------------------------------------------\u001b[0m",
      "\u001b[1;31mKeyboardInterrupt\u001b[0m                         Traceback (most recent call last)",
      "Cell \u001b[1;32mIn[172], line 74\u001b[0m\n\u001b[0;32m     72\u001b[0m \u001b[38;5;28;01mfor\u001b[39;00m params \u001b[38;5;129;01min\u001b[39;00m grid:\n\u001b[0;32m     73\u001b[0m     tuner \u001b[38;5;241m=\u001b[39m kmeans_pipe_hyper_parameter_tuner(\u001b[38;5;241m*\u001b[39m\u001b[38;5;241m*\u001b[39mparams, df\u001b[38;5;241m=\u001b[39mno_missing, random_state\u001b[38;5;241m=\u001b[39m\u001b[38;5;241m1\u001b[39m)\n\u001b[1;32m---> 74\u001b[0m     \u001b[43mtuner\u001b[49m\u001b[38;5;241;43m.\u001b[39;49m\u001b[43mfit\u001b[49m\u001b[43m(\u001b[49m\u001b[43m)\u001b[49m\n\u001b[0;32m     75\u001b[0m     score \u001b[38;5;241m=\u001b[39m tuner\u001b[38;5;241m.\u001b[39mcv_silhouette_score(sample_percentage\u001b[38;5;241m=\u001b[39m\u001b[38;5;241m0.1\u001b[39m, cv\u001b[38;5;241m=\u001b[39m\u001b[38;5;241m3\u001b[39m)  \u001b[38;5;66;03m# Adjust sample percentage and cv as needed\u001b[39;00m\n\u001b[0;32m     77\u001b[0m     \u001b[38;5;28mprint\u001b[39m (\u001b[38;5;124mf\u001b[39m\u001b[38;5;124m'\u001b[39m\u001b[38;5;124mfor params \u001b[39m\u001b[38;5;132;01m{\u001b[39;00mparams\u001b[38;5;132;01m}\u001b[39;00m\u001b[38;5;124m got the score of : \u001b[39m\u001b[38;5;132;01m{\u001b[39;00mscore\u001b[38;5;132;01m}\u001b[39;00m\u001b[38;5;124m'\u001b[39m)\n",
      "Cell \u001b[1;32mIn[172], line 24\u001b[0m, in \u001b[0;36mkmeans_pipe_hyper_parameter_tuner.fit\u001b[1;34m(self)\u001b[0m\n\u001b[0;32m     23\u001b[0m \u001b[38;5;28;01mdef\u001b[39;00m \u001b[38;5;21mfit\u001b[39m(\u001b[38;5;28mself\u001b[39m):\n\u001b[1;32m---> 24\u001b[0m     df_no_outliers, df_outliers \u001b[38;5;241m=\u001b[39m \u001b[43mdetect_outliers\u001b[49m\u001b[43m(\u001b[49m\u001b[38;5;28;43mself\u001b[39;49m\u001b[38;5;241;43m.\u001b[39;49m\u001b[43mdf\u001b[49m\u001b[43m,\u001b[49m\u001b[43m \u001b[49m\u001b[38;5;28;43mself\u001b[39;49m\u001b[38;5;241;43m.\u001b[39;49m\u001b[43mn_estimators\u001b[49m\u001b[43m,\u001b[49m\u001b[43m \u001b[49m\u001b[38;5;28;43mself\u001b[39;49m\u001b[38;5;241;43m.\u001b[39;49m\u001b[43mcontamination\u001b[49m\u001b[43m,\u001b[49m\u001b[43m \u001b[49m\u001b[38;5;28;43mself\u001b[39;49m\u001b[38;5;241;43m.\u001b[39;49m\u001b[43mrandom_state\u001b[49m\u001b[43m)\u001b[49m\n\u001b[0;32m     25\u001b[0m     df_pca \u001b[38;5;241m=\u001b[39m apply_pca(df_no_outliers, variance_ratio \u001b[38;5;241m=\u001b[39m \u001b[38;5;28mself\u001b[39m\u001b[38;5;241m.\u001b[39mvariance_ratio, random_state \u001b[38;5;241m=\u001b[39m \u001b[38;5;28mself\u001b[39m\u001b[38;5;241m.\u001b[39mrandom_state)\n\u001b[0;32m     26\u001b[0m     df_normalized \u001b[38;5;241m=\u001b[39m normalize_features(df_pca)\n",
      "Cell \u001b[1;32mIn[124], line 11\u001b[0m, in \u001b[0;36mdetect_outliers\u001b[1;34m(df, n_estimators, contamination, random_state)\u001b[0m\n\u001b[0;32m      7\u001b[0m df_copy \u001b[38;5;241m=\u001b[39m df\u001b[38;5;241m.\u001b[39mcopy()\n\u001b[0;32m      9\u001b[0m iso \u001b[38;5;241m=\u001b[39m IsolationForest(n_estimators\u001b[38;5;241m=\u001b[39mn_estimators, contamination\u001b[38;5;241m=\u001b[39mcontamination ,random_state\u001b[38;5;241m=\u001b[39mrandom_state)\n\u001b[1;32m---> 11\u001b[0m outlier_label \u001b[38;5;241m=\u001b[39m \u001b[43miso\u001b[49m\u001b[38;5;241;43m.\u001b[39;49m\u001b[43mfit_predict\u001b[49m\u001b[43m(\u001b[49m\u001b[43mdf_copy\u001b[49m\u001b[43m)\u001b[49m\n\u001b[0;32m     13\u001b[0m df_copy[\u001b[38;5;124m'\u001b[39m\u001b[38;5;124moutlier\u001b[39m\u001b[38;5;124m'\u001b[39m] \u001b[38;5;241m=\u001b[39m outlier_label\n\u001b[0;32m     15\u001b[0m df_outliers \u001b[38;5;241m=\u001b[39m df_copy[df_copy[\u001b[38;5;124m'\u001b[39m\u001b[38;5;124moutlier\u001b[39m\u001b[38;5;124m'\u001b[39m] \u001b[38;5;241m==\u001b[39m \u001b[38;5;241m-\u001b[39m\u001b[38;5;241m1\u001b[39m]\n",
      "File \u001b[1;32mc:\\Users\\mmd\\AppData\\Local\\Programs\\Python\\Python310\\lib\\site-packages\\sklearn\\base.py:1311\u001b[0m, in \u001b[0;36mOutlierMixin.fit_predict\u001b[1;34m(self, X, y, **kwargs)\u001b[0m\n\u001b[0;32m   1297\u001b[0m         warnings\u001b[38;5;241m.\u001b[39mwarn(\n\u001b[0;32m   1298\u001b[0m             (\n\u001b[0;32m   1299\u001b[0m                 \u001b[38;5;124mf\u001b[39m\u001b[38;5;124m\"\u001b[39m\u001b[38;5;124mThis object (\u001b[39m\u001b[38;5;132;01m{\u001b[39;00m\u001b[38;5;28mself\u001b[39m\u001b[38;5;241m.\u001b[39m\u001b[38;5;18m__class__\u001b[39m\u001b[38;5;241m.\u001b[39m\u001b[38;5;18m__name__\u001b[39m\u001b[38;5;132;01m}\u001b[39;00m\u001b[38;5;124m) has a `predict` \u001b[39m\u001b[38;5;124m\"\u001b[39m\n\u001b[1;32m   (...)\u001b[0m\n\u001b[0;32m   1307\u001b[0m             \u001b[38;5;167;01mUserWarning\u001b[39;00m,\n\u001b[0;32m   1308\u001b[0m         )\n\u001b[0;32m   1310\u001b[0m \u001b[38;5;66;03m# override for transductive outlier detectors like LocalOulierFactor\u001b[39;00m\n\u001b[1;32m-> 1311\u001b[0m \u001b[38;5;28;01mreturn\u001b[39;00m \u001b[38;5;28mself\u001b[39m\u001b[38;5;241m.\u001b[39mfit(X, \u001b[38;5;241m*\u001b[39m\u001b[38;5;241m*\u001b[39mkwargs)\u001b[38;5;241m.\u001b[39mpredict(X)\n",
      "File \u001b[1;32mc:\\Users\\mmd\\AppData\\Local\\Programs\\Python\\Python310\\lib\\site-packages\\sklearn\\base.py:1474\u001b[0m, in \u001b[0;36m_fit_context.<locals>.decorator.<locals>.wrapper\u001b[1;34m(estimator, *args, **kwargs)\u001b[0m\n\u001b[0;32m   1467\u001b[0m     estimator\u001b[38;5;241m.\u001b[39m_validate_params()\n\u001b[0;32m   1469\u001b[0m \u001b[38;5;28;01mwith\u001b[39;00m config_context(\n\u001b[0;32m   1470\u001b[0m     skip_parameter_validation\u001b[38;5;241m=\u001b[39m(\n\u001b[0;32m   1471\u001b[0m         prefer_skip_nested_validation \u001b[38;5;129;01mor\u001b[39;00m global_skip_validation\n\u001b[0;32m   1472\u001b[0m     )\n\u001b[0;32m   1473\u001b[0m ):\n\u001b[1;32m-> 1474\u001b[0m     \u001b[38;5;28;01mreturn\u001b[39;00m fit_method(estimator, \u001b[38;5;241m*\u001b[39margs, \u001b[38;5;241m*\u001b[39m\u001b[38;5;241m*\u001b[39mkwargs)\n",
      "File \u001b[1;32mc:\\Users\\mmd\\AppData\\Local\\Programs\\Python\\Python310\\lib\\site-packages\\sklearn\\ensemble\\_iforest.py:316\u001b[0m, in \u001b[0;36mIsolationForest.fit\u001b[1;34m(self, X, y, sample_weight)\u001b[0m\n\u001b[0;32m    314\u001b[0m \u001b[38;5;28mself\u001b[39m\u001b[38;5;241m.\u001b[39mmax_samples_ \u001b[38;5;241m=\u001b[39m max_samples\n\u001b[0;32m    315\u001b[0m max_depth \u001b[38;5;241m=\u001b[39m \u001b[38;5;28mint\u001b[39m(np\u001b[38;5;241m.\u001b[39mceil(np\u001b[38;5;241m.\u001b[39mlog2(\u001b[38;5;28mmax\u001b[39m(max_samples, \u001b[38;5;241m2\u001b[39m))))\n\u001b[1;32m--> 316\u001b[0m \u001b[38;5;28;43msuper\u001b[39;49m\u001b[43m(\u001b[49m\u001b[43m)\u001b[49m\u001b[38;5;241;43m.\u001b[39;49m\u001b[43m_fit\u001b[49m\u001b[43m(\u001b[49m\n\u001b[0;32m    317\u001b[0m \u001b[43m    \u001b[49m\u001b[43mX\u001b[49m\u001b[43m,\u001b[49m\n\u001b[0;32m    318\u001b[0m \u001b[43m    \u001b[49m\u001b[43my\u001b[49m\u001b[43m,\u001b[49m\n\u001b[0;32m    319\u001b[0m \u001b[43m    \u001b[49m\u001b[43mmax_samples\u001b[49m\u001b[43m,\u001b[49m\n\u001b[0;32m    320\u001b[0m \u001b[43m    \u001b[49m\u001b[43mmax_depth\u001b[49m\u001b[38;5;241;43m=\u001b[39;49m\u001b[43mmax_depth\u001b[49m\u001b[43m,\u001b[49m\n\u001b[0;32m    321\u001b[0m \u001b[43m    \u001b[49m\u001b[43msample_weight\u001b[49m\u001b[38;5;241;43m=\u001b[39;49m\u001b[43msample_weight\u001b[49m\u001b[43m,\u001b[49m\n\u001b[0;32m    322\u001b[0m \u001b[43m    \u001b[49m\u001b[43mcheck_input\u001b[49m\u001b[38;5;241;43m=\u001b[39;49m\u001b[38;5;28;43;01mFalse\u001b[39;49;00m\u001b[43m,\u001b[49m\n\u001b[0;32m    323\u001b[0m \u001b[43m\u001b[49m\u001b[43m)\u001b[49m\n\u001b[0;32m    325\u001b[0m \u001b[38;5;28mself\u001b[39m\u001b[38;5;241m.\u001b[39m_average_path_length_per_tree, \u001b[38;5;28mself\u001b[39m\u001b[38;5;241m.\u001b[39m_decision_path_lengths \u001b[38;5;241m=\u001b[39m \u001b[38;5;28mzip\u001b[39m(\n\u001b[0;32m    326\u001b[0m     \u001b[38;5;241m*\u001b[39m[\n\u001b[0;32m    327\u001b[0m         (\n\u001b[1;32m   (...)\u001b[0m\n\u001b[0;32m    332\u001b[0m     ]\n\u001b[0;32m    333\u001b[0m )\n\u001b[0;32m    335\u001b[0m \u001b[38;5;28;01mif\u001b[39;00m \u001b[38;5;28mself\u001b[39m\u001b[38;5;241m.\u001b[39mcontamination \u001b[38;5;241m==\u001b[39m \u001b[38;5;124m\"\u001b[39m\u001b[38;5;124mauto\u001b[39m\u001b[38;5;124m\"\u001b[39m:\n\u001b[0;32m    336\u001b[0m     \u001b[38;5;66;03m# 0.5 plays a special role as described in the original paper.\u001b[39;00m\n\u001b[0;32m    337\u001b[0m     \u001b[38;5;66;03m# we take the opposite as we consider the opposite of their score.\u001b[39;00m\n",
      "File \u001b[1;32mc:\\Users\\mmd\\AppData\\Local\\Programs\\Python\\Python310\\lib\\site-packages\\sklearn\\ensemble\\_bagging.py:469\u001b[0m, in \u001b[0;36mBaseBagging._fit\u001b[1;34m(self, X, y, max_samples, max_depth, sample_weight, check_input)\u001b[0m\n\u001b[0;32m    466\u001b[0m seeds \u001b[38;5;241m=\u001b[39m random_state\u001b[38;5;241m.\u001b[39mrandint(MAX_INT, size\u001b[38;5;241m=\u001b[39mn_more_estimators)\n\u001b[0;32m    467\u001b[0m \u001b[38;5;28mself\u001b[39m\u001b[38;5;241m.\u001b[39m_seeds \u001b[38;5;241m=\u001b[39m seeds\n\u001b[1;32m--> 469\u001b[0m all_results \u001b[38;5;241m=\u001b[39m \u001b[43mParallel\u001b[49m\u001b[43m(\u001b[49m\n\u001b[0;32m    470\u001b[0m \u001b[43m    \u001b[49m\u001b[43mn_jobs\u001b[49m\u001b[38;5;241;43m=\u001b[39;49m\u001b[43mn_jobs\u001b[49m\u001b[43m,\u001b[49m\u001b[43m \u001b[49m\u001b[43mverbose\u001b[49m\u001b[38;5;241;43m=\u001b[39;49m\u001b[38;5;28;43mself\u001b[39;49m\u001b[38;5;241;43m.\u001b[39;49m\u001b[43mverbose\u001b[49m\u001b[43m,\u001b[49m\u001b[43m \u001b[49m\u001b[38;5;241;43m*\u001b[39;49m\u001b[38;5;241;43m*\u001b[39;49m\u001b[38;5;28;43mself\u001b[39;49m\u001b[38;5;241;43m.\u001b[39;49m\u001b[43m_parallel_args\u001b[49m\u001b[43m(\u001b[49m\u001b[43m)\u001b[49m\n\u001b[0;32m    471\u001b[0m \u001b[43m\u001b[49m\u001b[43m)\u001b[49m\u001b[43m(\u001b[49m\n\u001b[0;32m    472\u001b[0m \u001b[43m    \u001b[49m\u001b[43mdelayed\u001b[49m\u001b[43m(\u001b[49m\u001b[43m_parallel_build_estimators\u001b[49m\u001b[43m)\u001b[49m\u001b[43m(\u001b[49m\n\u001b[0;32m    473\u001b[0m \u001b[43m        \u001b[49m\u001b[43mn_estimators\u001b[49m\u001b[43m[\u001b[49m\u001b[43mi\u001b[49m\u001b[43m]\u001b[49m\u001b[43m,\u001b[49m\n\u001b[0;32m    474\u001b[0m \u001b[43m        \u001b[49m\u001b[38;5;28;43mself\u001b[39;49m\u001b[43m,\u001b[49m\n\u001b[0;32m    475\u001b[0m \u001b[43m        \u001b[49m\u001b[43mX\u001b[49m\u001b[43m,\u001b[49m\n\u001b[0;32m    476\u001b[0m \u001b[43m        \u001b[49m\u001b[43my\u001b[49m\u001b[43m,\u001b[49m\n\u001b[0;32m    477\u001b[0m \u001b[43m        \u001b[49m\u001b[43msample_weight\u001b[49m\u001b[43m,\u001b[49m\n\u001b[0;32m    478\u001b[0m \u001b[43m        \u001b[49m\u001b[43mseeds\u001b[49m\u001b[43m[\u001b[49m\u001b[43mstarts\u001b[49m\u001b[43m[\u001b[49m\u001b[43mi\u001b[49m\u001b[43m]\u001b[49m\u001b[43m \u001b[49m\u001b[43m:\u001b[49m\u001b[43m \u001b[49m\u001b[43mstarts\u001b[49m\u001b[43m[\u001b[49m\u001b[43mi\u001b[49m\u001b[43m \u001b[49m\u001b[38;5;241;43m+\u001b[39;49m\u001b[43m \u001b[49m\u001b[38;5;241;43m1\u001b[39;49m\u001b[43m]\u001b[49m\u001b[43m]\u001b[49m\u001b[43m,\u001b[49m\n\u001b[0;32m    479\u001b[0m \u001b[43m        \u001b[49m\u001b[43mtotal_n_estimators\u001b[49m\u001b[43m,\u001b[49m\n\u001b[0;32m    480\u001b[0m \u001b[43m        \u001b[49m\u001b[43mverbose\u001b[49m\u001b[38;5;241;43m=\u001b[39;49m\u001b[38;5;28;43mself\u001b[39;49m\u001b[38;5;241;43m.\u001b[39;49m\u001b[43mverbose\u001b[49m\u001b[43m,\u001b[49m\n\u001b[0;32m    481\u001b[0m \u001b[43m        \u001b[49m\u001b[43mcheck_input\u001b[49m\u001b[38;5;241;43m=\u001b[39;49m\u001b[43mcheck_input\u001b[49m\u001b[43m,\u001b[49m\n\u001b[0;32m    482\u001b[0m \u001b[43m    \u001b[49m\u001b[43m)\u001b[49m\n\u001b[0;32m    483\u001b[0m \u001b[43m    \u001b[49m\u001b[38;5;28;43;01mfor\u001b[39;49;00m\u001b[43m \u001b[49m\u001b[43mi\u001b[49m\u001b[43m \u001b[49m\u001b[38;5;129;43;01min\u001b[39;49;00m\u001b[43m \u001b[49m\u001b[38;5;28;43mrange\u001b[39;49m\u001b[43m(\u001b[49m\u001b[43mn_jobs\u001b[49m\u001b[43m)\u001b[49m\n\u001b[0;32m    484\u001b[0m \u001b[43m\u001b[49m\u001b[43m)\u001b[49m\n\u001b[0;32m    486\u001b[0m \u001b[38;5;66;03m# Reduce\u001b[39;00m\n\u001b[0;32m    487\u001b[0m \u001b[38;5;28mself\u001b[39m\u001b[38;5;241m.\u001b[39mestimators_ \u001b[38;5;241m+\u001b[39m\u001b[38;5;241m=\u001b[39m \u001b[38;5;28mlist\u001b[39m(\n\u001b[0;32m    488\u001b[0m     itertools\u001b[38;5;241m.\u001b[39mchain\u001b[38;5;241m.\u001b[39mfrom_iterable(t[\u001b[38;5;241m0\u001b[39m] \u001b[38;5;28;01mfor\u001b[39;00m t \u001b[38;5;129;01min\u001b[39;00m all_results)\n\u001b[0;32m    489\u001b[0m )\n",
      "File \u001b[1;32mc:\\Users\\mmd\\AppData\\Local\\Programs\\Python\\Python310\\lib\\site-packages\\sklearn\\utils\\parallel.py:67\u001b[0m, in \u001b[0;36mParallel.__call__\u001b[1;34m(self, iterable)\u001b[0m\n\u001b[0;32m     62\u001b[0m config \u001b[38;5;241m=\u001b[39m get_config()\n\u001b[0;32m     63\u001b[0m iterable_with_config \u001b[38;5;241m=\u001b[39m (\n\u001b[0;32m     64\u001b[0m     (_with_config(delayed_func, config), args, kwargs)\n\u001b[0;32m     65\u001b[0m     \u001b[38;5;28;01mfor\u001b[39;00m delayed_func, args, kwargs \u001b[38;5;129;01min\u001b[39;00m iterable\n\u001b[0;32m     66\u001b[0m )\n\u001b[1;32m---> 67\u001b[0m \u001b[38;5;28;01mreturn\u001b[39;00m \u001b[38;5;28;43msuper\u001b[39;49m\u001b[43m(\u001b[49m\u001b[43m)\u001b[49m\u001b[38;5;241;43m.\u001b[39;49m\u001b[38;5;21;43m__call__\u001b[39;49m\u001b[43m(\u001b[49m\u001b[43miterable_with_config\u001b[49m\u001b[43m)\u001b[49m\n",
      "File \u001b[1;32mc:\\Users\\mmd\\AppData\\Local\\Programs\\Python\\Python310\\lib\\site-packages\\joblib\\parallel.py:1863\u001b[0m, in \u001b[0;36mParallel.__call__\u001b[1;34m(self, iterable)\u001b[0m\n\u001b[0;32m   1861\u001b[0m     output \u001b[38;5;241m=\u001b[39m \u001b[38;5;28mself\u001b[39m\u001b[38;5;241m.\u001b[39m_get_sequential_output(iterable)\n\u001b[0;32m   1862\u001b[0m     \u001b[38;5;28mnext\u001b[39m(output)\n\u001b[1;32m-> 1863\u001b[0m     \u001b[38;5;28;01mreturn\u001b[39;00m output \u001b[38;5;28;01mif\u001b[39;00m \u001b[38;5;28mself\u001b[39m\u001b[38;5;241m.\u001b[39mreturn_generator \u001b[38;5;28;01melse\u001b[39;00m \u001b[38;5;28;43mlist\u001b[39;49m\u001b[43m(\u001b[49m\u001b[43moutput\u001b[49m\u001b[43m)\u001b[49m\n\u001b[0;32m   1865\u001b[0m \u001b[38;5;66;03m# Let's create an ID that uniquely identifies the current call. If the\u001b[39;00m\n\u001b[0;32m   1866\u001b[0m \u001b[38;5;66;03m# call is interrupted early and that the same instance is immediately\u001b[39;00m\n\u001b[0;32m   1867\u001b[0m \u001b[38;5;66;03m# re-used, this id will be used to prevent workers that were\u001b[39;00m\n\u001b[0;32m   1868\u001b[0m \u001b[38;5;66;03m# concurrently finalizing a task from the previous call to run the\u001b[39;00m\n\u001b[0;32m   1869\u001b[0m \u001b[38;5;66;03m# callback.\u001b[39;00m\n\u001b[0;32m   1870\u001b[0m \u001b[38;5;28;01mwith\u001b[39;00m \u001b[38;5;28mself\u001b[39m\u001b[38;5;241m.\u001b[39m_lock:\n",
      "File \u001b[1;32mc:\\Users\\mmd\\AppData\\Local\\Programs\\Python\\Python310\\lib\\site-packages\\joblib\\parallel.py:1792\u001b[0m, in \u001b[0;36mParallel._get_sequential_output\u001b[1;34m(self, iterable)\u001b[0m\n\u001b[0;32m   1790\u001b[0m \u001b[38;5;28mself\u001b[39m\u001b[38;5;241m.\u001b[39mn_dispatched_batches \u001b[38;5;241m+\u001b[39m\u001b[38;5;241m=\u001b[39m \u001b[38;5;241m1\u001b[39m\n\u001b[0;32m   1791\u001b[0m \u001b[38;5;28mself\u001b[39m\u001b[38;5;241m.\u001b[39mn_dispatched_tasks \u001b[38;5;241m+\u001b[39m\u001b[38;5;241m=\u001b[39m \u001b[38;5;241m1\u001b[39m\n\u001b[1;32m-> 1792\u001b[0m res \u001b[38;5;241m=\u001b[39m func(\u001b[38;5;241m*\u001b[39margs, \u001b[38;5;241m*\u001b[39m\u001b[38;5;241m*\u001b[39mkwargs)\n\u001b[0;32m   1793\u001b[0m \u001b[38;5;28mself\u001b[39m\u001b[38;5;241m.\u001b[39mn_completed_tasks \u001b[38;5;241m+\u001b[39m\u001b[38;5;241m=\u001b[39m \u001b[38;5;241m1\u001b[39m\n\u001b[0;32m   1794\u001b[0m \u001b[38;5;28mself\u001b[39m\u001b[38;5;241m.\u001b[39mprint_progress()\n",
      "File \u001b[1;32mc:\\Users\\mmd\\AppData\\Local\\Programs\\Python\\Python310\\lib\\site-packages\\sklearn\\utils\\parallel.py:129\u001b[0m, in \u001b[0;36m_FuncWrapper.__call__\u001b[1;34m(self, *args, **kwargs)\u001b[0m\n\u001b[0;32m    127\u001b[0m     config \u001b[38;5;241m=\u001b[39m {}\n\u001b[0;32m    128\u001b[0m \u001b[38;5;28;01mwith\u001b[39;00m config_context(\u001b[38;5;241m*\u001b[39m\u001b[38;5;241m*\u001b[39mconfig):\n\u001b[1;32m--> 129\u001b[0m     \u001b[38;5;28;01mreturn\u001b[39;00m \u001b[38;5;28mself\u001b[39m\u001b[38;5;241m.\u001b[39mfunction(\u001b[38;5;241m*\u001b[39margs, \u001b[38;5;241m*\u001b[39m\u001b[38;5;241m*\u001b[39mkwargs)\n",
      "File \u001b[1;32mc:\\Users\\mmd\\AppData\\Local\\Programs\\Python\\Python310\\lib\\site-packages\\sklearn\\ensemble\\_bagging.py:141\u001b[0m, in \u001b[0;36m_parallel_build_estimators\u001b[1;34m(n_estimators, ensemble, X, y, sample_weight, seeds, total_n_estimators, verbose, check_input)\u001b[0m\n\u001b[0;32m    139\u001b[0m     curr_sample_weight \u001b[38;5;241m*\u001b[39m\u001b[38;5;241m=\u001b[39m sample_counts\n\u001b[0;32m    140\u001b[0m \u001b[38;5;28;01melse\u001b[39;00m:\n\u001b[1;32m--> 141\u001b[0m     not_indices_mask \u001b[38;5;241m=\u001b[39m \u001b[38;5;241m~\u001b[39m\u001b[43mindices_to_mask\u001b[49m\u001b[43m(\u001b[49m\u001b[43mindices\u001b[49m\u001b[43m,\u001b[49m\u001b[43m \u001b[49m\u001b[43mn_samples\u001b[49m\u001b[43m)\u001b[49m\n\u001b[0;32m    142\u001b[0m     curr_sample_weight[not_indices_mask] \u001b[38;5;241m=\u001b[39m \u001b[38;5;241m0\u001b[39m\n\u001b[0;32m    144\u001b[0m X_ \u001b[38;5;241m=\u001b[39m X[:, features] \u001b[38;5;28;01mif\u001b[39;00m requires_feature_indexing \u001b[38;5;28;01melse\u001b[39;00m X\n",
      "File \u001b[1;32mc:\\Users\\mmd\\AppData\\Local\\Programs\\Python\\Python310\\lib\\site-packages\\sklearn\\utils\\__init__.py:1028\u001b[0m, in \u001b[0;36mindices_to_mask\u001b[1;34m(indices, mask_length)\u001b[0m\n\u001b[0;32m   1025\u001b[0m \u001b[38;5;28;01mif\u001b[39;00m mask_length \u001b[38;5;241m<\u001b[39m\u001b[38;5;241m=\u001b[39m np\u001b[38;5;241m.\u001b[39mmax(indices):\n\u001b[0;32m   1026\u001b[0m     \u001b[38;5;28;01mraise\u001b[39;00m \u001b[38;5;167;01mValueError\u001b[39;00m(\u001b[38;5;124m\"\u001b[39m\u001b[38;5;124mmask_length must be greater than max(indices)\u001b[39m\u001b[38;5;124m\"\u001b[39m)\n\u001b[1;32m-> 1028\u001b[0m mask \u001b[38;5;241m=\u001b[39m \u001b[43mnp\u001b[49m\u001b[38;5;241;43m.\u001b[39;49m\u001b[43mzeros\u001b[49m\u001b[43m(\u001b[49m\u001b[43mmask_length\u001b[49m\u001b[43m,\u001b[49m\u001b[43m \u001b[49m\u001b[43mdtype\u001b[49m\u001b[38;5;241;43m=\u001b[39;49m\u001b[38;5;28;43mbool\u001b[39;49m\u001b[43m)\u001b[49m\n\u001b[0;32m   1029\u001b[0m mask[indices] \u001b[38;5;241m=\u001b[39m \u001b[38;5;28;01mTrue\u001b[39;00m\n\u001b[0;32m   1031\u001b[0m \u001b[38;5;28;01mreturn\u001b[39;00m mask\n",
      "\u001b[1;31mKeyboardInterrupt\u001b[0m: "
     ]
    }
   ],
   "source": [
    "from tqdm import tqdm\n",
    "from sklearn.pipeline import Pipeline\n",
    "from sklearn.model_selection import GridSearchCV\n",
    "from sklearn.metrics import silhouette_score\n",
    "from sklearn.base import BaseEstimator, TransformerMixin\n",
    "from sklearn.preprocessing import StandardScaler\n",
    "from sklearn.decomposition import PCA\n",
    "from sklearn.cluster import KMeans, DBSCAN\n",
    "from sklearn.ensemble import IsolationForest\n",
    "from sklearn.metrics import silhouette_samples\n",
    "import numpy as np\n",
    "\n",
    "class kmeans_pipe_hyper_parameter_tuner:\n",
    "    \n",
    "    def __init__(self, n_estimators, contamination, variance_ratio, n_clusters, df, random_state):\n",
    "        self.n_estimators = n_estimators\n",
    "        self.contamination = contamination\n",
    "        self.variance_ratio = variance_ratio\n",
    "        self.n_clusters = n_clusters\n",
    "        self.df = df\n",
    "        self.random_state=random_state\n",
    "        \n",
    "    def fit(self):\n",
    "        df_no_outliers, df_outliers = detect_outliers(self.df, self.n_estimators, self.contamination, self.random_state)\n",
    "        df_normalized = normalize_features(df_no_outliers)\n",
    "        df_pca = apply_pca(df_normalized, variance_ratio = self.variance_ratio, random_state = self.random_state)\n",
    "        K_means_df , K_means_modle = fit_kmeans(df_pca , n_clusters = self.n_clusters, random_state = self.random_state)\n",
    "        self.model = K_means_modle\n",
    "        self.PCA_df = df_pca\n",
    "        self.labels_ = self.model.labels_\n",
    "\n",
    "    def sample_silhouette_score(self, sample_percentage):\n",
    "        unique_labels = np.unique(self.labels_)\n",
    "        sample_indices = []\n",
    "\n",
    "        for label in unique_labels:\n",
    "            cluster_indices = np.where(self.labels_ == label)[0]\n",
    "            sample_size = int(len(cluster_indices) * sample_percentage)\n",
    "            if cluster_indices.size > 0:\n",
    "                sample_indices.extend(np.random.choice(cluster_indices, size=min(sample_size, cluster_indices.size), replace=False))\n",
    "\n",
    "        sample_labels = self.labels_[sample_indices]\n",
    "        sample_data = self.PCA_df.reset_index(drop=True).iloc[sample_indices]\n",
    "\n",
    "        return silhouette_score(sample_data, sample_labels)\n",
    "\n",
    "    def cv_silhouette_score(self, sample_percentage, cv):\n",
    "        scores = []\n",
    "        for _ in range(cv):\n",
    "            score = self.sample_silhouette_score(sample_percentage)\n",
    "            scores.append(score)\n",
    "        return np.mean(scores)\n",
    "\n",
    "from sklearn.model_selection import ParameterGrid\n",
    "from sklearn.metrics import silhouette_score\n",
    "from tqdm import tqdm\n",
    "\n",
    "param_grid = {\n",
    "    'n_estimators': [50,100],\n",
    "    'contamination': [0.1, 0.15, 0.20],\n",
    "    'variance_ratio': [3, 5],\n",
    "    'n_clusters': [3, 4, 5, 6]\n",
    "}\n",
    "\n",
    "grid = ParameterGrid(param_grid)\n",
    "\n",
    "best_score = -1\n",
    "best_params = None\n",
    "\n",
    "pbar = tqdm(total=len(grid), desc='Hyperparameter Tuning', ncols=80)\n",
    "\n",
    "for params in grid:\n",
    "    tuner = kmeans_pipe_hyper_parameter_tuner(**params, df=no_missing, random_state=1)\n",
    "    tuner.fit()\n",
    "    score = tuner.cv_silhouette_score(sample_percentage=0.1, cv=3)  # Adjust sample percentage and cv as needed\n",
    "\n",
    "    print (f'for params {params} got the score of : {score}')\n",
    "\n",
    "    if score > best_score:\n",
    "        best_score = score\n",
    "        best_params = params\n",
    "\n",
    "    pbar.update()\n",
    "\n",
    "pbar.close()\n",
    "\n",
    "print(f\"Best score: {best_score}\")\n",
    "print(f\"Best parameters: {best_params}\")\n"
   ]
  },
  {
   "cell_type": "code",
   "execution_count": 156,
   "metadata": {},
   "outputs": [
    {
     "name": "stdout",
     "output_type": "stream",
     "text": [
      "in outlier detection n_estimators is 100 and the contamination is 0.2\n",
      "in pca the variance ratio is 3\n",
      "Total explained variance: 0.21385297021064714\n",
      "in k-means the n_clusters is 4\n",
      "0.2839700722573416\n"
     ]
    }
   ],
   "source": [
    "gc.collect()\n",
    "tuner = kmeans_pipe_hyper_parameter_tuner(contamination=0.2, n_clusters=4, n_estimators= 100, variance_ratio=3, df=no_missing, random_state=1)\n",
    "tuner.fit()\n",
    "score = silhouette_score(tuner.PCA_df, tuner.model.labels_)\n",
    "print (score)"
   ]
  },
  {
   "cell_type": "code",
   "execution_count": 132,
   "metadata": {},
   "outputs": [
    {
     "name": "stdout",
     "output_type": "stream",
     "text": [
      "(81410, 26)\n"
     ]
    }
   ],
   "source": [
    "print (tuner.PCA_df.shape)"
   ]
  },
  {
   "cell_type": "code",
   "execution_count": 169,
   "metadata": {},
   "outputs": [
    {
     "name": "stderr",
     "output_type": "stream",
     "text": [
      "Hyperparameter Tuning:   0%|                             | 0/40 [00:00<?, ?it/s]"
     ]
    },
    {
     "name": "stdout",
     "output_type": "stream",
     "text": [
      "in outlier detection n_estimators is 100 and the contamination is 0.2\n",
      "in pca the variance ratio is 3\n",
      "Total explained variance: 0.21385297021064714\n"
     ]
    },
    {
     "name": "stderr",
     "output_type": "stream",
     "text": [
      "Hyperparameter Tuning:   2%|▌                    | 1/40 [00:14<09:29, 14.60s/it]"
     ]
    },
    {
     "name": "stdout",
     "output_type": "stream",
     "text": [
      "for params {'contamination': 0.2, 'eps': 0.6, 'min_samples': 5, 'n_estimators': 100, 'variance_ratio': 3} got the score of : 0.502369925505771\n",
      "in outlier detection n_estimators is 100 and the contamination is 0.2\n",
      "in pca the variance ratio is 5\n",
      "Total explained variance: 0.305490242784654\n"
     ]
    },
    {
     "name": "stderr",
     "output_type": "stream",
     "text": [
      "Hyperparameter Tuning:   5%|█                    | 2/40 [00:26<08:22, 13.23s/it]"
     ]
    },
    {
     "name": "stdout",
     "output_type": "stream",
     "text": [
      "for params {'contamination': 0.2, 'eps': 0.6, 'min_samples': 5, 'n_estimators': 100, 'variance_ratio': 5} got the score of : 0.04072724439792431\n",
      "in outlier detection n_estimators is 100 and the contamination is 0.2\n",
      "in pca the variance ratio is 3\n",
      "Total explained variance: 0.21385297021064714\n"
     ]
    },
    {
     "name": "stderr",
     "output_type": "stream",
     "text": [
      "Hyperparameter Tuning:   8%|█▌                   | 3/40 [00:40<08:09, 13.24s/it]"
     ]
    },
    {
     "name": "stdout",
     "output_type": "stream",
     "text": [
      "for params {'contamination': 0.2, 'eps': 0.6, 'min_samples': 10, 'n_estimators': 100, 'variance_ratio': 3} got the score of : 0.4098299120326645\n",
      "in outlier detection n_estimators is 100 and the contamination is 0.2\n",
      "in pca the variance ratio is 5\n",
      "Total explained variance: 0.305490242784654\n"
     ]
    },
    {
     "name": "stderr",
     "output_type": "stream",
     "text": [
      "Hyperparameter Tuning:  10%|██                   | 4/40 [00:52<07:49, 13.05s/it]"
     ]
    },
    {
     "name": "stdout",
     "output_type": "stream",
     "text": [
      "for params {'contamination': 0.2, 'eps': 0.6, 'min_samples': 10, 'n_estimators': 100, 'variance_ratio': 5} got the score of : -0.1254590916520769\n",
      "in outlier detection n_estimators is 100 and the contamination is 0.2\n",
      "in pca the variance ratio is 3\n",
      "Total explained variance: 0.21385297021064714\n"
     ]
    },
    {
     "name": "stderr",
     "output_type": "stream",
     "text": [
      "Hyperparameter Tuning:  12%|██▋                  | 5/40 [01:05<07:37, 13.07s/it]"
     ]
    },
    {
     "name": "stdout",
     "output_type": "stream",
     "text": [
      "for params {'contamination': 0.2, 'eps': 0.6, 'min_samples': 15, 'n_estimators': 100, 'variance_ratio': 3} got the score of : 0.40054761444783255\n",
      "in outlier detection n_estimators is 100 and the contamination is 0.2\n",
      "in pca the variance ratio is 5\n",
      "Total explained variance: 0.305490242784654\n"
     ]
    },
    {
     "name": "stderr",
     "output_type": "stream",
     "text": [
      "Hyperparameter Tuning:  15%|███▏                 | 6/40 [01:17<07:11, 12.69s/it]"
     ]
    },
    {
     "name": "stdout",
     "output_type": "stream",
     "text": [
      "for params {'contamination': 0.2, 'eps': 0.6, 'min_samples': 15, 'n_estimators': 100, 'variance_ratio': 5} got the score of : -0.09299426962964115\n",
      "in outlier detection n_estimators is 100 and the contamination is 0.2\n",
      "in pca the variance ratio is 3\n",
      "Total explained variance: 0.21385297021064714\n"
     ]
    },
    {
     "name": "stderr",
     "output_type": "stream",
     "text": [
      "Hyperparameter Tuning:  18%|███▋                 | 7/40 [01:32<07:16, 13.21s/it]"
     ]
    },
    {
     "name": "stdout",
     "output_type": "stream",
     "text": [
      "for params {'contamination': 0.2, 'eps': 0.6, 'min_samples': 20, 'n_estimators': 100, 'variance_ratio': 3} got the score of : 0.3944708682112128\n",
      "in outlier detection n_estimators is 100 and the contamination is 0.2\n",
      "in pca the variance ratio is 5\n",
      "Total explained variance: 0.305490242784654\n"
     ]
    },
    {
     "name": "stderr",
     "output_type": "stream",
     "text": [
      "Hyperparameter Tuning:  20%|████▏                | 8/40 [01:43<06:43, 12.62s/it]"
     ]
    },
    {
     "name": "stdout",
     "output_type": "stream",
     "text": [
      "for params {'contamination': 0.2, 'eps': 0.6, 'min_samples': 20, 'n_estimators': 100, 'variance_ratio': 5} got the score of : 0.006252123156307334\n",
      "in outlier detection n_estimators is 100 and the contamination is 0.2\n",
      "in pca the variance ratio is 3\n",
      "Total explained variance: 0.21385297021064714\n"
     ]
    },
    {
     "name": "stderr",
     "output_type": "stream",
     "text": [
      "Hyperparameter Tuning:  22%|████▋                | 9/40 [01:55<06:27, 12.51s/it]"
     ]
    },
    {
     "name": "stdout",
     "output_type": "stream",
     "text": [
      "for params {'contamination': 0.2, 'eps': 0.6, 'min_samples': 25, 'n_estimators': 100, 'variance_ratio': 3} got the score of : 0.38625776899242287\n",
      "in outlier detection n_estimators is 100 and the contamination is 0.2\n",
      "in pca the variance ratio is 5\n",
      "Total explained variance: 0.305490242784654\n"
     ]
    },
    {
     "name": "stderr",
     "output_type": "stream",
     "text": [
      "Hyperparameter Tuning:  25%|█████               | 10/40 [02:07<06:10, 12.34s/it]"
     ]
    },
    {
     "name": "stdout",
     "output_type": "stream",
     "text": [
      "for params {'contamination': 0.2, 'eps': 0.6, 'min_samples': 25, 'n_estimators': 100, 'variance_ratio': 5} got the score of : -0.1350772354351658\n",
      "in outlier detection n_estimators is 100 and the contamination is 0.2\n",
      "in pca the variance ratio is 3\n",
      "Total explained variance: 0.21385297021064714\n"
     ]
    },
    {
     "name": "stderr",
     "output_type": "stream",
     "text": [
      "Hyperparameter Tuning:  28%|█████▌              | 11/40 [02:22<06:15, 12.96s/it]"
     ]
    },
    {
     "name": "stdout",
     "output_type": "stream",
     "text": [
      "for params {'contamination': 0.2, 'eps': 0.7, 'min_samples': 5, 'n_estimators': 100, 'variance_ratio': 3} got the score of : 0.4343153501292452\n",
      "in outlier detection n_estimators is 100 and the contamination is 0.2\n",
      "in pca the variance ratio is 5\n",
      "Total explained variance: 0.305490242784654\n"
     ]
    },
    {
     "name": "stderr",
     "output_type": "stream",
     "text": [
      "Hyperparameter Tuning:  30%|██████              | 12/40 [02:35<06:09, 13.21s/it]"
     ]
    },
    {
     "name": "stdout",
     "output_type": "stream",
     "text": [
      "for params {'contamination': 0.2, 'eps': 0.7, 'min_samples': 5, 'n_estimators': 100, 'variance_ratio': 5} got the score of : 0.09196484001298207\n",
      "in outlier detection n_estimators is 100 and the contamination is 0.2\n",
      "in pca the variance ratio is 3\n",
      "Total explained variance: 0.21385297021064714\n"
     ]
    },
    {
     "name": "stderr",
     "output_type": "stream",
     "text": [
      "Hyperparameter Tuning:  32%|██████▌             | 13/40 [02:50<06:10, 13.71s/it]"
     ]
    },
    {
     "name": "stdout",
     "output_type": "stream",
     "text": [
      "for params {'contamination': 0.2, 'eps': 0.7, 'min_samples': 10, 'n_estimators': 100, 'variance_ratio': 3} got the score of : 0.4555785776792069\n",
      "in outlier detection n_estimators is 100 and the contamination is 0.2\n",
      "in pca the variance ratio is 5\n",
      "Total explained variance: 0.305490242784654\n"
     ]
    },
    {
     "name": "stderr",
     "output_type": "stream",
     "text": [
      "Hyperparameter Tuning:  35%|███████             | 14/40 [03:03<05:50, 13.47s/it]"
     ]
    },
    {
     "name": "stdout",
     "output_type": "stream",
     "text": [
      "for params {'contamination': 0.2, 'eps': 0.7, 'min_samples': 10, 'n_estimators': 100, 'variance_ratio': 5} got the score of : 0.2369726372018819\n",
      "in outlier detection n_estimators is 100 and the contamination is 0.2\n",
      "in pca the variance ratio is 3\n",
      "Total explained variance: 0.21385297021064714\n"
     ]
    },
    {
     "name": "stderr",
     "output_type": "stream",
     "text": [
      "Hyperparameter Tuning:  38%|███████▌            | 15/40 [03:18<05:43, 13.76s/it]"
     ]
    },
    {
     "name": "stdout",
     "output_type": "stream",
     "text": [
      "for params {'contamination': 0.2, 'eps': 0.7, 'min_samples': 15, 'n_estimators': 100, 'variance_ratio': 3} got the score of : 0.3916100301977034\n",
      "in outlier detection n_estimators is 100 and the contamination is 0.2\n",
      "in pca the variance ratio is 5\n",
      "Total explained variance: 0.305490242784654\n"
     ]
    },
    {
     "name": "stderr",
     "output_type": "stream",
     "text": [
      "Hyperparameter Tuning:  40%|████████            | 16/40 [03:31<05:24, 13.52s/it]"
     ]
    },
    {
     "name": "stdout",
     "output_type": "stream",
     "text": [
      "for params {'contamination': 0.2, 'eps': 0.7, 'min_samples': 15, 'n_estimators': 100, 'variance_ratio': 5} got the score of : 0.16467526012573785\n",
      "in outlier detection n_estimators is 100 and the contamination is 0.2\n",
      "in pca the variance ratio is 3\n",
      "Total explained variance: 0.21385297021064714\n"
     ]
    },
    {
     "name": "stderr",
     "output_type": "stream",
     "text": [
      "Hyperparameter Tuning:  42%|████████▌           | 17/40 [03:45<05:18, 13.85s/it]"
     ]
    },
    {
     "name": "stdout",
     "output_type": "stream",
     "text": [
      "for params {'contamination': 0.2, 'eps': 0.7, 'min_samples': 20, 'n_estimators': 100, 'variance_ratio': 3} got the score of : 0.41797265339782635\n",
      "in outlier detection n_estimators is 100 and the contamination is 0.2\n",
      "in pca the variance ratio is 5\n",
      "Total explained variance: 0.305490242784654\n"
     ]
    },
    {
     "name": "stderr",
     "output_type": "stream",
     "text": [
      "Hyperparameter Tuning:  45%|█████████           | 18/40 [03:59<05:01, 13.71s/it]"
     ]
    },
    {
     "name": "stdout",
     "output_type": "stream",
     "text": [
      "for params {'contamination': 0.2, 'eps': 0.7, 'min_samples': 20, 'n_estimators': 100, 'variance_ratio': 5} got the score of : -0.006151850502148566\n",
      "in outlier detection n_estimators is 100 and the contamination is 0.2\n",
      "in pca the variance ratio is 3\n",
      "Total explained variance: 0.21385297021064714\n"
     ]
    },
    {
     "name": "stderr",
     "output_type": "stream",
     "text": [
      "Hyperparameter Tuning:  48%|█████████▌          | 19/40 [04:15<05:02, 14.41s/it]"
     ]
    },
    {
     "name": "stdout",
     "output_type": "stream",
     "text": [
      "for params {'contamination': 0.2, 'eps': 0.7, 'min_samples': 25, 'n_estimators': 100, 'variance_ratio': 3} got the score of : 0.392101500890945\n",
      "in outlier detection n_estimators is 100 and the contamination is 0.2\n",
      "in pca the variance ratio is 5\n",
      "Total explained variance: 0.305490242784654\n"
     ]
    },
    {
     "name": "stderr",
     "output_type": "stream",
     "text": [
      "Hyperparameter Tuning:  50%|██████████          | 20/40 [04:30<04:54, 14.74s/it]"
     ]
    },
    {
     "name": "stdout",
     "output_type": "stream",
     "text": [
      "for params {'contamination': 0.2, 'eps': 0.7, 'min_samples': 25, 'n_estimators': 100, 'variance_ratio': 5} got the score of : 0.13432665726011161\n",
      "in outlier detection n_estimators is 100 and the contamination is 0.2\n",
      "in pca the variance ratio is 3\n",
      "Total explained variance: 0.21385297021064714\n"
     ]
    },
    {
     "name": "stderr",
     "output_type": "stream",
     "text": [
      "Hyperparameter Tuning:  52%|██████████▌         | 21/40 [04:48<04:59, 15.74s/it]"
     ]
    },
    {
     "name": "stdout",
     "output_type": "stream",
     "text": [
      "for params {'contamination': 0.2, 'eps': 0.8, 'min_samples': 5, 'n_estimators': 100, 'variance_ratio': 3} got the score of : 0.4004509006054031\n",
      "in outlier detection n_estimators is 100 and the contamination is 0.2\n",
      "in pca the variance ratio is 5\n",
      "Total explained variance: 0.305490242784654\n"
     ]
    },
    {
     "name": "stderr",
     "output_type": "stream",
     "text": [
      "Hyperparameter Tuning:  55%|███████████         | 22/40 [05:04<04:42, 15.70s/it]"
     ]
    },
    {
     "name": "stdout",
     "output_type": "stream",
     "text": [
      "for params {'contamination': 0.2, 'eps': 0.8, 'min_samples': 5, 'n_estimators': 100, 'variance_ratio': 5} got the score of : 0.3056434528508012\n",
      "in outlier detection n_estimators is 100 and the contamination is 0.2\n",
      "in pca the variance ratio is 3\n",
      "Total explained variance: 0.21385297021064714\n"
     ]
    },
    {
     "name": "stderr",
     "output_type": "stream",
     "text": [
      "Hyperparameter Tuning:  57%|███████████▌        | 23/40 [05:23<04:42, 16.63s/it]"
     ]
    },
    {
     "name": "stdout",
     "output_type": "stream",
     "text": [
      "for params {'contamination': 0.2, 'eps': 0.8, 'min_samples': 10, 'n_estimators': 100, 'variance_ratio': 3} got the score of : 0.41164883075301634\n",
      "in outlier detection n_estimators is 100 and the contamination is 0.2\n",
      "in pca the variance ratio is 5\n",
      "Total explained variance: 0.305490242784654\n"
     ]
    },
    {
     "name": "stderr",
     "output_type": "stream",
     "text": [
      "Hyperparameter Tuning:  60%|████████████        | 24/40 [05:37<04:17, 16.08s/it]"
     ]
    },
    {
     "name": "stdout",
     "output_type": "stream",
     "text": [
      "for params {'contamination': 0.2, 'eps': 0.8, 'min_samples': 10, 'n_estimators': 100, 'variance_ratio': 5} got the score of : 0.28510102737392273\n",
      "in outlier detection n_estimators is 100 and the contamination is 0.2\n",
      "in pca the variance ratio is 3\n",
      "Total explained variance: 0.21385297021064714\n"
     ]
    },
    {
     "name": "stderr",
     "output_type": "stream",
     "text": [
      "Hyperparameter Tuning:  62%|████████████▌       | 25/40 [05:55<04:08, 16.55s/it]"
     ]
    },
    {
     "name": "stdout",
     "output_type": "stream",
     "text": [
      "for params {'contamination': 0.2, 'eps': 0.8, 'min_samples': 15, 'n_estimators': 100, 'variance_ratio': 3} got the score of : 0.470391136315433\n",
      "in outlier detection n_estimators is 100 and the contamination is 0.2\n",
      "in pca the variance ratio is 5\n",
      "Total explained variance: 0.305490242784654\n"
     ]
    },
    {
     "name": "stderr",
     "output_type": "stream",
     "text": [
      "Hyperparameter Tuning:  65%|█████████████       | 26/40 [06:10<03:46, 16.16s/it]"
     ]
    },
    {
     "name": "stdout",
     "output_type": "stream",
     "text": [
      "for params {'contamination': 0.2, 'eps': 0.8, 'min_samples': 15, 'n_estimators': 100, 'variance_ratio': 5} got the score of : 0.2657004678172216\n",
      "in outlier detection n_estimators is 100 and the contamination is 0.2\n",
      "in pca the variance ratio is 3\n",
      "Total explained variance: 0.21385297021064714\n"
     ]
    },
    {
     "name": "stderr",
     "output_type": "stream",
     "text": [
      "Hyperparameter Tuning:  68%|█████████████▌      | 27/40 [06:28<03:36, 16.65s/it]"
     ]
    },
    {
     "name": "stdout",
     "output_type": "stream",
     "text": [
      "for params {'contamination': 0.2, 'eps': 0.8, 'min_samples': 20, 'n_estimators': 100, 'variance_ratio': 3} got the score of : 0.48840663593523875\n",
      "in outlier detection n_estimators is 100 and the contamination is 0.2\n",
      "in pca the variance ratio is 5\n",
      "Total explained variance: 0.305490242784654\n"
     ]
    },
    {
     "name": "stderr",
     "output_type": "stream",
     "text": [
      "Hyperparameter Tuning:  70%|██████████████      | 28/40 [06:45<03:20, 16.69s/it]"
     ]
    },
    {
     "name": "stdout",
     "output_type": "stream",
     "text": [
      "for params {'contamination': 0.2, 'eps': 0.8, 'min_samples': 20, 'n_estimators': 100, 'variance_ratio': 5} got the score of : 0.2453241481011185\n",
      "in outlier detection n_estimators is 100 and the contamination is 0.2\n",
      "in pca the variance ratio is 3\n",
      "Total explained variance: 0.21385297021064714\n"
     ]
    },
    {
     "name": "stderr",
     "output_type": "stream",
     "text": [
      "Hyperparameter Tuning:  72%|██████████████▌     | 29/40 [07:04<03:11, 17.40s/it]"
     ]
    },
    {
     "name": "stdout",
     "output_type": "stream",
     "text": [
      "for params {'contamination': 0.2, 'eps': 0.8, 'min_samples': 25, 'n_estimators': 100, 'variance_ratio': 3} got the score of : 0.44518061469764053\n",
      "in outlier detection n_estimators is 100 and the contamination is 0.2\n",
      "in pca the variance ratio is 5\n",
      "Total explained variance: 0.305490242784654\n"
     ]
    },
    {
     "name": "stderr",
     "output_type": "stream",
     "text": [
      "Hyperparameter Tuning:  75%|███████████████     | 30/40 [07:22<02:55, 17.51s/it]"
     ]
    },
    {
     "name": "stdout",
     "output_type": "stream",
     "text": [
      "for params {'contamination': 0.2, 'eps': 0.8, 'min_samples': 25, 'n_estimators': 100, 'variance_ratio': 5} got the score of : 0.23030244702892166\n",
      "in outlier detection n_estimators is 100 and the contamination is 0.2\n",
      "in pca the variance ratio is 3\n",
      "Total explained variance: 0.21385297021064714\n"
     ]
    },
    {
     "name": "stderr",
     "output_type": "stream",
     "text": [
      "Hyperparameter Tuning:  78%|███████████████▌    | 31/40 [07:42<02:45, 18.36s/it]"
     ]
    },
    {
     "name": "stdout",
     "output_type": "stream",
     "text": [
      "for params {'contamination': 0.2, 'eps': 0.9, 'min_samples': 5, 'n_estimators': 100, 'variance_ratio': 3} got the score of : 0.47505266775154326\n",
      "in outlier detection n_estimators is 100 and the contamination is 0.2\n",
      "in pca the variance ratio is 5\n",
      "Total explained variance: 0.305490242784654\n"
     ]
    },
    {
     "name": "stderr",
     "output_type": "stream",
     "text": [
      "Hyperparameter Tuning:  80%|████████████████    | 32/40 [08:00<02:25, 18.16s/it]"
     ]
    },
    {
     "name": "stdout",
     "output_type": "stream",
     "text": [
      "for params {'contamination': 0.2, 'eps': 0.9, 'min_samples': 5, 'n_estimators': 100, 'variance_ratio': 5} got the score of : 0.34959830636099204\n",
      "in outlier detection n_estimators is 100 and the contamination is 0.2\n",
      "in pca the variance ratio is 3\n",
      "Total explained variance: 0.21385297021064714\n"
     ]
    },
    {
     "name": "stderr",
     "output_type": "stream",
     "text": [
      "Hyperparameter Tuning:  82%|████████████████▌   | 33/40 [08:19<02:10, 18.58s/it]"
     ]
    },
    {
     "name": "stdout",
     "output_type": "stream",
     "text": [
      "for params {'contamination': 0.2, 'eps': 0.9, 'min_samples': 10, 'n_estimators': 100, 'variance_ratio': 3} got the score of : 0.45287313256911466\n",
      "in outlier detection n_estimators is 100 and the contamination is 0.2\n",
      "in pca the variance ratio is 5\n",
      "Total explained variance: 0.305490242784654\n"
     ]
    },
    {
     "name": "stderr",
     "output_type": "stream",
     "text": [
      "Hyperparameter Tuning:  85%|█████████████████   | 34/40 [08:37<01:50, 18.39s/it]"
     ]
    },
    {
     "name": "stdout",
     "output_type": "stream",
     "text": [
      "for params {'contamination': 0.2, 'eps': 0.9, 'min_samples': 10, 'n_estimators': 100, 'variance_ratio': 5} got the score of : 0.32118695829519495\n",
      "in outlier detection n_estimators is 100 and the contamination is 0.2\n",
      "in pca the variance ratio is 3\n",
      "Total explained variance: 0.21385297021064714\n"
     ]
    },
    {
     "name": "stderr",
     "output_type": "stream",
     "text": [
      "Hyperparameter Tuning:  88%|█████████████████▌  | 35/40 [08:56<01:33, 18.64s/it]"
     ]
    },
    {
     "name": "stdout",
     "output_type": "stream",
     "text": [
      "for params {'contamination': 0.2, 'eps': 0.9, 'min_samples': 15, 'n_estimators': 100, 'variance_ratio': 3} got the score of : 0.4093233741752455\n",
      "in outlier detection n_estimators is 100 and the contamination is 0.2\n",
      "in pca the variance ratio is 5\n",
      "Total explained variance: 0.305490242784654\n"
     ]
    },
    {
     "name": "stderr",
     "output_type": "stream",
     "text": [
      "Hyperparameter Tuning:  90%|██████████████████  | 36/40 [09:14<01:12, 18.23s/it]"
     ]
    },
    {
     "name": "stdout",
     "output_type": "stream",
     "text": [
      "for params {'contamination': 0.2, 'eps': 0.9, 'min_samples': 15, 'n_estimators': 100, 'variance_ratio': 5} got the score of : 0.3033996500785667\n",
      "in outlier detection n_estimators is 100 and the contamination is 0.2\n",
      "in pca the variance ratio is 3\n",
      "Total explained variance: 0.21385297021064714\n"
     ]
    },
    {
     "name": "stderr",
     "output_type": "stream",
     "text": [
      "Hyperparameter Tuning:  92%|██████████████████▌ | 37/40 [09:34<00:56, 18.79s/it]"
     ]
    },
    {
     "name": "stdout",
     "output_type": "stream",
     "text": [
      "for params {'contamination': 0.2, 'eps': 0.9, 'min_samples': 20, 'n_estimators': 100, 'variance_ratio': 3} got the score of : 0.4960497792451874\n",
      "in outlier detection n_estimators is 100 and the contamination is 0.2\n",
      "in pca the variance ratio is 5\n",
      "Total explained variance: 0.305490242784654\n"
     ]
    },
    {
     "name": "stderr",
     "output_type": "stream",
     "text": [
      "Hyperparameter Tuning:  95%|███████████████████ | 38/40 [09:51<00:36, 18.39s/it]"
     ]
    },
    {
     "name": "stdout",
     "output_type": "stream",
     "text": [
      "for params {'contamination': 0.2, 'eps': 0.9, 'min_samples': 20, 'n_estimators': 100, 'variance_ratio': 5} got the score of : 0.2502740654173078\n",
      "in outlier detection n_estimators is 100 and the contamination is 0.2\n",
      "in pca the variance ratio is 3\n",
      "Total explained variance: 0.21385297021064714\n"
     ]
    },
    {
     "name": "stderr",
     "output_type": "stream",
     "text": [
      "Hyperparameter Tuning:  98%|███████████████████▌| 39/40 [10:11<00:18, 18.66s/it]"
     ]
    },
    {
     "name": "stdout",
     "output_type": "stream",
     "text": [
      "for params {'contamination': 0.2, 'eps': 0.9, 'min_samples': 25, 'n_estimators': 100, 'variance_ratio': 3} got the score of : 0.4739176663764398\n",
      "in outlier detection n_estimators is 100 and the contamination is 0.2\n",
      "in pca the variance ratio is 5\n",
      "Total explained variance: 0.305490242784654\n"
     ]
    },
    {
     "name": "stderr",
     "output_type": "stream",
     "text": [
      "Hyperparameter Tuning: 100%|████████████████████| 40/40 [10:28<00:00, 15.72s/it]"
     ]
    },
    {
     "name": "stdout",
     "output_type": "stream",
     "text": [
      "for params {'contamination': 0.2, 'eps': 0.9, 'min_samples': 25, 'n_estimators': 100, 'variance_ratio': 5} got the score of : 0.27872941144193697\n",
      "Best score: 0.502369925505771\n",
      "Best parameters: {'contamination': 0.2, 'eps': 0.6, 'min_samples': 5, 'n_estimators': 100, 'variance_ratio': 3}\n"
     ]
    },
    {
     "name": "stderr",
     "output_type": "stream",
     "text": [
      "\n"
     ]
    }
   ],
   "source": [
    "from tqdm import tqdm\n",
    "from sklearn.pipeline import Pipeline\n",
    "from sklearn.model_selection import GridSearchCV\n",
    "from sklearn.metrics import silhouette_score\n",
    "from sklearn.base import BaseEstimator, TransformerMixin\n",
    "from sklearn.preprocessing import StandardScaler\n",
    "from sklearn.decomposition import PCA\n",
    "from sklearn.cluster import KMeans, DBSCAN\n",
    "from sklearn.ensemble import IsolationForest\n",
    "from sklearn.metrics import silhouette_samples\n",
    "import numpy as np\n",
    "\n",
    "class dbscan_pipe_hyper_parameter_tuner:\n",
    "    \n",
    "    def __init__(self, n_estimators, contamination, variance_ratio, eps , min_samples, df, random_state):\n",
    "        self.n_estimators = n_estimators\n",
    "        self.contamination = contamination\n",
    "        self.variance_ratio = variance_ratio\n",
    "        self.eps = eps\n",
    "        self.df = df\n",
    "        self.random_state=random_state\n",
    "        self.min_samples = min_samples\n",
    "        \n",
    "    def fit(self):\n",
    "        df_no_outliers, df_outliers = detect_outliers(self.df, self.n_estimators, self.contamination, self.random_state)\n",
    "        df_normalized = normalize_features(df_no_outliers)\n",
    "        df_pca = apply_pca(df_normalized, variance_ratio = self.variance_ratio, random_state = self.random_state)\n",
    "        K_means_df , K_means_modle = fit_dbscan(eps= self.eps, min_samples= self.min_samples, df = df_pca)\n",
    "        self.model = K_means_modle\n",
    "        self.PCA_df = df_pca\n",
    "        self.labels_ = self.model.labels_\n",
    "\n",
    "    def sample_silhouette_score(self, sample_percentage):\n",
    "        unique_labels = np.unique(self.labels_)\n",
    "        if len(unique_labels) < 2:\n",
    "            return -1\n",
    "\n",
    "        sample_indices = []\n",
    "        for label in unique_labels:\n",
    "            cluster_indices = np.where(self.labels_ == label)[0]\n",
    "            sample_size = int(len(cluster_indices) * sample_percentage)\n",
    "            if cluster_indices.size > 0:\n",
    "                sample_indices.extend(np.random.choice(cluster_indices, size=min(sample_size, cluster_indices.size), replace=False))\n",
    "\n",
    "        sample_labels = self.labels_[sample_indices]\n",
    "        sample_data = self.PCA_df.reset_index(drop=True).iloc[sample_indices]\n",
    "\n",
    "        return silhouette_score(sample_data, sample_labels)\n",
    "\n",
    "    def cv_silhouette_score(self, sample_percentage, cv):\n",
    "        scores = []\n",
    "        for _ in range(cv):\n",
    "            score = self.sample_silhouette_score(sample_percentage)\n",
    "            scores.append(score)\n",
    "        return np.mean(scores)\n",
    "\n",
    "from sklearn.model_selection import ParameterGrid\n",
    "from sklearn.metrics import silhouette_score\n",
    "from tqdm import tqdm\n",
    "\n",
    "param_grid = {\n",
    "    'n_estimators': [100],\n",
    "    'contamination': [0.20],\n",
    "    'variance_ratio': [3, 5],\n",
    "    'eps': [0.6, 0.7, 0.8, 0.9],\n",
    "    'min_samples': [5, 10, 15, 20, 25]\n",
    "}\n",
    "\n",
    "grid = ParameterGrid(param_grid)\n",
    "\n",
    "best_score = -1\n",
    "best_params = None\n",
    "\n",
    "pbar = tqdm(total=len(grid), desc='Hyperparameter Tuning', ncols=80)\n",
    "\n",
    "for params in grid:\n",
    "    tuner = dbscan_pipe_hyper_parameter_tuner(**params, df=no_missing, random_state=1)\n",
    "    tuner.fit()\n",
    "    score = tuner.cv_silhouette_score(sample_percentage=0.1, cv=3)  # Adjust sample percentage and cv as needed\n",
    "\n",
    "    print (f'for params {params} got the score of : {score}')\n",
    "\n",
    "    if score > best_score:\n",
    "        best_score = score\n",
    "        best_params = params\n",
    "\n",
    "    pbar.update()\n",
    "\n",
    "pbar.close()\n",
    "\n",
    "print(f\"Best score: {best_score}\")\n",
    "print(f\"Best parameters: {best_params}\")\n"
   ]
  },
  {
   "cell_type": "code",
   "execution_count": 168,
   "metadata": {},
   "outputs": [
    {
     "name": "stdout",
     "output_type": "stream",
     "text": [
      "in outlier detection n_estimators is 100 and the contamination is 0.2\n",
      "in pca the variance ratio is 3\n",
      "Total explained variance: 0.21385297021064714\n",
      "0.41858500490492595\n"
     ]
    }
   ],
   "source": [
    "gc.collect()\n",
    "tuner = dbscan_pipe_hyper_parameter_tuner(contamination=0.2, min_samples=10, n_estimators= 100, variance_ratio=3, eps=0.6, df=no_missing, random_state=1)\n",
    "tuner.fit()\n",
    "score = silhouette_score(tuner.PCA_df, tuner.model.labels_)\n",
    "print (score)"
   ]
  },
  {
   "cell_type": "code",
   "execution_count": 170,
   "metadata": {},
   "outputs": [
    {
     "name": "stdout",
     "output_type": "stream",
     "text": [
      "in outlier detection n_estimators is 100 and the contamination is 0.2\n",
      "in pca the variance ratio is 3\n",
      "Total explained variance: 0.21385297021064714\n",
      "0.4346444778621236\n"
     ]
    }
   ],
   "source": [
    "gc.collect()\n",
    "tuner = dbscan_pipe_hyper_parameter_tuner(contamination=0.2, min_samples=5, n_estimators= 100, variance_ratio=3, eps=0.6, df=no_missing, random_state=1)\n",
    "tuner.fit()\n",
    "score = silhouette_score(tuner.PCA_df, tuner.model.labels_)\n",
    "print (score)"
   ]
  }
 ],
 "metadata": {
  "kernelspec": {
   "display_name": "Python 3",
   "language": "python",
   "name": "python3"
  },
  "language_info": {
   "codemirror_mode": {
    "name": "ipython",
    "version": 3
   },
   "file_extension": ".py",
   "mimetype": "text/x-python",
   "name": "python",
   "nbconvert_exporter": "python",
   "pygments_lexer": "ipython3",
   "version": "3.10.4"
  }
 },
 "nbformat": 4,
 "nbformat_minor": 2
}

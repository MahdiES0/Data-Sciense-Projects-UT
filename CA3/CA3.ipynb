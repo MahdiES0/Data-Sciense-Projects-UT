{
 "cells": [
  {
   "cell_type": "markdown",
   "metadata": {},
   "source": [
    "<h1 style=\"text-align: center; font-weight: bold;\">Data Sciense Course - Spring 1403</h1>\n",
    "<h1 style=\"text-align: center; font-weight: bold;\">Computer Assignment 3 - Introduction to Data Science </h1>\n",
    "<h1 style=\"text-align: center;\">Mohammadreza Mohammadhashemi : 810100206</h1>\n",
    "<h1 style=\"text-align: center;\">Soheil Hajian Manesh : 810100119</h1>\n",
    "<h1 style=\"text-align: center;\">Mahdi Ebrahimi Soltani : 810100241</h1>"
   ]
  },
  {
   "cell_type": "markdown",
   "metadata": {},
   "source": [
    "# Problem Description\n",
    "In this assignment, we work with PySpark, which is the Python API for Apache Spark. It enables performing real-time, large-scale data processing in a distributed environment using Python."
   ]
  },
  {
   "cell_type": "code",
   "execution_count": 1,
   "metadata": {},
   "outputs": [
    {
     "data": {
      "text/html": [
       "<style>pre { white-space: pre !important; }</style>"
      ],
      "text/plain": [
       "<IPython.core.display.HTML object>"
      ]
     },
     "metadata": {},
     "output_type": "display_data"
    }
   ],
   "source": [
    "from IPython.display import display, HTML\n",
    "display(HTML('<style>pre { white-space: pre !important; }</style>'))"
   ]
  },
  {
   "cell_type": "code",
   "execution_count": 2,
   "metadata": {},
   "outputs": [],
   "source": [
    "from pyspark.sql import SparkSession\n",
    "from pyspark.sql import DataFrame\n",
    "from pyspark.sql.types import StructType, StructField, FloatType, DateType, LongType\n",
    "from pyspark.sql.functions import to_date,year,month,min,mean,stddev,when,col,current_date,count, desc ,asc\n",
    "import matplotlib.pyplot as plt\n",
    "import seaborn as sns\n",
    "from pyspark.sql.window import Window"
   ]
  },
  {
   "cell_type": "markdown",
   "metadata": {},
   "source": [
    "# Warm-Up!"
   ]
  },
  {
   "cell_type": "code",
   "execution_count": 3,
   "metadata": {},
   "outputs": [],
   "source": [
    "def show_dataframe_info(df: DataFrame,num_of_rows=10):\n",
    "    print(\"Schema:\")\n",
    "    df.printSchema()\n",
    "    print(f\"Number of Rows: {df.count()}\")\n",
    "    print(\"First Few Rows:\")\n",
    "    df.show(num_of_rows)  "
   ]
  },
  {
   "cell_type": "markdown",
   "metadata": {},
   "source": [
    "## Question 1,2: Read & findout schema of data. "
   ]
  },
  {
   "cell_type": "code",
   "execution_count": 4,
   "metadata": {},
   "outputs": [
    {
     "name": "stderr",
     "output_type": "stream",
     "text": [
      "24/04/19 02:13:04 WARN Utils: Your hostname, IdeaPad-5-15ITL05-55a06dec resolves to a loopback address: 127.0.1.1; using 192.168.1.34 instead (on interface wlp0s20f3)\n",
      "24/04/19 02:13:04 WARN Utils: Set SPARK_LOCAL_IP if you need to bind to another address\n",
      "Setting default log level to \"WARN\".\n",
      "To adjust logging level use sc.setLogLevel(newLevel). For SparkR, use setLogLevel(newLevel).\n",
      "24/04/19 02:13:04 WARN NativeCodeLoader: Unable to load native-hadoop library for your platform... using builtin-java classes where applicable\n"
     ]
    },
    {
     "name": "stdout",
     "output_type": "stream",
     "text": [
      "Schema:\n",
      "root\n",
      " |-- Date: date (nullable = true)\n",
      " |-- Open: float (nullable = true)\n",
      " |-- High: float (nullable = true)\n",
      " |-- Low: float (nullable = true)\n",
      " |-- Close: float (nullable = true)\n",
      " |-- Volume: long (nullable = true)\n",
      " |-- Adj Close: float (nullable = true)\n",
      "\n",
      "Number of Rows: 1762\n",
      "First Few Rows:\n",
      "+----------+---------+---------+---------+---------+---------+---------+\n",
      "|      Date|     Open|     High|      Low|    Close|   Volume|Adj Close|\n",
      "+----------+---------+---------+---------+---------+---------+---------+\n",
      "|2010-01-04|   213.43|    214.5|   212.38|   214.01|123432400| 27.72704|\n",
      "|2010-01-05|214.59999|   215.59|   213.25|214.37999|150476200|27.774977|\n",
      "|2010-01-06|214.37999|   215.23|   210.75|   210.97|138040000|27.333178|\n",
      "|2010-01-07|   211.75|    212.0|   209.05|   210.58|119282800| 27.28265|\n",
      "|2010-01-08|210.29999|    212.0|   209.06|211.98001|111902700|27.464033|\n",
      "|2010-01-11|    212.8|    213.0|208.45001|   210.11|115557400|27.221758|\n",
      "|2010-01-12|   209.19|209.76999|   206.42|   207.72|148614900| 26.91211|\n",
      "|2010-01-13|207.87001|   210.93|204.09999|210.65001|151473000| 27.29172|\n",
      "|2010-01-14|   210.11|210.45999|   209.02|   209.43|108223500|27.133657|\n",
      "|2010-01-15|   210.93|211.59999|   205.87|   205.93|148516900|26.680199|\n",
      "+----------+---------+---------+---------+---------+---------+---------+\n",
      "only showing top 10 rows\n",
      "\n"
     ]
    }
   ],
   "source": [
    "spark = SparkSession.builder.getOrCreate()\n",
    "\n",
    "schema = StructType([\n",
    "    StructField(\"Date\", DateType(), True),\n",
    "    StructField(\"Open\", FloatType(), True),\n",
    "    StructField(\"High\", FloatType(), True),\n",
    "    StructField(\"Low\", FloatType(), True),\n",
    "    StructField(\"Close\", FloatType(), True),\n",
    "    StructField(\"Volume\", LongType(), True),\n",
    "    StructField(\"Adj Close\", FloatType(), True)\n",
    "])\n",
    "\n",
    "df = spark.read.option(\"header\", True).schema(schema).csv(\"stocks.csv\")\n",
    "\n",
    "show_dataframe_info(df,10)"
   ]
  },
  {
   "cell_type": "markdown",
   "metadata": {},
   "source": [
    "## Question 3 : Select opening, closing and volume for record with closing less than 500"
   ]
  },
  {
   "cell_type": "code",
   "execution_count": 8,
   "metadata": {},
   "outputs": [
    {
     "name": "stdout",
     "output_type": "stream",
     "text": [
      "Schema:\n",
      "root\n",
      " |-- Open: float (nullable = true)\n",
      " |-- Close: float (nullable = true)\n",
      " |-- Volume: long (nullable = true)\n",
      "\n",
      "Number of Rows: 1359\n",
      "First Few Rows:\n",
      "+---------+---------+---------+\n",
      "|     Open|    Close|   Volume|\n",
      "+---------+---------+---------+\n",
      "|   213.43|   214.01|123432400|\n",
      "|214.59999|214.37999|150476200|\n",
      "|214.37999|   210.97|138040000|\n",
      "|   211.75|   210.58|119282800|\n",
      "|210.29999|211.98001|111902700|\n",
      "|    212.8|   210.11|115557400|\n",
      "|   209.19|   207.72|148614900|\n",
      "|207.87001|210.65001|151473000|\n",
      "|   210.11|   209.43|108223500|\n",
      "|   210.93|   205.93|148516900|\n",
      "|   208.33|   215.04|182501900|\n",
      "|   214.91|   211.73|153038200|\n",
      "|212.07999|208.06999|152038600|\n",
      "|   206.78|   197.75|220441900|\n",
      "|   202.51|   203.07|266424900|\n",
      "|   205.95|   205.94|466777500|\n",
      "|206.84999|   207.88|430642100|\n",
      "|204.93001|   199.29|293375600|\n",
      "|   201.08|   192.06|311488100|\n",
      "|   192.37|   194.73|187469100|\n",
      "|   195.91|   195.86|174585600|\n",
      "|   195.17|   199.23|153832000|\n",
      "|   196.73|   192.05|189413000|\n",
      "|   192.63|   195.46|212576700|\n",
      "|   195.69|   194.12|119567700|\n",
      "|   196.42|   196.19|158221700|\n",
      "|   195.89|195.12001| 92590400|\n",
      "|   194.88|   198.67|137586400|\n",
      "|   198.11|200.37999|163867200|\n",
      "|   201.94|    203.4|135934400|\n",
      "+---------+---------+---------+\n",
      "only showing top 30 rows\n",
      "\n"
     ]
    }
   ],
   "source": [
    "q3_df = df.where(df[\"Close\"]<500).select(\"Open\",\"Close\",\"Volume\")\n",
    "show_dataframe_info(q3_df,30)"
   ]
  },
  {
   "cell_type": "markdown",
   "metadata": {},
   "source": [
    "## Question 4 : records with opening price more than 200 and closing price less than 200."
   ]
  },
  {
   "cell_type": "code",
   "execution_count": 9,
   "metadata": {},
   "outputs": [
    {
     "name": "stdout",
     "output_type": "stream",
     "text": [
      "Schema:\n",
      "root\n",
      " |-- Date: date (nullable = true)\n",
      " |-- Open: float (nullable = true)\n",
      " |-- High: float (nullable = true)\n",
      " |-- Low: float (nullable = true)\n",
      " |-- Close: float (nullable = true)\n",
      " |-- Volume: long (nullable = true)\n",
      " |-- Adj Close: float (nullable = true)\n",
      "\n",
      "Number of Rows: 3\n",
      "First Few Rows:\n",
      "+----------+---------+-----+------+------+---------+---------+\n",
      "|      Date|     Open| High|   Low| Close|   Volume|Adj Close|\n",
      "+----------+---------+-----+------+------+---------+---------+\n",
      "|2010-01-22|   206.78|207.5|197.16|197.75|220441900|25.620401|\n",
      "|2010-01-28|204.93001|205.5| 198.7|199.29|293375600|25.819921|\n",
      "|2010-01-29|   201.08|202.2|190.25|192.06|311488100|24.883207|\n",
      "+----------+---------+-----+------+------+---------+---------+\n",
      "\n"
     ]
    }
   ],
   "source": [
    "q4_df = df.filter((df[\"Open\"] > 200) & (df[\"Close\"] < 200))\n",
    "show_dataframe_info(q4_df)"
   ]
  },
  {
   "cell_type": "markdown",
   "metadata": {},
   "source": [
    "## Question 5 : Extract the year from the date and save it in a new column."
   ]
  },
  {
   "cell_type": "code",
   "execution_count": 10,
   "metadata": {},
   "outputs": [
    {
     "name": "stdout",
     "output_type": "stream",
     "text": [
      "Schema:\n",
      "root\n",
      " |-- Date: date (nullable = true)\n",
      " |-- Open: float (nullable = true)\n",
      " |-- High: float (nullable = true)\n",
      " |-- Low: float (nullable = true)\n",
      " |-- Close: float (nullable = true)\n",
      " |-- Volume: long (nullable = true)\n",
      " |-- Adj Close: float (nullable = true)\n",
      " |-- year: integer (nullable = true)\n",
      "\n",
      "Number of Rows: 1762\n",
      "First Few Rows:\n",
      "+----------+---------+---------+---------+---------+---------+---------+----+\n",
      "|      Date|     Open|     High|      Low|    Close|   Volume|Adj Close|year|\n",
      "+----------+---------+---------+---------+---------+---------+---------+----+\n",
      "|2010-01-04|   213.43|    214.5|   212.38|   214.01|123432400| 27.72704|2010|\n",
      "|2010-01-05|214.59999|   215.59|   213.25|214.37999|150476200|27.774977|2010|\n",
      "|2010-01-06|214.37999|   215.23|   210.75|   210.97|138040000|27.333178|2010|\n",
      "|2010-01-07|   211.75|    212.0|   209.05|   210.58|119282800| 27.28265|2010|\n",
      "|2010-01-08|210.29999|    212.0|   209.06|211.98001|111902700|27.464033|2010|\n",
      "|2010-01-11|    212.8|    213.0|208.45001|   210.11|115557400|27.221758|2010|\n",
      "|2010-01-12|   209.19|209.76999|   206.42|   207.72|148614900| 26.91211|2010|\n",
      "|2010-01-13|207.87001|   210.93|204.09999|210.65001|151473000| 27.29172|2010|\n",
      "|2010-01-14|   210.11|210.45999|   209.02|   209.43|108223500|27.133657|2010|\n",
      "|2010-01-15|   210.93|211.59999|   205.87|   205.93|148516900|26.680199|2010|\n",
      "+----------+---------+---------+---------+---------+---------+---------+----+\n",
      "only showing top 10 rows\n",
      "\n"
     ]
    }
   ],
   "source": [
    "q5_df = df.withColumn('year', year(df['Date']))\n",
    "show_dataframe_info(q5_df)"
   ]
  },
  {
   "cell_type": "markdown",
   "metadata": {},
   "source": [
    "## Question 6 : show the minimum volumes traded for each year."
   ]
  },
  {
   "cell_type": "code",
   "execution_count": 11,
   "metadata": {},
   "outputs": [
    {
     "name": "stdout",
     "output_type": "stream",
     "text": [
      "+----+---------+\n",
      "|year|minVolume|\n",
      "+----+---------+\n",
      "|2015| 13046400|\n",
      "|2013| 41888700|\n",
      "|2014| 14479600|\n",
      "|2012| 43938300|\n",
      "|2016| 11475900|\n",
      "|2010| 39373600|\n",
      "|2011| 44915500|\n",
      "+----+---------+\n",
      "\n"
     ]
    }
   ],
   "source": [
    "q6_df=q5_df.groupby(\"year\").agg(min(\"Volume\").alias(\"minVolume\"))\n",
    "q6_df.show()"
   ]
  },
  {
   "cell_type": "markdown",
   "metadata": {},
   "source": [
    "## Question 7 : Show the highest low price for each year and month"
   ]
  },
  {
   "cell_type": "code",
   "execution_count": 12,
   "metadata": {},
   "outputs": [
    {
     "name": "stdout",
     "output_type": "stream",
     "text": [
      "Schema:\n",
      "root\n",
      " |-- year: integer (nullable = true)\n",
      " |-- month(Date): integer (nullable = true)\n",
      " |-- minVolume: long (nullable = true)\n",
      "\n",
      "Number of Rows: 84\n",
      "First Few Rows:\n",
      "+----+-----------+---------+\n",
      "|year|month(Date)|minVolume|\n",
      "+----+-----------+---------+\n",
      "|2012|         10| 92681400|\n",
      "|2010|          7|105137900|\n",
      "|2010|         12| 39373600|\n",
      "|2015|          2| 37362400|\n",
      "|2014|          4| 40586000|\n",
      "|2015|         12| 13570400|\n",
      "|2016|          7| 23779900|\n",
      "|2016|         11| 11475900|\n",
      "|2012|          8| 48734700|\n",
      "|2013|          2| 80628800|\n",
      "|2012|          4|101680600|\n",
      "|2012|         12| 43938300|\n",
      "|2014|         10| 34187700|\n",
      "|2016|          5| 28719100|\n",
      "|2014|         12| 14479600|\n",
      "|2013|          9| 57010100|\n",
      "|2013|         10| 62775300|\n",
      "|2014|          5| 39934300|\n",
      "|2016|          2| 27582700|\n",
      "|2013|         12| 41888700|\n",
      "|2014|          1| 57319500|\n",
      "|2010|         11| 59396400|\n",
      "|2011|          3| 68504800|\n",
      "|2013|          3| 73573500|\n",
      "|2014|          8| 28116000|\n",
      "|2013|          6| 48756400|\n",
      "|2010|          6|136439800|\n",
      "|2012|          7| 60428200|\n",
      "|2012|          9| 81718700|\n",
      "|2015|          4| 25524600|\n",
      "|2010|          5|113585500|\n",
      "|2015|          8| 34560700|\n",
      "|2016|          9| 24607400|\n",
      "|2010|          9| 85639400|\n",
      "|2011|          2| 64738800|\n",
      "|2011|          4| 66636500|\n",
      "|2011|         12| 44915500|\n",
      "|2015|         11| 13046400|\n",
      "|2011|          8|101317300|\n",
      "|2016|         10| 20034600|\n",
      "|2015|          9| 35756700|\n",
      "|2013|          7| 49747600|\n",
      "|2014|          9| 37299400|\n",
      "|2013|          4| 59653300|\n",
      "|2014|          3| 42167300|\n",
      "|2015|         10| 29759200|\n",
      "|2016|          6| 20848100|\n",
      "|2013|         11| 48479200|\n",
      "|2011|          5| 50899800|\n",
      "|2013|          5| 69041700|\n",
      "|2011|          7| 88763500|\n",
      "|2010|          8| 72274300|\n",
      "|2016|         12| 14249500|\n",
      "|2014|          2| 57988000|\n",
      "|2012|         11| 68206600|\n",
      "|2016|          1| 49154200|\n",
      "|2016|          4| 23581700|\n",
      "|2014|          6| 29726000|\n",
      "|2011|          6| 68772200|\n",
      "|2010|         10| 93194500|\n",
      "|2015|          3| 31666300|\n",
      "|2010|          2| 92590400|\n",
      "|2010|          3| 85527400|\n",
      "|2011|         11| 63690200|\n",
      "|2012|          1| 53146800|\n",
      "|2015|          7| 27211000|\n",
      "|2012|          2| 46699100|\n",
      "|2014|         11| 24814400|\n",
      "|2015|          6| 30268900|\n",
      "|2010|          4| 76552700|\n",
      "|2012|          3|101820600|\n",
      "|2011|         10| 80710700|\n",
      "|2012|          5| 82126800|\n",
      "|2013|          1| 79833600|\n",
      "|2013|          8| 51562700|\n",
      "|2016|          8| 18660400|\n",
      "|2015|          1| 40105900|\n",
      "|2011|          1| 63879900|\n",
      "|2015|          5| 30733300|\n",
      "|2010|          1|108223500|\n",
      "|2012|          6| 50749300|\n",
      "|2011|          9| 85931300|\n",
      "|2014|          7| 22891800|\n",
      "|2016|          3| 19411400|\n",
      "+----+-----------+---------+\n",
      "\n"
     ]
    }
   ],
   "source": [
    "q7_df=q5_df.groupby([\"year\",month(df[\"Date\"])]).agg(min(\"Volume\").alias(\"minVolume\"))\n",
    "show_dataframe_info(q7_df,84)"
   ]
  },
  {
   "cell_type": "markdown",
   "metadata": {},
   "source": [
    "## Question 8 : Mean and standard deviation of high price over the whole data frame."
   ]
  },
  {
   "cell_type": "code",
   "execution_count": 13,
   "metadata": {},
   "outputs": [
    {
     "name": "stdout",
     "output_type": "stream",
     "text": [
      "Schema:\n",
      "root\n",
      " |-- Stddev High Price: double (nullable = true)\n",
      " |-- Mean High Price: double (nullable = true)\n",
      "\n",
      "Number of Rows: 1\n",
      "First Few Rows:\n",
      "+-----------------+-----------------+\n",
      "|Stddev High Price|  Mean High Price|\n",
      "+-----------------+-----------------+\n",
      "|186.8981766989906|315.9112879420788|\n",
      "+-----------------+-----------------+\n",
      "\n"
     ]
    }
   ],
   "source": [
    "q8_df = df.agg(stddev(\"High\").alias(\"Stddev High Price\"),mean(\"High\").alias(\"Mean High Price\"))\n",
    "show_dataframe_info(q8_df)"
   ]
  },
  {
   "cell_type": "markdown",
   "metadata": {},
   "source": [
    "# Main Task"
   ]
  },
  {
   "cell_type": "code",
   "execution_count": 5,
   "metadata": {},
   "outputs": [
    {
     "name": "stdout",
     "output_type": "stream",
     "text": [
      "Schema:\n",
      "root\n",
      " |-- id: string (nullable = true)\n",
      " |-- name: string (nullable = true)\n",
      " |-- album: string (nullable = true)\n",
      " |-- album_id: string (nullable = true)\n",
      " |-- artists: string (nullable = true)\n",
      " |-- artist_ids: string (nullable = true)\n",
      " |-- track_number: long (nullable = true)\n",
      " |-- disc_number: long (nullable = true)\n",
      " |-- explicit: boolean (nullable = true)\n",
      " |-- danceability: double (nullable = true)\n",
      " |-- energy: double (nullable = true)\n",
      " |-- key: long (nullable = true)\n",
      " |-- loudness: double (nullable = true)\n",
      " |-- mode: long (nullable = true)\n",
      " |-- speechiness: double (nullable = true)\n",
      " |-- acousticness: double (nullable = true)\n",
      " |-- instrumentalness: double (nullable = true)\n",
      " |-- liveness: double (nullable = true)\n",
      " |-- valence: double (nullable = true)\n",
      " |-- tempo: double (nullable = true)\n",
      " |-- duration_ms: long (nullable = true)\n",
      " |-- time_signature: double (nullable = true)\n",
      " |-- year: long (nullable = true)\n",
      " |-- release_date: string (nullable = true)\n",
      "\n",
      "Number of Rows: 1204025\n",
      "First Few Rows:\n",
      "+--------------------+--------------------+--------------------+--------------------+--------------------+--------------------+------------+-----------+--------+------------+------+---+------------------+----+-----------+------------+----------------+--------+-------+-------+-----------+--------------+----+------------+\n",
      "|                  id|                name|               album|            album_id|             artists|          artist_ids|track_number|disc_number|explicit|danceability|energy|key|          loudness|mode|speechiness|acousticness|instrumentalness|liveness|valence|  tempo|duration_ms|time_signature|year|release_date|\n",
      "+--------------------+--------------------+--------------------+--------------------+--------------------+--------------------+------------+-----------+--------+------------+------+---+------------------+----+-----------+------------+----------------+--------+-------+-------+-----------+--------------+----+------------+\n",
      "|7lmeHLHBe4nmXzuXc...|             Testify|The Battle Of Los...|2eia0myWFgoHuttJy...|['Rage Against Th...|['2d0hyoQ5ynDBnkv...|           1|          1|   false|        0.47| 0.978|  7|            -5.399|   1|     0.0727|      0.0261|         1.09E-5|   0.356|  0.503|117.906|     210133|           4.0|1999|  1999-11-02|\n",
      "|1wsRitfRRtWyEapl0...|     Guerrilla Radio|The Battle Of Los...|2eia0myWFgoHuttJy...|['Rage Against Th...|['2d0hyoQ5ynDBnkv...|           2|          1|    true|       0.599| 0.957| 11|-5.763999999999999|   1|      0.188|      0.0129|         7.06E-5|   0.155|  0.489| 103.68|     206200|           4.0|1999|  1999-11-02|\n",
      "|1hR0fIFK2qRG3f3RF...|    Calm Like a Bomb|The Battle Of Los...|2eia0myWFgoHuttJy...|['Rage Against Th...|['2d0hyoQ5ynDBnkv...|           3|          1|   false|       0.315|  0.97|  7|            -5.424|   1|      0.483|      0.0234|         2.03E-6|   0.122|   0.37|149.749|     298893|           4.0|1999|  1999-11-02|\n",
      "|2lbASgTSoDO7MTuLA...|           Mic Check|The Battle Of Los...|2eia0myWFgoHuttJy...|['Rage Against Th...|['2d0hyoQ5ynDBnkv...|           4|          1|    true|        0.44| 0.967| 11|             -5.83|   0|      0.237|       0.163|         3.64E-6|   0.121|  0.574| 96.752|     213640|           4.0|1999|  1999-11-02|\n",
      "|1MQTmpYOZ6fcMQc56...|Sleep Now In the ...|The Battle Of Los...|2eia0myWFgoHuttJy...|['Rage Against Th...|['2d0hyoQ5ynDBnkv...|           5|          1|   false|       0.426| 0.929|  2|            -6.729|   1|     0.0701|     0.00162|           0.105|  0.0789|  0.539|127.059|     205600|           4.0|1999|  1999-11-02|\n",
      "+--------------------+--------------------+--------------------+--------------------+--------------------+--------------------+------------+-----------+--------+------------+------+---+------------------+----+-----------+------------+----------------+--------+-------+-------+-----------+--------------+----+------------+\n",
      "only showing top 5 rows\n",
      "\n"
     ]
    }
   ],
   "source": [
    "spotify_df = spark.read.parquet(\"spotify.parquet\")\n",
    "show_dataframe_info(spotify_df,5)"
   ]
  },
  {
   "cell_type": "code",
   "execution_count": 6,
   "metadata": {},
   "outputs": [],
   "source": [
    "spotify_df = spotify_df.dropDuplicates(['id'])\n",
    "spotify_df=spotify_df.na.drop()"
   ]
  },
  {
   "cell_type": "code",
   "execution_count": 7,
   "metadata": {},
   "outputs": [],
   "source": [
    "current_year = year(current_date())\n",
    "spotify_df = spotify_df.withColumn('song_age', current_year - col('year'))"
   ]
  },
  {
   "cell_type": "code",
   "execution_count": 8,
   "metadata": {},
   "outputs": [
    {
     "name": "stderr",
     "output_type": "stream",
     "text": [
      "24/04/19 02:13:12 WARN SparkStringUtils: Truncated the string representation of a plan since it was too large. This behavior can be adjusted by setting 'spark.sql.debug.maxToStringFields'.\n",
      "[Stage 12:>                                                         (0 + 8) / 8]\r"
     ]
    },
    {
     "name": "stdout",
     "output_type": "stream",
     "text": [
      "+--------------------+----------+\n",
      "|             artists|song_count|\n",
      "+--------------------+----------+\n",
      "| ['Various Artists']|      1753|\n",
      "|['Vitamin String ...|      1577|\n",
      "| ['Aretha Franklin']|      1209|\n",
      "|['The City of Pra...|      1042|\n",
      "|[\"Dan Gibson's So...|       997|\n",
      "|       ['Bob Dylan']|       913|\n",
      "|        ['The Fall']|       812|\n",
      "|[\"Pickin' On Seri...|       774|\n",
      "|    ['Dolly Parton']|       747|\n",
      "|['Guided By Voices']|       739|\n",
      "|  ['Dionne Warwick']|       728|\n",
      "|   ['Fleetwood Mac']|       696|\n",
      "|   ['Elvis Presley']|       645|\n",
      "|['Revolt Producti...|       627|\n",
      "|['Mannheim Steamr...|       619|\n",
      "|     ['Udo Jürgens']|       615|\n",
      "|  ['Emmylou Harris']|       607|\n",
      "|   ['Barry Manilow']|       605|\n",
      "|      ['Al Jarreau']|       597|\n",
      "| ['Grant Macdonald']|       587|\n",
      "+--------------------+----------+\n",
      "\n"
     ]
    },
    {
     "name": "stderr",
     "output_type": "stream",
     "text": [
      "                                                                                \r"
     ]
    }
   ],
   "source": [
    "artist_song_counts = spotify_df.groupby('artists').agg(count('*').alias('song_count'))\n",
    "\n",
    "artist_song_counts = artist_song_counts.orderBy(desc('song_count'))\n",
    "\n",
    "top_20_artists = artist_song_counts.limit(20)\n",
    "\n",
    "top_20_artists.show()\n"
   ]
  },
  {
   "cell_type": "code",
   "execution_count": 9,
   "metadata": {},
   "outputs": [
    {
     "name": "stderr",
     "output_type": "stream",
     "text": [
      "                                                                                \r"
     ]
    },
    {
     "data": {
      "text/plain": [
       "1204002"
      ]
     },
     "execution_count": 9,
     "metadata": {},
     "output_type": "execute_result"
    }
   ],
   "source": [
    "spotify_df_filtered = spotify_df.filter(spotify_df['year'] != 0)\n",
    "spotify_df_filtered.count()"
   ]
  },
  {
   "cell_type": "code",
   "execution_count": 10,
   "metadata": {},
   "outputs": [
    {
     "name": "stderr",
     "output_type": "stream",
     "text": [
      "[Stage 24:>                                                         (0 + 8) / 8]\r"
     ]
    },
    {
     "name": "stdout",
     "output_type": "stream",
     "text": [
      "Oldest Song:\n",
      "Name: Wishing Well\n",
      "Artist: ['Rabih Abou-Khalil']\n",
      "Year: 1900\n"
     ]
    },
    {
     "name": "stderr",
     "output_type": "stream",
     "text": [
      "                                                                                \r"
     ]
    }
   ],
   "source": [
    "oldest_song = spotify_df_filtered.orderBy(asc('year')).first()\n",
    "\n",
    "print(\"Oldest Song:\")\n",
    "print(\"Name:\", oldest_song['name'])\n",
    "print(\"Artist:\", oldest_song['artists'])\n",
    "print(\"Year:\", oldest_song['year'])"
   ]
  },
  {
   "cell_type": "code",
   "execution_count": 11,
   "metadata": {},
   "outputs": [
    {
     "name": "stderr",
     "output_type": "stream",
     "text": [
      "                                                                                \r"
     ]
    }
   ],
   "source": [
    "songs_by_year = spotify_df_filtered.groupby('year').agg(count('*').alias('song_count')).orderBy('year')\n",
    "\n",
    "songs_by_year_list = songs_by_year.collect()\n",
    "\n",
    "years = [row['year'] for row in songs_by_year_list]\n",
    "song_counts = [row['song_count'] for row in songs_by_year_list]\n"
   ]
  },
  {
   "cell_type": "code",
   "execution_count": 12,
   "metadata": {},
   "outputs": [
    {
     "data": {
      "image/png": "[encoded data removed]",
      "text/plain": [
       "<Figure size 1000x600 with 1 Axes>"
      ]
     },
     "metadata": {},
     "output_type": "display_data"
    }
   ],
   "source": [
    "plt.figure(figsize=(10, 6))\n",
    "plt.plot(years, song_counts, marker='o', linestyle='-')\n",
    "plt.title('Number of Songs by Year')\n",
    "plt.xlabel('Year')\n",
    "plt.ylabel('Number of Songs')\n",
    "plt.grid(True)\n",
    "plt.show()"
   ]
  },
  {
   "cell_type": "code",
   "execution_count": 14,
   "metadata": {},
   "outputs": [
    {
     "name": "stderr",
     "output_type": "stream",
     "text": [
      "                                                                                \r"
     ]
    },
    {
     "data": {
      "image/png": "[encoded data removed]",
      "text/plain": [
       "<Figure size 1000x600 with 1 Axes>"
      ]
     },
     "metadata": {},
     "output_type": "display_data"
    }
   ],
   "source": [
    "modified_spotify_df = spotify_df.withColumn('release_date', to_date(spotify_df['release_date'], 'yyyy-MM-dd'))\n",
    "\n",
    "modified_spotify_df = modified_spotify_df.withColumn('release_month', month('release_date'))\n",
    "modified_spotify_df = modified_spotify_df.filter(modified_spotify_df['release_month'].isNotNull())\n",
    "\n",
    "songs_by_month = modified_spotify_df.groupby('release_month').agg(count('*').alias('song_count')).orderBy('release_month')\n",
    "songs_by_month_list = songs_by_month.collect()\n",
    "\n",
    "months = [row['release_month'] for row in songs_by_month_list]\n",
    "song_counts = [row['song_count'] for row in songs_by_month_list]\n",
    "\n",
    "plt.figure(figsize=(10, 6))\n",
    "plt.bar(months, song_counts, color='skyblue')\n",
    "plt.title('Number of Songs by Month')\n",
    "plt.xlabel('Month')\n",
    "plt.ylabel('Number of Songs')\n",
    "plt.xticks(range(1, 13), ['Jan', 'Feb', 'Mar', 'Apr', 'May', 'Jun', 'Jul', 'Aug', 'Sep', 'Oct', 'Nov', 'Dec'])\n",
    "plt.grid(axis='y')\n",
    "plt.show()\n"
   ]
  },
  {
   "cell_type": "code",
   "execution_count": 17,
   "metadata": {},
   "outputs": [
    {
     "name": "stderr",
     "output_type": "stream",
     "text": [
      "                                                                                \r"
     ]
    },
    {
     "name": "stdout",
     "output_type": "stream",
     "text": [
      "Correlation coefficient between danceability and energy: 0.28301014278556186\n"
     ]
    },
    {
     "name": "stderr",
     "output_type": "stream",
     "text": [
      "                                                                                \r"
     ]
    },
    {
     "name": "stdout",
     "output_type": "stream",
     "text": [
      "Correlation coefficient between danceability and loudness: 0.37819018567342805\n"
     ]
    },
    {
     "name": "stderr",
     "output_type": "stream",
     "text": [
      "                                                                                \r"
     ]
    },
    {
     "name": "stdout",
     "output_type": "stream",
     "text": [
      "Correlation coefficient between danceability and speechiness: 0.20985391457691663\n"
     ]
    },
    {
     "name": "stderr",
     "output_type": "stream",
     "text": [
      "                                                                                \r"
     ]
    },
    {
     "name": "stdout",
     "output_type": "stream",
     "text": [
      "Correlation coefficient between danceability and acousticness: -0.28574370907922425\n"
     ]
    },
    {
     "name": "stderr",
     "output_type": "stream",
     "text": [
      "                                                                                \r"
     ]
    },
    {
     "name": "stdout",
     "output_type": "stream",
     "text": [
      "Correlation coefficient between danceability and instrumentalness: -0.28533427024432684\n"
     ]
    },
    {
     "name": "stderr",
     "output_type": "stream",
     "text": [
      "                                                                                \r"
     ]
    },
    {
     "name": "stdout",
     "output_type": "stream",
     "text": [
      "Correlation coefficient between danceability and liveness: -0.04432894216595387\n"
     ]
    },
    {
     "name": "stderr",
     "output_type": "stream",
     "text": [
      "                                                                                \r"
     ]
    },
    {
     "name": "stdout",
     "output_type": "stream",
     "text": [
      "Correlation coefficient between danceability and valence: 0.5634357954305634\n"
     ]
    },
    {
     "name": "stderr",
     "output_type": "stream",
     "text": [
      "                                                                                \r"
     ]
    },
    {
     "name": "stdout",
     "output_type": "stream",
     "text": [
      "Correlation coefficient between danceability and tempo: 0.06058535302662619\n"
     ]
    },
    {
     "name": "stderr",
     "output_type": "stream",
     "text": [
      "                                                                                \r"
     ]
    },
    {
     "name": "stdout",
     "output_type": "stream",
     "text": [
      "Correlation coefficient between energy and loudness: 0.8179328879011621\n"
     ]
    },
    {
     "name": "stderr",
     "output_type": "stream",
     "text": [
      "                                                                                \r"
     ]
    },
    {
     "name": "stdout",
     "output_type": "stream",
     "text": [
      "Correlation coefficient between energy and speechiness: 0.1308086273363539\n"
     ]
    },
    {
     "name": "stderr",
     "output_type": "stream",
     "text": [
      "                                                                                \r"
     ]
    },
    {
     "name": "stdout",
     "output_type": "stream",
     "text": [
      "Correlation coefficient between energy and acousticness: -0.7962415923681575\n"
     ]
    },
    {
     "name": "stderr",
     "output_type": "stream",
     "text": [
      "                                                                                \r"
     ]
    },
    {
     "name": "stdout",
     "output_type": "stream",
     "text": [
      "Correlation coefficient between energy and instrumentalness: -0.2521386001326645\n"
     ]
    },
    {
     "name": "stderr",
     "output_type": "stream",
     "text": [
      "                                                                                \r"
     ]
    },
    {
     "name": "stdout",
     "output_type": "stream",
     "text": [
      "Correlation coefficient between energy and liveness: 0.2134933599536315\n"
     ]
    },
    {
     "name": "stderr",
     "output_type": "stream",
     "text": [
      "                                                                                \r"
     ]
    },
    {
     "name": "stdout",
     "output_type": "stream",
     "text": [
      "Correlation coefficient between energy and valence: 0.3995235438985902\n"
     ]
    },
    {
     "name": "stderr",
     "output_type": "stream",
     "text": [
      "                                                                                \r"
     ]
    },
    {
     "name": "stdout",
     "output_type": "stream",
     "text": [
      "Correlation coefficient between energy and tempo: 0.2682243073158333\n"
     ]
    },
    {
     "name": "stderr",
     "output_type": "stream",
     "text": [
      "                                                                                \r"
     ]
    },
    {
     "name": "stdout",
     "output_type": "stream",
     "text": [
      "Correlation coefficient between loudness and speechiness: 0.06239853512379907\n"
     ]
    },
    {
     "name": "stderr",
     "output_type": "stream",
     "text": [
      "                                                                                \r"
     ]
    },
    {
     "name": "stdout",
     "output_type": "stream",
     "text": [
      "Correlation coefficient between loudness and acousticness: -0.6715505688083144\n"
     ]
    },
    {
     "name": "stderr",
     "output_type": "stream",
     "text": [
      "                                                                                \r"
     ]
    },
    {
     "name": "stdout",
     "output_type": "stream",
     "text": [
      "Correlation coefficient between loudness and instrumentalness: -0.393043250145869\n"
     ]
    },
    {
     "name": "stderr",
     "output_type": "stream",
     "text": [
      "                                                                                \r"
     ]
    },
    {
     "name": "stdout",
     "output_type": "stream",
     "text": [
      "Correlation coefficient between loudness and liveness: 0.1381240119255692\n"
     ]
    },
    {
     "name": "stderr",
     "output_type": "stream",
     "text": [
      "                                                                                \r"
     ]
    },
    {
     "name": "stdout",
     "output_type": "stream",
     "text": [
      "Correlation coefficient between loudness and valence: 0.3849978888411588\n"
     ]
    },
    {
     "name": "stderr",
     "output_type": "stream",
     "text": [
      "                                                                                \r"
     ]
    },
    {
     "name": "stdout",
     "output_type": "stream",
     "text": [
      "Correlation coefficient between loudness and tempo: 0.24624200817406616\n"
     ]
    },
    {
     "name": "stderr",
     "output_type": "stream",
     "text": [
      "                                                                                \r"
     ]
    },
    {
     "name": "stdout",
     "output_type": "stream",
     "text": [
      "Correlation coefficient between speechiness and acousticness: -0.08236978776234256\n"
     ]
    },
    {
     "name": "stderr",
     "output_type": "stream",
     "text": [
      "                                                                                \r"
     ]
    },
    {
     "name": "stdout",
     "output_type": "stream",
     "text": [
      "Correlation coefficient between speechiness and instrumentalness: -0.16755479186292568\n"
     ]
    },
    {
     "name": "stderr",
     "output_type": "stream",
     "text": [
      "                                                                                \r"
     ]
    },
    {
     "name": "stdout",
     "output_type": "stream",
     "text": [
      "Correlation coefficient between speechiness and liveness: 0.1890124157775532\n"
     ]
    },
    {
     "name": "stderr",
     "output_type": "stream",
     "text": [
      "                                                                                \r"
     ]
    },
    {
     "name": "stdout",
     "output_type": "stream",
     "text": [
      "Correlation coefficient between speechiness and valence: 0.09967471529192735\n"
     ]
    },
    {
     "name": "stderr",
     "output_type": "stream",
     "text": [
      "                                                                                \r"
     ]
    },
    {
     "name": "stdout",
     "output_type": "stream",
     "text": [
      "Correlation coefficient between speechiness and tempo: 0.007738937446127534\n"
     ]
    },
    {
     "name": "stderr",
     "output_type": "stream",
     "text": [
      "                                                                                \r"
     ]
    },
    {
     "name": "stdout",
     "output_type": "stream",
     "text": [
      "Correlation coefficient between acousticness and instrumentalness: 0.24413789883087708\n"
     ]
    },
    {
     "name": "stderr",
     "output_type": "stream",
     "text": [
      "                                                                                \r"
     ]
    },
    {
     "name": "stdout",
     "output_type": "stream",
     "text": [
      "Correlation coefficient between acousticness and liveness: -0.11500128256773284\n"
     ]
    },
    {
     "name": "stderr",
     "output_type": "stream",
     "text": [
      "                                                                                \r"
     ]
    },
    {
     "name": "stdout",
     "output_type": "stream",
     "text": [
      "Correlation coefficient between acousticness and valence: -0.26882878427071666\n"
     ]
    },
    {
     "name": "stderr",
     "output_type": "stream",
     "text": [
      "                                                                                \r"
     ]
    },
    {
     "name": "stdout",
     "output_type": "stream",
     "text": [
      "Correlation coefficient between acousticness and tempo: -0.23101514120136177\n"
     ]
    },
    {
     "name": "stderr",
     "output_type": "stream",
     "text": [
      "                                                                                \r"
     ]
    },
    {
     "name": "stdout",
     "output_type": "stream",
     "text": [
      "Correlation coefficient between instrumentalness and liveness: -0.11899302215705401\n"
     ]
    },
    {
     "name": "stderr",
     "output_type": "stream",
     "text": [
      "                                                                                \r"
     ]
    },
    {
     "name": "stdout",
     "output_type": "stream",
     "text": [
      "Correlation coefficient between instrumentalness and valence: -0.28471580032168814\n"
     ]
    },
    {
     "name": "stderr",
     "output_type": "stream",
     "text": [
      "                                                                                \r"
     ]
    },
    {
     "name": "stdout",
     "output_type": "stream",
     "text": [
      "Correlation coefficient between instrumentalness and tempo: -0.07146098341049081\n"
     ]
    },
    {
     "name": "stderr",
     "output_type": "stream",
     "text": [
      "                                                                                \r"
     ]
    },
    {
     "name": "stdout",
     "output_type": "stream",
     "text": [
      "Correlation coefficient between liveness and valence: 0.06266192668505587\n"
     ]
    },
    {
     "name": "stderr",
     "output_type": "stream",
     "text": [
      "                                                                                \r"
     ]
    },
    {
     "name": "stdout",
     "output_type": "stream",
     "text": [
      "Correlation coefficient between liveness and tempo: 0.0301466376249059\n"
     ]
    },
    {
     "name": "stderr",
     "output_type": "stream",
     "text": [
      "[Stage 297:>                                                        (0 + 8) / 8]\r"
     ]
    },
    {
     "name": "stdout",
     "output_type": "stream",
     "text": [
      "Correlation coefficient between valence and tempo: 0.17618805130743603\n"
     ]
    },
    {
     "name": "stderr",
     "output_type": "stream",
     "text": [
      "                                                                                \r"
     ]
    }
   ],
   "source": [
    "fields = ['danceability', 'energy', 'loudness', 'speechiness', 'acousticness', 'instrumentalness', 'liveness', 'valence', 'tempo']\n",
    "\n",
    "for i in range(len(fields)):\n",
    "    for j in range(i+1, len(fields)):\n",
    "        field1 = fields[i]\n",
    "        field2 = fields[j]\n",
    "\n",
    "        corr_coef = spotify_df.stat.corr(field1, field2)\n",
    "\n",
    "        print(f\"Correlation coefficient between {field1} and {field2}: {corr_coef}\")\n",
    "\n"
   ]
  },
  {
   "cell_type": "markdown",
   "metadata": {},
   "source": [
    "From the correlation coefficients provided, we can understand several things about the relationships between the musical characteristics:\n",
    "\n",
    "1. **Positive Correlation between Danceability and Loudness:** Danceability and loudness have a positive correlation coefficient of 0.378. This suggests that songs with higher danceability tend to have higher loudness.\n",
    "2. **Negative Correlation between Danceability and Acousticness/Instrumentalness:** Danceability has negative correlations with acousticness (-0.286) and instrumentalness (-0.285). This indicates that songs with higher danceability tend to have lower acousticness and instrumentalness.\n",
    "3. **Positive Correlation between Energy and Loudness/Valence:** Energy is positively correlated with loudness `(0.818)` and valence (0.400). This implies that songs with higher energy levels tend to be louder and have higher valence (positivity or happiness).\n",
    "4. **Negative Correlation between Energy and Acousticness:** Energy has a strong negative correlation with acousticness `(-0.796)`. This suggests that energetic songs are less likely to be acoustic.\n",
    "5. **Positive Correlation between Loudness and Valence:** Loudness and valence have a positive correlation coefficient of 0.385. This means that songs with higher loudness tend to have higher valence.\n",
    "6. **Negative Correlation between Loudness and Acousticness/Instrumentalness:** Loudness is negatively correlated with both acousticness `(-0.672)` and instrumentalness (-0.393). This indicates that louder songs are less likely to be acoustic or instrumental.\n",
    "7. **Positive Correlation between Acousticness and Valence:** Acousticness and valence have a negative correlation coefficient of -0.269. This suggests that acoustic songs are more likely to have lower valence."
   ]
  },
  {
   "cell_type": "markdown",
   "metadata": {},
   "source": [
    "## Questions\n",
    "### 1. Read about how Spark and Hadoop work. What does the term ‘lazy evaluation’ mean for them? Explain with a simple example\n",
    "\n",
    "### 2. Your main task’s dataset has about 1,200,000 rows, which makes it quite hard, and even sometimes impossible, to work with. Explain how parquet files try to solve this problem, compared to normal file formats like csv.\n",
    "Parquet files are a columnar storage format commonly used in **big data processing** frameworks like Apache Spark. They are designed to address the challenges posed by large datasets, such as the one you mentioned with approximately 1,200,000 rows. Parquet files offer several advantages over normal file formats like CSV when it comes to handling large volumes of data:\n",
    "\n",
    "1. **Columnar Storage:** Parquet files store data in a columnar format, meaning that values from each column are stored together. This storage layout is highly efficient for analytics workloads, as it allows for selective column reading. When processing queries that only access specific columns, Parquet can efficiently skip over irrelevant data, leading to significant performance gains compared to row-based storage formats like CSV.\n",
    "\n",
    "2. **Compression:** Parquet files support various compression algorithms, such as Snappy, Gzip, and LZO. Compression reduces the file size, which not only saves storage space but also improves I/O performance by reducing disk reads and writes. With smaller file sizes, Parquet files can be transferred more quickly over the network, resulting in faster data processing.\n",
    "\n",
    "3. **Predicate Pushdown:** Parquet files support predicate pushdown, a feature that enables query engines like Apache Spark to push filtering conditions down to the storage layer. This means that only the relevant data blocks are read from disk, reducing the amount of data transferred over the network and improving query performance. In contrast, CSV files do not inherently support predicate pushdown, so the entire file must be read into memory before filtering can be applied.\n",
    "\n",
    "4. **Schema Evolution:** Parquet files store metadata about the schema along with the data. This allows for schema evolution, meaning that changes to the schema, such as adding new columns or modifying data types, can be easily accommodated without requiring the entire dataset to be rewritten. In contrast, modifying the schema of CSV files typically requires processing the entire dataset, which can be time-consuming and resource-intensive.\n",
    "\n",
    "5. **Data Partitioning:** Parquet files can be partitioned based on one or more columns, enabling efficient data retrieval for specific subsets of data. Partitioning allows for faster query execution by minimizing the amount of data that needs to be scanned. CSV files do not inherently support data partitioning, so querying specific subsets of data may require scanning the entire file."
   ]
  },
  {
   "cell_type": "markdown",
   "metadata": {},
   "source": []
  },
  {
   "cell_type": "markdown",
   "metadata": {},
   "source": []
  }
 ],
 "metadata": {
  "kernelspec": {
   "display_name": "Python 3",
   "language": "python",
   "name": "python3"
  },
  "language_info": {
   "codemirror_mode": {
    "name": "ipython",
    "version": 3
   },
   "file_extension": ".py",
   "mimetype": "text/x-python",
   "name": "python",
   "nbconvert_exporter": "python",
   "pygments_lexer": "ipython3",
   "version": "3.10.12"
  }
 },
 "nbformat": 4,
 "nbformat_minor": 2
}

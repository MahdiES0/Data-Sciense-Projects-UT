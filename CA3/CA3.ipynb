{
 "cells": [
  {
   "cell_type": "markdown",
   "metadata": {},
   "source": [
    "<h1 style=\"text-align: center; font-weight: bold;\">Data Sciense Course - Spring 1403</h1>\n",
    "<h1 style=\"text-align: center; font-weight: bold;\">Computer Assignment 3 - Introduction to Data Science </h1>\n",
    "<h1 style=\"text-align: center;\">Mohammadreza Mohammadhashemi : 810100206</h1>\n",
    "<h1 style=\"text-align: center;\">Soheil Hajian Manesh : 810100119</h1>\n",
    "<h1 style=\"text-align: center;\">Mahdi Ebrahimi Soltani : 810100241</h1>"
   ]
  },
  {
   "cell_type": "markdown",
   "metadata": {},
   "source": [
    "# Problem Description\n",
    "In this assignment, we work with PySpark, which is the Python API for Apache Spark. It enables performing real-time, large-scale data processing in a distributed environment using Python."
   ]
  },
  {
   "cell_type": "code",
   "execution_count": 1,
   "metadata": {},
   "outputs": [
    {
     "data": {
      "text/html": [
       "<style>pre { white-space: pre !important; }</style>"
      ],
      "text/plain": [
       "<IPython.core.display.HTML object>"
      ]
     },
     "metadata": {},
     "output_type": "display_data"
    }
   ],
   "source": [
    "from IPython.display import display, HTML\n",
    "display(HTML('<style>pre { white-space: pre !important; }</style>'))"
   ]
  },
  {
   "cell_type": "code",
   "execution_count": 57,
   "metadata": {},
   "outputs": [],
   "source": [
    "from pyspark.sql import SparkSession\n",
    "from pyspark.sql import DataFrame\n",
    "from pyspark.sql.types import StructType, StructField, FloatType, DateType, LongType\n",
    "from pyspark.sql.functions import year\n",
    "from pyspark.sql.functions import month\n",
    "from pyspark.sql.functions import min\n",
    "from pyspark.sql.functions import stddev\n",
    "from pyspark.sql.functions import mean"
   ]
  },
  {
   "cell_type": "markdown",
   "metadata": {},
   "source": [
    "# Warm-Up!"
   ]
  },
  {
   "cell_type": "code",
   "execution_count": 19,
   "metadata": {},
   "outputs": [],
   "source": [
    "def show_dataframe_info(df: DataFrame,num_of_rows=10):\n",
    "    print(\"Schema:\")\n",
    "    df.printSchema()\n",
    "    print(f\"Number of Rows: {df.count()}\")\n",
    "    print(\"First Few Rows:\")\n",
    "    df.show(num_of_rows)  "
   ]
  },
  {
   "cell_type": "markdown",
   "metadata": {},
   "source": [
    "## Question 1,2: Read & findout schema of data. "
   ]
  },
  {
   "cell_type": "code",
   "execution_count": 4,
   "metadata": {},
   "outputs": [
    {
     "name": "stderr",
     "output_type": "stream",
     "text": [
      "24/04/16 14:30:18 WARN Utils: Your hostname, IdeaPad-5-15ITL05-55a06dec resolves to a loopback address: 127.0.1.1; using 172.20.10.12 instead (on interface wlp0s20f3)\n",
      "24/04/16 14:30:18 WARN Utils: Set SPARK_LOCAL_IP if you need to bind to another address\n",
      "Setting default log level to \"WARN\".\n",
      "To adjust logging level use sc.setLogLevel(newLevel). For SparkR, use setLogLevel(newLevel).\n",
      "24/04/16 14:30:18 WARN NativeCodeLoader: Unable to load native-hadoop library for your platform... using builtin-java classes where applicable\n"
     ]
    },
    {
     "name": "stdout",
     "output_type": "stream",
     "text": [
      "Schema:\n",
      "root\n",
      " |-- Date: date (nullable = true)\n",
      " |-- Open: float (nullable = true)\n",
      " |-- High: float (nullable = true)\n",
      " |-- Low: float (nullable = true)\n",
      " |-- Close: float (nullable = true)\n",
      " |-- Volume: long (nullable = true)\n",
      " |-- Adj Close: float (nullable = true)\n",
      "\n",
      "Number of Rows: 1762\n",
      "First Few Rows:\n",
      "+----------+---------+---------+---------+---------+---------+---------+\n",
      "|      Date|     Open|     High|      Low|    Close|   Volume|Adj Close|\n",
      "+----------+---------+---------+---------+---------+---------+---------+\n",
      "|2010-01-04|   213.43|    214.5|   212.38|   214.01|123432400| 27.72704|\n",
      "|2010-01-05|214.59999|   215.59|   213.25|214.37999|150476200|27.774977|\n",
      "|2010-01-06|214.37999|   215.23|   210.75|   210.97|138040000|27.333178|\n",
      "|2010-01-07|   211.75|    212.0|   209.05|   210.58|119282800| 27.28265|\n",
      "|2010-01-08|210.29999|    212.0|   209.06|211.98001|111902700|27.464033|\n",
      "|2010-01-11|    212.8|    213.0|208.45001|   210.11|115557400|27.221758|\n",
      "|2010-01-12|   209.19|209.76999|   206.42|   207.72|148614900| 26.91211|\n",
      "|2010-01-13|207.87001|   210.93|204.09999|210.65001|151473000| 27.29172|\n",
      "|2010-01-14|   210.11|210.45999|   209.02|   209.43|108223500|27.133657|\n",
      "|2010-01-15|   210.93|211.59999|   205.87|   205.93|148516900|26.680199|\n",
      "+----------+---------+---------+---------+---------+---------+---------+\n",
      "only showing top 10 rows\n",
      "\n"
     ]
    }
   ],
   "source": [
    "spark = SparkSession.builder.getOrCreate()\n",
    "\n",
    "schema = StructType([\n",
    "    StructField(\"Date\", DateType(), True),\n",
    "    StructField(\"Open\", FloatType(), True),\n",
    "    StructField(\"High\", FloatType(), True),\n",
    "    StructField(\"Low\", FloatType(), True),\n",
    "    StructField(\"Close\", FloatType(), True),\n",
    "    StructField(\"Volume\", LongType(), True),\n",
    "    StructField(\"Adj Close\", FloatType(), True)\n",
    "])\n",
    "\n",
    "df = spark.read.option(\"header\", True).schema(schema).csv(\"stocks.csv\")\n",
    "\n",
    "show_dataframe_info(df,10)"
   ]
  },
  {
   "cell_type": "markdown",
   "metadata": {},
   "source": [
    "## Question 3 : Select opening, closing and volume for record with closing less than 500"
   ]
  },
  {
   "cell_type": "code",
   "execution_count": 11,
   "metadata": {},
   "outputs": [
    {
     "name": "stdout",
     "output_type": "stream",
     "text": [
      "Schema:\n",
      "root\n",
      " |-- Open: float (nullable = true)\n",
      " |-- Close: float (nullable = true)\n",
      " |-- Volume: long (nullable = true)\n",
      "\n",
      "Number of Rows: 1359\n",
      "First Few Rows:\n",
      "+---------+---------+---------+\n",
      "|     Open|    Close|   Volume|\n",
      "+---------+---------+---------+\n",
      "|   213.43|   214.01|123432400|\n",
      "|214.59999|214.37999|150476200|\n",
      "|214.37999|   210.97|138040000|\n",
      "|   211.75|   210.58|119282800|\n",
      "|210.29999|211.98001|111902700|\n",
      "|    212.8|   210.11|115557400|\n",
      "|   209.19|   207.72|148614900|\n",
      "|207.87001|210.65001|151473000|\n",
      "|   210.11|   209.43|108223500|\n",
      "|   210.93|   205.93|148516900|\n",
      "|   208.33|   215.04|182501900|\n",
      "|   214.91|   211.73|153038200|\n",
      "|212.07999|208.06999|152038600|\n",
      "|   206.78|   197.75|220441900|\n",
      "|   202.51|   203.07|266424900|\n",
      "|   205.95|   205.94|466777500|\n",
      "|206.84999|   207.88|430642100|\n",
      "|204.93001|   199.29|293375600|\n",
      "|   201.08|   192.06|311488100|\n",
      "|   192.37|   194.73|187469100|\n",
      "|   195.91|   195.86|174585600|\n",
      "|   195.17|   199.23|153832000|\n",
      "|   196.73|   192.05|189413000|\n",
      "|   192.63|   195.46|212576700|\n",
      "|   195.69|   194.12|119567700|\n",
      "|   196.42|   196.19|158221700|\n",
      "|   195.89|195.12001| 92590400|\n",
      "|   194.88|   198.67|137586400|\n",
      "|   198.11|200.37999|163867200|\n",
      "|   201.94|    203.4|135934400|\n",
      "+---------+---------+---------+\n",
      "only showing top 30 rows\n",
      "\n"
     ]
    }
   ],
   "source": [
    "q3_df = df.where(df[\"Close\"]<500).select(\"Open\",\"Close\",\"Volume\")\n",
    "show_dataframe_info(q3_df,30)"
   ]
  },
  {
   "cell_type": "markdown",
   "metadata": {},
   "source": [
    "## Question 4 : records with opening price more than 200 and closing price less than 200."
   ]
  },
  {
   "cell_type": "code",
   "execution_count": 28,
   "metadata": {},
   "outputs": [
    {
     "name": "stdout",
     "output_type": "stream",
     "text": [
      "Schema:\n",
      "root\n",
      " |-- Date: date (nullable = true)\n",
      " |-- Open: float (nullable = true)\n",
      " |-- High: float (nullable = true)\n",
      " |-- Low: float (nullable = true)\n",
      " |-- Close: float (nullable = true)\n",
      " |-- Volume: long (nullable = true)\n",
      " |-- Adj Close: float (nullable = true)\n",
      "\n",
      "Number of Rows: 3\n",
      "First Few Rows:\n",
      "+----------+---------+-----+------+------+---------+---------+\n",
      "|      Date|     Open| High|   Low| Close|   Volume|Adj Close|\n",
      "+----------+---------+-----+------+------+---------+---------+\n",
      "|2010-01-22|   206.78|207.5|197.16|197.75|220441900|25.620401|\n",
      "|2010-01-28|204.93001|205.5| 198.7|199.29|293375600|25.819921|\n",
      "|2010-01-29|   201.08|202.2|190.25|192.06|311488100|24.883207|\n",
      "+----------+---------+-----+------+------+---------+---------+\n",
      "\n"
     ]
    }
   ],
   "source": [
    "q4_df = df.filter((df[\"Open\"] > 200) & (df[\"Close\"] < 200))\n",
    "show_dataframe_info(q4_df)"
   ]
  },
  {
   "cell_type": "markdown",
   "metadata": {},
   "source": [
    "## Question 5 : Extract the year from the date and save it in a new column."
   ]
  },
  {
   "cell_type": "code",
   "execution_count": 29,
   "metadata": {},
   "outputs": [
    {
     "name": "stdout",
     "output_type": "stream",
     "text": [
      "Schema:\n",
      "root\n",
      " |-- Date: date (nullable = true)\n",
      " |-- Open: float (nullable = true)\n",
      " |-- High: float (nullable = true)\n",
      " |-- Low: float (nullable = true)\n",
      " |-- Close: float (nullable = true)\n",
      " |-- Volume: long (nullable = true)\n",
      " |-- Adj Close: float (nullable = true)\n",
      " |-- year: integer (nullable = true)\n",
      "\n",
      "Number of Rows: 1762\n",
      "First Few Rows:\n",
      "+----------+---------+---------+---------+---------+---------+---------+----+\n",
      "|      Date|     Open|     High|      Low|    Close|   Volume|Adj Close|year|\n",
      "+----------+---------+---------+---------+---------+---------+---------+----+\n",
      "|2010-01-04|   213.43|    214.5|   212.38|   214.01|123432400| 27.72704|2010|\n",
      "|2010-01-05|214.59999|   215.59|   213.25|214.37999|150476200|27.774977|2010|\n",
      "|2010-01-06|214.37999|   215.23|   210.75|   210.97|138040000|27.333178|2010|\n",
      "|2010-01-07|   211.75|    212.0|   209.05|   210.58|119282800| 27.28265|2010|\n",
      "|2010-01-08|210.29999|    212.0|   209.06|211.98001|111902700|27.464033|2010|\n",
      "|2010-01-11|    212.8|    213.0|208.45001|   210.11|115557400|27.221758|2010|\n",
      "|2010-01-12|   209.19|209.76999|   206.42|   207.72|148614900| 26.91211|2010|\n",
      "|2010-01-13|207.87001|   210.93|204.09999|210.65001|151473000| 27.29172|2010|\n",
      "|2010-01-14|   210.11|210.45999|   209.02|   209.43|108223500|27.133657|2010|\n",
      "|2010-01-15|   210.93|211.59999|   205.87|   205.93|148516900|26.680199|2010|\n",
      "+----------+---------+---------+---------+---------+---------+---------+----+\n",
      "only showing top 10 rows\n",
      "\n"
     ]
    }
   ],
   "source": [
    "q5_df = df.withColumn('year', year(df['Date']))\n",
    "show_dataframe_info(q5_df)"
   ]
  },
  {
   "cell_type": "markdown",
   "metadata": {},
   "source": [
    "## Question 6 : show the minimum volumes traded for each year."
   ]
  },
  {
   "cell_type": "code",
   "execution_count": 47,
   "metadata": {},
   "outputs": [
    {
     "name": "stdout",
     "output_type": "stream",
     "text": [
      "+----+---------+\n",
      "|year|minVolume|\n",
      "+----+---------+\n",
      "|2015| 13046400|\n",
      "|2013| 41888700|\n",
      "|2014| 14479600|\n",
      "|2012| 43938300|\n",
      "|2016| 11475900|\n",
      "|2010| 39373600|\n",
      "|2011| 44915500|\n",
      "+----+---------+\n",
      "\n"
     ]
    }
   ],
   "source": [
    "q6_df=q5_df.groupby(\"year\").agg(min(\"Volume\").alias(\"minVolume\"))\n",
    "q6_df.show()"
   ]
  },
  {
   "cell_type": "markdown",
   "metadata": {},
   "source": [
    "## Question 7 : Show the highest low price for each year and month"
   ]
  },
  {
   "cell_type": "code",
   "execution_count": 56,
   "metadata": {},
   "outputs": [
    {
     "name": "stdout",
     "output_type": "stream",
     "text": [
      "Schema:\n",
      "root\n",
      " |-- year: integer (nullable = true)\n",
      " |-- month(Date): integer (nullable = true)\n",
      " |-- minVolume: long (nullable = true)\n",
      "\n",
      "Number of Rows: 84\n",
      "First Few Rows:\n",
      "+----+-----------+---------+\n",
      "|year|month(Date)|minVolume|\n",
      "+----+-----------+---------+\n",
      "|2012|         10| 92681400|\n",
      "|2010|          7|105137900|\n",
      "|2010|         12| 39373600|\n",
      "|2015|          2| 37362400|\n",
      "|2014|          4| 40586000|\n",
      "|2015|         12| 13570400|\n",
      "|2016|          7| 23779900|\n",
      "|2016|         11| 11475900|\n",
      "|2012|          8| 48734700|\n",
      "|2013|          2| 80628800|\n",
      "|2012|          4|101680600|\n",
      "|2012|         12| 43938300|\n",
      "|2014|         10| 34187700|\n",
      "|2016|          5| 28719100|\n",
      "|2014|         12| 14479600|\n",
      "|2013|          9| 57010100|\n",
      "|2013|         10| 62775300|\n",
      "|2014|          5| 39934300|\n",
      "|2016|          2| 27582700|\n",
      "|2013|         12| 41888700|\n",
      "|2014|          1| 57319500|\n",
      "|2010|         11| 59396400|\n",
      "|2011|          3| 68504800|\n",
      "|2013|          3| 73573500|\n",
      "|2014|          8| 28116000|\n",
      "|2013|          6| 48756400|\n",
      "|2010|          6|136439800|\n",
      "|2012|          7| 60428200|\n",
      "|2012|          9| 81718700|\n",
      "|2015|          4| 25524600|\n",
      "|2010|          5|113585500|\n",
      "|2015|          8| 34560700|\n",
      "|2016|          9| 24607400|\n",
      "|2010|          9| 85639400|\n",
      "|2011|          2| 64738800|\n",
      "|2011|          4| 66636500|\n",
      "|2011|         12| 44915500|\n",
      "|2015|         11| 13046400|\n",
      "|2011|          8|101317300|\n",
      "|2016|         10| 20034600|\n",
      "|2015|          9| 35756700|\n",
      "|2013|          7| 49747600|\n",
      "|2014|          9| 37299400|\n",
      "|2013|          4| 59653300|\n",
      "|2014|          3| 42167300|\n",
      "|2015|         10| 29759200|\n",
      "|2016|          6| 20848100|\n",
      "|2013|         11| 48479200|\n",
      "|2011|          5| 50899800|\n",
      "|2013|          5| 69041700|\n",
      "|2011|          7| 88763500|\n",
      "|2010|          8| 72274300|\n",
      "|2016|         12| 14249500|\n",
      "|2014|          2| 57988000|\n",
      "|2012|         11| 68206600|\n",
      "|2016|          1| 49154200|\n",
      "|2016|          4| 23581700|\n",
      "|2014|          6| 29726000|\n",
      "|2011|          6| 68772200|\n",
      "|2010|         10| 93194500|\n",
      "|2015|          3| 31666300|\n",
      "|2010|          2| 92590400|\n",
      "|2010|          3| 85527400|\n",
      "|2011|         11| 63690200|\n",
      "|2012|          1| 53146800|\n",
      "|2015|          7| 27211000|\n",
      "|2012|          2| 46699100|\n",
      "|2014|         11| 24814400|\n",
      "|2015|          6| 30268900|\n",
      "|2010|          4| 76552700|\n",
      "|2012|          3|101820600|\n",
      "|2011|         10| 80710700|\n",
      "|2012|          5| 82126800|\n",
      "|2013|          1| 79833600|\n",
      "|2013|          8| 51562700|\n",
      "|2016|          8| 18660400|\n",
      "|2015|          1| 40105900|\n",
      "|2011|          1| 63879900|\n",
      "|2015|          5| 30733300|\n",
      "|2010|          1|108223500|\n",
      "|2012|          6| 50749300|\n",
      "|2011|          9| 85931300|\n",
      "|2014|          7| 22891800|\n",
      "|2016|          3| 19411400|\n",
      "+----+-----------+---------+\n",
      "\n"
     ]
    }
   ],
   "source": [
    "q7_df=q5_df.groupby([\"year\",month(df[\"Date\"])]).agg(min(\"Volume\").alias(\"minVolume\"))\n",
    "show_dataframe_info(q7_df,84)"
   ]
  },
  {
   "cell_type": "markdown",
   "metadata": {},
   "source": [
    "## Question 8 : Mean and standard deviation of high price over the whole data frame."
   ]
  },
  {
   "cell_type": "code",
   "execution_count": 61,
   "metadata": {},
   "outputs": [
    {
     "name": "stdout",
     "output_type": "stream",
     "text": [
      "Schema:\n",
      "root\n",
      " |-- Stddev High Price: double (nullable = true)\n",
      " |-- Mean High Price: double (nullable = true)\n",
      "\n",
      "Number of Rows: 1\n",
      "First Few Rows:\n",
      "+-----------------+-----------------+\n",
      "|Stddev High Price|  Mean High Price|\n",
      "+-----------------+-----------------+\n",
      "|186.8981766989906|315.9112879420788|\n",
      "+-----------------+-----------------+\n",
      "\n"
     ]
    }
   ],
   "source": [
    "q8_df = df.agg(stddev(\"High\").alias(\"Stddev High Price\"),mean(\"High\").alias(\"Mean High Price\"))\n",
    "show_dataframe_info(q8_df)"
   ]
  },
  {
   "cell_type": "markdown",
   "metadata": {},
   "source": [
    "## Main Task"
   ]
  },
  {
   "cell_type": "code",
   "execution_count": null,
   "metadata": {},
   "outputs": [],
   "source": []
  },
  {
   "cell_type": "markdown",
   "metadata": {},
   "source": [
    "## Questions\n",
    "### 1. Read about how Spark and Hadoop work. What does the term ‘lazy evaluation’ mean for them? Explain with a simple example"
   ]
  },
  {
   "cell_type": "markdown",
   "metadata": {},
   "source": []
  }
 ],
 "metadata": {
  "kernelspec": {
   "display_name": "Python 3",
   "language": "python",
   "name": "python3"
  },
  "language_info": {
   "codemirror_mode": {
    "name": "ipython",
    "version": 3
   },
   "file_extension": ".py",
   "mimetype": "text/x-python",
   "name": "python",
   "nbconvert_exporter": "python",
   "pygments_lexer": "ipython3",
   "version": "3.10.12"
  }
 },
 "nbformat": 4,
 "nbformat_minor": 2
}

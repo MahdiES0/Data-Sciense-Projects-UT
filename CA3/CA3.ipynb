{
 "cells": [
  {
   "cell_type": "markdown",
   "metadata": {},
   "source": [
    "<h1 style=\"text-align: center; font-weight: bold;\">Data Sciense Course - Spring 1403</h1>\n",
    "<h1 style=\"text-align: center; font-weight: bold;\">Computer Assignment 3 - Introduction to Data Science </h1>\n",
    "<h1 style=\"text-align: center;\">Mohammadreza Mohammadhashemi : 810100206</h1>\n",
    "<h1 style=\"text-align: center;\">Soheil Hajian Manesh : 810100119</h1>\n",
    "<h1 style=\"text-align: center;\">Mahdi Ebrahimi Soltani : 810100241</h1>"
   ]
  },
  {
   "cell_type": "markdown",
   "metadata": {},
   "source": [
    "# Problem Description\n",
    "In this assignment, we work with PySpark, which is the Python API for Apache Spark. It enables performing real-time, large-scale data processing in a distributed environment using Python."
   ]
  },
  {
   "cell_type": "code",
   "execution_count": 2,
   "metadata": {},
   "outputs": [
    {
     "data": {
      "text/html": [
       "<style>pre { white-space: pre !important; }</style>"
      ],
      "text/plain": [
       "<IPython.core.display.HTML object>"
      ]
     },
     "metadata": {},
     "output_type": "display_data"
    }
   ],
   "source": [
    "from IPython.display import display, HTML\n",
    "display(HTML('<style>pre { white-space: pre !important; }</style>'))"
   ]
  },
  {
   "cell_type": "code",
   "execution_count": 25,
   "metadata": {},
   "outputs": [],
   "source": [
    "from pyspark.sql import SparkSession\n",
    "from pyspark.sql import DataFrame\n",
    "from pyspark.sql.types import StructType, StructField, FloatType, DateType, LongType"
   ]
  },
  {
   "cell_type": "markdown",
   "metadata": {},
   "source": [
    "# Warm-Up!"
   ]
  },
  {
   "cell_type": "code",
   "execution_count": 23,
   "metadata": {},
   "outputs": [],
   "source": [
    "def show_dataframe_info(df: DataFrame,num_of_rows):\n",
    "    print(\"Schema:\")\n",
    "    df.printSchema()\n",
    "    print(f\"Number of Rows: {df.count()}\")\n",
    "    print(\"First Few Rows:\")\n",
    "    df.show(num_of_rows)  "
   ]
  },
  {
   "cell_type": "markdown",
   "metadata": {},
   "source": [
    "## Question 1,2: Read & findout schema of data. "
   ]
  },
  {
   "cell_type": "code",
   "execution_count": 26,
   "metadata": {},
   "outputs": [
    {
     "name": "stdout",
     "output_type": "stream",
     "text": [
      "Schema:\n",
      "root\n",
      " |-- Date: date (nullable = true)\n",
      " |-- Open: float (nullable = true)\n",
      " |-- High: float (nullable = true)\n",
      " |-- Low: float (nullable = true)\n",
      " |-- Close: float (nullable = true)\n",
      " |-- Volume: long (nullable = true)\n",
      " |-- Adj Close: float (nullable = true)\n",
      "\n",
      "Number of Rows: 1762\n",
      "First Few Rows:\n",
      "+----------+---------+---------+---------+---------+---------+---------+\n",
      "|      Date|     Open|     High|      Low|    Close|   Volume|Adj Close|\n",
      "+----------+---------+---------+---------+---------+---------+---------+\n",
      "|2010-01-04|   213.43|    214.5|   212.38|   214.01|123432400| 27.72704|\n",
      "|2010-01-05|214.59999|   215.59|   213.25|214.37999|150476200|27.774977|\n",
      "|2010-01-06|214.37999|   215.23|   210.75|   210.97|138040000|27.333178|\n",
      "|2010-01-07|   211.75|    212.0|   209.05|   210.58|119282800| 27.28265|\n",
      "|2010-01-08|210.29999|    212.0|   209.06|211.98001|111902700|27.464033|\n",
      "|2010-01-11|    212.8|    213.0|208.45001|   210.11|115557400|27.221758|\n",
      "|2010-01-12|   209.19|209.76999|   206.42|   207.72|148614900| 26.91211|\n",
      "|2010-01-13|207.87001|   210.93|204.09999|210.65001|151473000| 27.29172|\n",
      "|2010-01-14|   210.11|210.45999|   209.02|   209.43|108223500|27.133657|\n",
      "|2010-01-15|   210.93|211.59999|   205.87|   205.93|148516900|26.680199|\n",
      "+----------+---------+---------+---------+---------+---------+---------+\n",
      "only showing top 10 rows\n",
      "\n"
     ]
    }
   ],
   "source": [
    "spark = SparkSession.builder.getOrCreate()\n",
    "\n",
    "schema = StructType([\n",
    "    StructField(\"Date\", DateType(), True),\n",
    "    StructField(\"Open\", FloatType(), True),\n",
    "    StructField(\"High\", FloatType(), True),\n",
    "    StructField(\"Low\", FloatType(), True),\n",
    "    StructField(\"Close\", FloatType(), True),\n",
    "    StructField(\"Volume\", LongType(), True),\n",
    "    StructField(\"Adj Close\", FloatType(), True)\n",
    "])\n",
    "\n",
    "df = spark.read.option(\"header\", True).schema(schema).csv(\"stocks.csv\")\n",
    "\n",
    "show_dataframe_info(df,10)"
   ]
  },
  {
   "cell_type": "code",
   "execution_count": null,
   "metadata": {},
   "outputs": [],
   "source": []
  }
 ],
 "metadata": {
  "kernelspec": {
   "display_name": "Python 3",
   "language": "python",
   "name": "python3"
  },
  "language_info": {
   "codemirror_mode": {
    "name": "ipython",
    "version": 3
   },
   "file_extension": ".py",
   "mimetype": "text/x-python",
   "name": "python",
   "nbconvert_exporter": "python",
   "pygments_lexer": "ipython3",
   "version": "3.10.12"
  }
 },
 "nbformat": 4,
 "nbformat_minor": 2
}
